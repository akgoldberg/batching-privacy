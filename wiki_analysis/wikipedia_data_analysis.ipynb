{
 "cells": [
  {
   "cell_type": "code",
   "execution_count": 1,
   "id": "b35a0c03",
   "metadata": {},
   "outputs": [],
   "source": [
    "import pandas as pd\n",
    "import numpy as np\n",
    "\n",
    "import datetime as dt\n",
    "import time\n",
    "from functools import reduce\n",
    "from multiprocess import Pool, cpu_count\n",
    "\n",
    "import matplotlib.pyplot as plt\n",
    "\n",
    "import requests\n",
    "from bs4 import BeautifulSoup\n",
    "import re\n",
    "from string import ascii_uppercase as auc"
   ]
  },
  {
   "cell_type": "code",
   "execution_count": 9,
   "id": "00959603",
   "metadata": {},
   "outputs": [],
   "source": [
    "## LOAD DATA\n",
    "df = pd.read_csv('wiki_data_all.csv', index_col=0)\n",
    "\n",
    "for t in ['15', '30', '60']:\n",
    "    with open(f'batches_{t}.npy', 'rb') as f:\n",
    "        batches = np.load(f, allow_pickle=True)\n",
    "        df_batches = pd.DataFrame(batches, columns=['revid', f'batchid_{t}'])\n",
    "        df_batches['revid'] = df_batches['revid'].astype(int)\n",
    "    \n",
    "    df = df.set_index('revid').join(df_batches.set_index('revid')).reset_index()\n",
    "    df[f'batchid_{t}'] = df[f'batchid_{t}'].fillna(df.revid)"
   ]
  },
  {
   "cell_type": "code",
   "execution_count": 10,
   "id": "a66b5167",
   "metadata": {},
   "outputs": [
    {
     "data": {
      "text/html": [
       "<div>\n",
       "<style scoped>\n",
       "    .dataframe tbody tr th:only-of-type {\n",
       "        vertical-align: middle;\n",
       "    }\n",
       "\n",
       "    .dataframe tbody tr th {\n",
       "        vertical-align: top;\n",
       "    }\n",
       "\n",
       "    .dataframe thead th {\n",
       "        text-align: right;\n",
       "    }\n",
       "</style>\n",
       "<table border=\"1\" class=\"dataframe\">\n",
       "  <thead>\n",
       "    <tr style=\"text-align: right;\">\n",
       "      <th></th>\n",
       "      <th>revid</th>\n",
       "      <th>user</th>\n",
       "      <th>userid</th>\n",
       "      <th>userhidden</th>\n",
       "      <th>timestamp</th>\n",
       "      <th>anon</th>\n",
       "      <th>commenthidden</th>\n",
       "      <th>page</th>\n",
       "      <th>pageid</th>\n",
       "      <th>batchid_15</th>\n",
       "      <th>batchid_30</th>\n",
       "      <th>batchid_60</th>\n",
       "    </tr>\n",
       "  </thead>\n",
       "  <tbody>\n",
       "    <tr>\n",
       "      <th>0</th>\n",
       "      <td>1063058808</td>\n",
       "      <td>Reywas92</td>\n",
       "      <td>1233313.0</td>\n",
       "      <td>False</td>\n",
       "      <td>2022-01-01 00:00:00</td>\n",
       "      <td>False</td>\n",
       "      <td>False</td>\n",
       "      <td>Betty_White</td>\n",
       "      <td>415045</td>\n",
       "      <td>1063058808</td>\n",
       "      <td>1063058808</td>\n",
       "      <td>1063058808</td>\n",
       "    </tr>\n",
       "    <tr>\n",
       "      <th>1</th>\n",
       "      <td>1063058809</td>\n",
       "      <td>99.237.103.147</td>\n",
       "      <td>0.0</td>\n",
       "      <td>False</td>\n",
       "      <td>2022-01-01 00:00:00</td>\n",
       "      <td>True</td>\n",
       "      <td>False</td>\n",
       "      <td>ARM_Cortex-A78</td>\n",
       "      <td>64280898</td>\n",
       "      <td>1063058809</td>\n",
       "      <td>1063058809</td>\n",
       "      <td>1063058809</td>\n",
       "    </tr>\n",
       "    <tr>\n",
       "      <th>2</th>\n",
       "      <td>1063058810</td>\n",
       "      <td>Dmoore5556</td>\n",
       "      <td>29278485.0</td>\n",
       "      <td>False</td>\n",
       "      <td>2022-01-01 00:00:01</td>\n",
       "      <td>False</td>\n",
       "      <td>False</td>\n",
       "      <td>2021_Cotton_Bowl_Classic</td>\n",
       "      <td>67976697</td>\n",
       "      <td>1063058810</td>\n",
       "      <td>1063058810</td>\n",
       "      <td>1063058810</td>\n",
       "    </tr>\n",
       "    <tr>\n",
       "      <th>3</th>\n",
       "      <td>1063058811</td>\n",
       "      <td>Extraordinary Writ</td>\n",
       "      <td>39795743.0</td>\n",
       "      <td>False</td>\n",
       "      <td>2022-01-01 00:00:00</td>\n",
       "      <td>False</td>\n",
       "      <td>False</td>\n",
       "      <td>Francis_Moorehouse</td>\n",
       "      <td>34931769</td>\n",
       "      <td>1063058811</td>\n",
       "      <td>1063058811</td>\n",
       "      <td>1063058811</td>\n",
       "    </tr>\n",
       "    <tr>\n",
       "      <th>4</th>\n",
       "      <td>1063058812</td>\n",
       "      <td>Twozenhauer</td>\n",
       "      <td>14955567.0</td>\n",
       "      <td>False</td>\n",
       "      <td>2022-01-01 00:00:01</td>\n",
       "      <td>False</td>\n",
       "      <td>False</td>\n",
       "      <td>Trouble_(1931_film)</td>\n",
       "      <td>69644588</td>\n",
       "      <td>1063058812</td>\n",
       "      <td>1063058812</td>\n",
       "      <td>1063058812</td>\n",
       "    </tr>\n",
       "  </tbody>\n",
       "</table>\n",
       "</div>"
      ],
      "text/plain": [
       "        revid                user      userid  userhidden  \\\n",
       "0  1063058808            Reywas92   1233313.0       False   \n",
       "1  1063058809      99.237.103.147         0.0       False   \n",
       "2  1063058810          Dmoore5556  29278485.0       False   \n",
       "3  1063058811  Extraordinary Writ  39795743.0       False   \n",
       "4  1063058812         Twozenhauer  14955567.0       False   \n",
       "\n",
       "             timestamp   anon  commenthidden                      page  \\\n",
       "0  2022-01-01 00:00:00  False          False               Betty_White   \n",
       "1  2022-01-01 00:00:00   True          False            ARM_Cortex-A78   \n",
       "2  2022-01-01 00:00:01  False          False  2021_Cotton_Bowl_Classic   \n",
       "3  2022-01-01 00:00:00  False          False        Francis_Moorehouse   \n",
       "4  2022-01-01 00:00:01  False          False       Trouble_(1931_film)   \n",
       "\n",
       "     pageid  batchid_15  batchid_30  batchid_60  \n",
       "0    415045  1063058808  1063058808  1063058808  \n",
       "1  64280898  1063058809  1063058809  1063058809  \n",
       "2  67976697  1063058810  1063058810  1063058810  \n",
       "3  34931769  1063058811  1063058811  1063058811  \n",
       "4  69644588  1063058812  1063058812  1063058812  "
      ]
     },
     "execution_count": 10,
     "metadata": {},
     "output_type": "execute_result"
    }
   ],
   "source": [
    "df.head()"
   ]
  },
  {
   "cell_type": "code",
   "execution_count": 11,
   "id": "c20271d6",
   "metadata": {},
   "outputs": [
    {
     "data": {
      "text/plain": [
       "('2022-01-01 00:00:00', '2022-02-01 00:00:00')"
      ]
     },
     "execution_count": 11,
     "metadata": {},
     "output_type": "execute_result"
    }
   ],
   "source": [
    "df.timestamp.min(), df.timestamp.max()"
   ]
  },
  {
   "cell_type": "code",
   "execution_count": 6,
   "id": "64a06865",
   "metadata": {},
   "outputs": [
    {
     "name": "stdout",
     "output_type": "stream",
     "text": [
      "CPU times: user 37.8 s, sys: 327 ms, total: 38.1 s\n",
      "Wall time: 39.8 s\n"
     ]
    }
   ],
   "source": [
    "%%time\n",
    "# put timestamps into datetime\n",
    "df['dt_timestamp'] = df.timestamp.apply(lambda t: dt.datetime.strptime(t, '%Y-%m-%d %H:%M:%S'))"
   ]
  },
  {
   "cell_type": "code",
   "execution_count": 22,
   "id": "9e5d1636",
   "metadata": {},
   "outputs": [],
   "source": [
    "g = df.groupby('batchid_15').pageid.nunique()\n",
    "pct_15 = df[df.batchid_15.isin(g[g>1].index)].shape[0] / df.shape[0]\n",
    "\n",
    "g = df.groupby('batchid_30').pageid.nunique()\n",
    "pct_30 = df[df.batchid_30.isin(g[g>1].index)].shape[0] / df.shape[0]\n",
    "\n",
    "g = df.groupby('batchid_60').pageid.nunique()\n",
    "pct_60 = df[df.batchid_60.isin(g[g>1].index)].shape[0] / df.shape[0]"
   ]
  },
  {
   "cell_type": "code",
   "execution_count": 23,
   "id": "53090b3e",
   "metadata": {},
   "outputs": [
    {
     "data": {
      "text/plain": [
       "(0.65825409492516, 0.702480254269096, 0.735061410509022)"
      ]
     },
     "execution_count": 23,
     "metadata": {},
     "output_type": "execute_result"
    }
   ],
   "source": [
    "pct_15, pct_30, pct_60"
   ]
  },
  {
   "cell_type": "code",
   "execution_count": 7,
   "id": "ba765c1e",
   "metadata": {},
   "outputs": [],
   "source": [
    "g = df.groupby('user').pageid.nunique()"
   ]
  },
  {
   "cell_type": "code",
   "execution_count": 8,
   "id": "36697b5b",
   "metadata": {},
   "outputs": [
    {
     "data": {
      "text/plain": [
       "(3872914, 359919, 25.127320313737258, 18.484479645042466, 88.80258119739803)"
      ]
     },
     "execution_count": 8,
     "metadata": {},
     "output_type": "execute_result"
    }
   ],
   "source": [
    "n_revisions = df.shape[0]\n",
    "n_users = len(g)\n",
    "pct_multiple_page_edits = len(g[g>1]) / len(g)\n",
    "pct_anon = df[df.anon].shape[0] / n_revisions\n",
    "pct_revisions_multi = g[g>1].sum() / g.sum()\n",
    "\n",
    "n_revisions, n_users, pct_multiple_page_edits*100, pct_anon * 100, pct_revisions_multi * 100"
   ]
  },
  {
   "cell_type": "code",
   "execution_count": 17,
   "id": "d4220d16",
   "metadata": {},
   "outputs": [
    {
     "data": {
      "text/html": [
       "<div>\n",
       "<style scoped>\n",
       "    .dataframe tbody tr th:only-of-type {\n",
       "        vertical-align: middle;\n",
       "    }\n",
       "\n",
       "    .dataframe tbody tr th {\n",
       "        vertical-align: top;\n",
       "    }\n",
       "\n",
       "    .dataframe thead th {\n",
       "        text-align: right;\n",
       "    }\n",
       "</style>\n",
       "<table border=\"1\" class=\"dataframe\">\n",
       "  <thead>\n",
       "    <tr style=\"text-align: right;\">\n",
       "      <th></th>\n",
       "      <th>user</th>\n",
       "      <th>userid</th>\n",
       "      <th>userhidden</th>\n",
       "      <th>timestamp</th>\n",
       "      <th>anon</th>\n",
       "      <th>commenthidden</th>\n",
       "      <th>revid</th>\n",
       "      <th>page</th>\n",
       "      <th>pageid</th>\n",
       "      <th>dt_timestamp</th>\n",
       "    </tr>\n",
       "  </thead>\n",
       "  <tbody>\n",
       "    <tr>\n",
       "      <th>9559</th>\n",
       "      <td>(Na(Boo)mBap)</td>\n",
       "      <td>40672539.0</td>\n",
       "      <td>False</td>\n",
       "      <td>2022-01-09 13:08:22</td>\n",
       "      <td>False</td>\n",
       "      <td>False</td>\n",
       "      <td>1064644081</td>\n",
       "      <td>Everyone_Says_I_Love_You</td>\n",
       "      <td>42225</td>\n",
       "      <td>2022-01-09 13:08:22</td>\n",
       "    </tr>\n",
       "    <tr>\n",
       "      <th>100618</th>\n",
       "      <td>(Na(Boo)mBap)</td>\n",
       "      <td>40672539.0</td>\n",
       "      <td>False</td>\n",
       "      <td>2022-01-10 13:20:58</td>\n",
       "      <td>False</td>\n",
       "      <td>False</td>\n",
       "      <td>1064840481</td>\n",
       "      <td>Alien_vs._Predator</td>\n",
       "      <td>511332</td>\n",
       "      <td>2022-01-10 13:20:58</td>\n",
       "    </tr>\n",
       "    <tr>\n",
       "      <th>11961</th>\n",
       "      <td>(Na(Boo)mBap)</td>\n",
       "      <td>40672539.0</td>\n",
       "      <td>False</td>\n",
       "      <td>2022-01-16 17:05:03</td>\n",
       "      <td>False</td>\n",
       "      <td>False</td>\n",
       "      <td>1066064992</td>\n",
       "      <td>Diane_Morgan</td>\n",
       "      <td>32780992</td>\n",
       "      <td>2022-01-16 17:05:03</td>\n",
       "    </tr>\n",
       "    <tr>\n",
       "      <th>2225</th>\n",
       "      <td>(Na(Boo)mBap)</td>\n",
       "      <td>40672539.0</td>\n",
       "      <td>False</td>\n",
       "      <td>2022-01-24 13:07:28</td>\n",
       "      <td>False</td>\n",
       "      <td>False</td>\n",
       "      <td>1067640917</td>\n",
       "      <td>Hannah_Murray</td>\n",
       "      <td>9279949</td>\n",
       "      <td>2022-01-24 13:07:28</td>\n",
       "    </tr>\n",
       "    <tr>\n",
       "      <th>2224</th>\n",
       "      <td>(Na(Boo)mBap)</td>\n",
       "      <td>40672539.0</td>\n",
       "      <td>False</td>\n",
       "      <td>2022-01-24 13:08:15</td>\n",
       "      <td>False</td>\n",
       "      <td>False</td>\n",
       "      <td>1067641107</td>\n",
       "      <td>Hannah_Murray</td>\n",
       "      <td>9279949</td>\n",
       "      <td>2022-01-24 13:08:15</td>\n",
       "    </tr>\n",
       "    <tr>\n",
       "      <th>11691</th>\n",
       "      <td>(Na(Boo)mBap)</td>\n",
       "      <td>40672539.0</td>\n",
       "      <td>False</td>\n",
       "      <td>2022-01-26 16:39:55</td>\n",
       "      <td>False</td>\n",
       "      <td>False</td>\n",
       "      <td>1068098036</td>\n",
       "      <td>Rosabell_Laurenti_Sellers</td>\n",
       "      <td>39522300</td>\n",
       "      <td>2022-01-26 16:39:55</td>\n",
       "    </tr>\n",
       "    <tr>\n",
       "      <th>20304</th>\n",
       "      <td>(Na(Boo)mBap)</td>\n",
       "      <td>40672539.0</td>\n",
       "      <td>False</td>\n",
       "      <td>2022-01-28 09:11:26</td>\n",
       "      <td>False</td>\n",
       "      <td>False</td>\n",
       "      <td>1068417677</td>\n",
       "      <td>Lawnmower_Deth</td>\n",
       "      <td>2955008</td>\n",
       "      <td>2022-01-28 09:11:26</td>\n",
       "    </tr>\n",
       "  </tbody>\n",
       "</table>\n",
       "</div>"
      ],
      "text/plain": [
       "                 user      userid  userhidden            timestamp   anon  \\\n",
       "9559    (Na(Boo)mBap)  40672539.0       False  2022-01-09 13:08:22  False   \n",
       "100618  (Na(Boo)mBap)  40672539.0       False  2022-01-10 13:20:58  False   \n",
       "11961   (Na(Boo)mBap)  40672539.0       False  2022-01-16 17:05:03  False   \n",
       "2225    (Na(Boo)mBap)  40672539.0       False  2022-01-24 13:07:28  False   \n",
       "2224    (Na(Boo)mBap)  40672539.0       False  2022-01-24 13:08:15  False   \n",
       "11691   (Na(Boo)mBap)  40672539.0       False  2022-01-26 16:39:55  False   \n",
       "20304   (Na(Boo)mBap)  40672539.0       False  2022-01-28 09:11:26  False   \n",
       "\n",
       "        commenthidden       revid                       page    pageid  \\\n",
       "9559            False  1064644081   Everyone_Says_I_Love_You     42225   \n",
       "100618          False  1064840481         Alien_vs._Predator    511332   \n",
       "11961           False  1066064992               Diane_Morgan  32780992   \n",
       "2225            False  1067640917              Hannah_Murray   9279949   \n",
       "2224            False  1067641107              Hannah_Murray   9279949   \n",
       "11691           False  1068098036  Rosabell_Laurenti_Sellers  39522300   \n",
       "20304           False  1068417677             Lawnmower_Deth   2955008   \n",
       "\n",
       "              dt_timestamp  \n",
       "9559   2022-01-09 13:08:22  \n",
       "100618 2022-01-10 13:20:58  \n",
       "11961  2022-01-16 17:05:03  \n",
       "2225   2022-01-24 13:07:28  \n",
       "2224   2022-01-24 13:08:15  \n",
       "11691  2022-01-26 16:39:55  \n",
       "20304  2022-01-28 09:11:26  "
      ]
     },
     "execution_count": 17,
     "metadata": {},
     "output_type": "execute_result"
    }
   ],
   "source": [
    "df[df.user == g[g>=5].index[3]].sort_values(by='timestamp')"
   ]
  },
  {
   "cell_type": "markdown",
   "id": "75c970c6",
   "metadata": {},
   "source": [
    "## Get math pages"
   ]
  },
  {
   "cell_type": "code",
   "execution_count": null,
   "id": "0b05071b",
   "metadata": {},
   "outputs": [],
   "source": [
    "BASE_MATH_URL = 'https://en.wikipedia.org/wiki/Wikipedia:WikiProject_Mathematics/List_of_mathematics_articles'\n",
    "\n",
    "def get_all_math_articles():\n",
    "    all_pages = df.page.unique()\n",
    "    \n",
    "    math_pages = []\n",
    "\n",
    "    for i in auc:\n",
    "        page = requests.get(f'{BASE_MATH_URL}_({i})') \n",
    "        soup = BeautifulSoup(page.content, 'html.parser') \n",
    "        \n",
    "        links = soup.select(\"a[href*=\\/wiki\\/]\")\n",
    "\n",
    "\n",
    "\n",
    "        for link in links:\n",
    "#             title = link.get('title')\n",
    "            href = link.get('href')\n",
    "            if match := re.search('\\/wiki\\/(.+)', href, re.IGNORECASE):\n",
    "                page = match.group(1)\n",
    "                if page is not None and page not in ['Privacy_policy']:\n",
    "                    math_pages += [page]\n",
    "        \n",
    "        return math_pages\n",
    "\n",
    "math_pages = np.unique(get_all_math_articles())\n",
    "math_df = df[df.page.isin(math_pages) & (~df.user.isin(['Citation bot', 'WikiCleanerBot', 'AnomieBOT']))]\n",
    "\n",
    "sum(math_df.groupby(['user'])['page'].nunique() > 1), math_df.user.nunique()"
   ]
  }
 ],
 "metadata": {
  "kernelspec": {
   "display_name": "Python [conda env:timing] *",
   "language": "python",
   "name": "conda-env-timing-py"
  },
  "language_info": {
   "codemirror_mode": {
    "name": "ipython",
    "version": 3
   },
   "file_extension": ".py",
   "mimetype": "text/x-python",
   "name": "python",
   "nbconvert_exporter": "python",
   "pygments_lexer": "ipython3",
   "version": "3.10.4"
  }
 },
 "nbformat": 4,
 "nbformat_minor": 5
}

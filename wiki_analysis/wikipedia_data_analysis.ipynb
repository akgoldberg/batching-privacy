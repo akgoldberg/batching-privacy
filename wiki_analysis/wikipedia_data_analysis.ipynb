{
 "cells": [
  {
   "cell_type": "code",
   "execution_count": 59,
   "id": "b35a0c03",
   "metadata": {},
   "outputs": [],
   "source": [
    "import pandas as pd\n",
    "import numpy as np\n",
    "import pywikibot\n",
    "\n",
    "import datetime as dt\n",
    "import time\n",
    "import matplotlib.pyplot as plt\n",
    "\n",
    "import requests\n",
    "from bs4 import BeautifulSoup\n",
    "import re\n",
    "from string import ascii_uppercase as auc\n",
    "\n",
    "import sys\n",
    "sys.path.append('..')\n",
    "from helpers import *\n",
    "import get_batches\n",
    "from importlib import reload\n",
    "\n",
    "from itertools import cycle"
   ]
  },
  {
   "cell_type": "code",
   "execution_count": 2,
   "id": "00959603",
   "metadata": {},
   "outputs": [],
   "source": [
    "## LOAD DATA ON ALL WIKIPEDIA\n",
    "df = pd.read_csv('wiki_data_all.csv', index_col=0)\n",
    "\n",
    "for t in ['5', '15', '30', '60']:\n",
    "    with open(f'batches_{t}.npy', 'rb') as f:\n",
    "        batches = np.load(f, allow_pickle=True)\n",
    "        df_batches = pd.DataFrame(batches, columns=['revid', f'batchid_{t}'])\n",
    "        df_batches['revid'] = df_batches['revid'].astype(int)\n",
    "    \n",
    "    df = df.set_index('revid').join(df_batches.set_index('revid')).reset_index()\n",
    "    df[f'batchid_{t}'] = df[f'batchid_{t}'].fillna(df.revid)"
   ]
  },
  {
   "cell_type": "code",
   "execution_count": 3,
   "id": "f2ce8fd6",
   "metadata": {},
   "outputs": [],
   "source": [
    "df['time'] = df.timestamp.apply(lambda t: dt.datetime.strptime(t, '%Y-%m-%d %H:%M:%S').timestamp())"
   ]
  },
  {
   "cell_type": "code",
   "execution_count": 4,
   "id": "a66b5167",
   "metadata": {},
   "outputs": [
    {
     "data": {
      "text/html": [
       "<div>\n",
       "<style scoped>\n",
       "    .dataframe tbody tr th:only-of-type {\n",
       "        vertical-align: middle;\n",
       "    }\n",
       "\n",
       "    .dataframe tbody tr th {\n",
       "        vertical-align: top;\n",
       "    }\n",
       "\n",
       "    .dataframe thead th {\n",
       "        text-align: right;\n",
       "    }\n",
       "</style>\n",
       "<table border=\"1\" class=\"dataframe\">\n",
       "  <thead>\n",
       "    <tr style=\"text-align: right;\">\n",
       "      <th></th>\n",
       "      <th>revid</th>\n",
       "      <th>user</th>\n",
       "      <th>userid</th>\n",
       "      <th>userhidden</th>\n",
       "      <th>timestamp</th>\n",
       "      <th>anon</th>\n",
       "      <th>commenthidden</th>\n",
       "      <th>page</th>\n",
       "      <th>pageid</th>\n",
       "      <th>batchid_5</th>\n",
       "      <th>batchid_15</th>\n",
       "      <th>batchid_30</th>\n",
       "      <th>batchid_60</th>\n",
       "      <th>time</th>\n",
       "    </tr>\n",
       "  </thead>\n",
       "  <tbody>\n",
       "    <tr>\n",
       "      <th>0</th>\n",
       "      <td>1063058808</td>\n",
       "      <td>Reywas92</td>\n",
       "      <td>1233313.0</td>\n",
       "      <td>False</td>\n",
       "      <td>2022-01-01 00:00:00</td>\n",
       "      <td>False</td>\n",
       "      <td>False</td>\n",
       "      <td>Betty_White</td>\n",
       "      <td>415045</td>\n",
       "      <td>1063058808</td>\n",
       "      <td>1063058808</td>\n",
       "      <td>1063058808</td>\n",
       "      <td>1063058808</td>\n",
       "      <td>1.641013e+09</td>\n",
       "    </tr>\n",
       "    <tr>\n",
       "      <th>1</th>\n",
       "      <td>1063058809</td>\n",
       "      <td>99.237.103.147</td>\n",
       "      <td>0.0</td>\n",
       "      <td>False</td>\n",
       "      <td>2022-01-01 00:00:00</td>\n",
       "      <td>True</td>\n",
       "      <td>False</td>\n",
       "      <td>ARM_Cortex-A78</td>\n",
       "      <td>64280898</td>\n",
       "      <td>1063058809</td>\n",
       "      <td>1063058809</td>\n",
       "      <td>1063058809</td>\n",
       "      <td>1063058809</td>\n",
       "      <td>1.641013e+09</td>\n",
       "    </tr>\n",
       "    <tr>\n",
       "      <th>2</th>\n",
       "      <td>1063058810</td>\n",
       "      <td>Dmoore5556</td>\n",
       "      <td>29278485.0</td>\n",
       "      <td>False</td>\n",
       "      <td>2022-01-01 00:00:01</td>\n",
       "      <td>False</td>\n",
       "      <td>False</td>\n",
       "      <td>2021_Cotton_Bowl_Classic</td>\n",
       "      <td>67976697</td>\n",
       "      <td>1063058810</td>\n",
       "      <td>1063058810</td>\n",
       "      <td>1063058810</td>\n",
       "      <td>1063058810</td>\n",
       "      <td>1.641013e+09</td>\n",
       "    </tr>\n",
       "    <tr>\n",
       "      <th>3</th>\n",
       "      <td>1063058811</td>\n",
       "      <td>Extraordinary Writ</td>\n",
       "      <td>39795743.0</td>\n",
       "      <td>False</td>\n",
       "      <td>2022-01-01 00:00:00</td>\n",
       "      <td>False</td>\n",
       "      <td>False</td>\n",
       "      <td>Francis_Moorehouse</td>\n",
       "      <td>34931769</td>\n",
       "      <td>1063058811</td>\n",
       "      <td>1063058811</td>\n",
       "      <td>1063058811</td>\n",
       "      <td>1063058811</td>\n",
       "      <td>1.641013e+09</td>\n",
       "    </tr>\n",
       "    <tr>\n",
       "      <th>4</th>\n",
       "      <td>1063058812</td>\n",
       "      <td>Twozenhauer</td>\n",
       "      <td>14955567.0</td>\n",
       "      <td>False</td>\n",
       "      <td>2022-01-01 00:00:01</td>\n",
       "      <td>False</td>\n",
       "      <td>False</td>\n",
       "      <td>Trouble_(1931_film)</td>\n",
       "      <td>69644588</td>\n",
       "      <td>1063058812</td>\n",
       "      <td>1063058812</td>\n",
       "      <td>1063058812</td>\n",
       "      <td>1063058812</td>\n",
       "      <td>1.641013e+09</td>\n",
       "    </tr>\n",
       "  </tbody>\n",
       "</table>\n",
       "</div>"
      ],
      "text/plain": [
       "        revid                user      userid  userhidden  \\\n",
       "0  1063058808            Reywas92   1233313.0       False   \n",
       "1  1063058809      99.237.103.147         0.0       False   \n",
       "2  1063058810          Dmoore5556  29278485.0       False   \n",
       "3  1063058811  Extraordinary Writ  39795743.0       False   \n",
       "4  1063058812         Twozenhauer  14955567.0       False   \n",
       "\n",
       "             timestamp   anon  commenthidden                      page  \\\n",
       "0  2022-01-01 00:00:00  False          False               Betty_White   \n",
       "1  2022-01-01 00:00:00   True          False            ARM_Cortex-A78   \n",
       "2  2022-01-01 00:00:01  False          False  2021_Cotton_Bowl_Classic   \n",
       "3  2022-01-01 00:00:00  False          False        Francis_Moorehouse   \n",
       "4  2022-01-01 00:00:01  False          False       Trouble_(1931_film)   \n",
       "\n",
       "     pageid   batchid_5  batchid_15  batchid_30  batchid_60          time  \n",
       "0    415045  1063058808  1063058808  1063058808  1063058808  1.641013e+09  \n",
       "1  64280898  1063058809  1063058809  1063058809  1063058809  1.641013e+09  \n",
       "2  67976697  1063058810  1063058810  1063058810  1063058810  1.641013e+09  \n",
       "3  34931769  1063058811  1063058811  1063058811  1063058811  1.641013e+09  \n",
       "4  69644588  1063058812  1063058812  1063058812  1063058812  1.641013e+09  "
      ]
     },
     "execution_count": 4,
     "metadata": {},
     "output_type": "execute_result"
    }
   ],
   "source": [
    "df.head()"
   ]
  },
  {
   "cell_type": "code",
   "execution_count": 5,
   "id": "98f8e62a",
   "metadata": {},
   "outputs": [],
   "source": [
    "df['is_bot'] = df.user.astype(str).str.lower().apply(lambda s: s.find('bot') > 0)"
   ]
  },
  {
   "cell_type": "code",
   "execution_count": 6,
   "id": "c20271d6",
   "metadata": {},
   "outputs": [
    {
     "data": {
      "text/plain": [
       "('2022-01-01 00:00:00', '2022-02-01 00:00:00')"
      ]
     },
     "execution_count": 6,
     "metadata": {},
     "output_type": "execute_result"
    }
   ],
   "source": [
    "t_min, t_max = df.timestamp.min(), df.timestamp.max()\n",
    "t_min, t_max"
   ]
  },
  {
   "cell_type": "code",
   "execution_count": 7,
   "id": "9e5d1636",
   "metadata": {},
   "outputs": [],
   "source": [
    "df_nonbot = df[~df.is_bot]\n",
    "\n",
    "g = df_nonbot.groupby('batchid_5').pageid.nunique()\n",
    "pct_5 = df_nonbot[df_nonbot.batchid_5.isin(g[g>1].index)].shape[0] / df_nonbot.shape[0]\n",
    "\n",
    "g = df_nonbot.groupby('batchid_15').pageid.nunique()\n",
    "pct_15 = df_nonbot[df_nonbot.batchid_15.isin(g[g>1].index)].shape[0] / df_nonbot.shape[0]\n",
    "\n",
    "g = df_nonbot[~df_nonbot.is_bot].groupby('batchid_30').pageid.nunique()\n",
    "pct_30 = df_nonbot[df_nonbot.batchid_30.isin(g[g>1].index)].shape[0] / df_nonbot.shape[0]\n",
    "\n",
    "g = df_nonbot[~df_nonbot.is_bot].groupby('batchid_60').pageid.nunique()\n",
    "pct_60 = df_nonbot[df_nonbot.batchid_60.isin(g[g>1].index)].shape[0] / df_nonbot.shape[0]"
   ]
  },
  {
   "cell_type": "code",
   "execution_count": 8,
   "id": "53090b3e",
   "metadata": {},
   "outputs": [
    {
     "data": {
      "text/plain": [
       "(0.4907455654888605,\n",
       " 0.6122457783453952,\n",
       " 0.6645117071094082,\n",
       " 0.7017948063005535)"
      ]
     },
     "execution_count": 8,
     "metadata": {},
     "output_type": "execute_result"
    }
   ],
   "source": [
    "pct_5, pct_15, pct_30, pct_60"
   ]
  },
  {
   "cell_type": "code",
   "execution_count": 9,
   "id": "c9f3ec43",
   "metadata": {},
   "outputs": [],
   "source": [
    "def test_random_pairs(df, I):\n",
    "    revs = df['user'].unique()\n",
    "    n_samples = 10000\n",
    "\n",
    "    n_w_batch = 0\n",
    "    for i in range(n_samples):\n",
    "        if i%1000 == 0:\n",
    "            print(f'Completed {i} iterations.')\n",
    "        pair = np.random.choice(revs, 2, replace=False)\n",
    "        assert(pair[0] != pair[1])\n",
    "        d1 = df[df.user == pair[0]]\n",
    "        d2 = df[df.user == pair[1]]\n",
    "        \n",
    "        for t1,t2 in itertools.product(d1.time, d2.time):\n",
    "            if np.abs(t1 - t2) <= I:\n",
    "                n_w_batch += 1\n",
    "                break\n",
    "                        \n",
    "    return 1.*n_w_batch / n_samples"
   ]
  },
  {
   "cell_type": "code",
   "execution_count": 10,
   "id": "689555cd",
   "metadata": {},
   "outputs": [
    {
     "name": "stdout",
     "output_type": "stream",
     "text": [
      "CPU times: user 3 µs, sys: 1e+03 ns, total: 4 µs\n",
      "Wall time: 5.25 µs\n"
     ]
    }
   ],
   "source": [
    "%%time\n",
    "# test_random_pairs(df_nonbot, 5*60)"
   ]
  },
  {
   "cell_type": "code",
   "execution_count": 11,
   "id": "ba765c1e",
   "metadata": {},
   "outputs": [],
   "source": [
    "g = df.groupby('user').pageid.nunique()"
   ]
  },
  {
   "cell_type": "code",
   "execution_count": 12,
   "id": "36697b5b",
   "metadata": {},
   "outputs": [
    {
     "data": {
      "text/plain": [
       "(4025914, 359919, 25.127320313737258, 17.8706748330938, 88.80258119739803)"
      ]
     },
     "execution_count": 12,
     "metadata": {},
     "output_type": "execute_result"
    }
   ],
   "source": [
    "n_revisions = df.shape[0]\n",
    "n_users = len(g)\n",
    "pct_multiple_page_edits = len(g[g>1]) / len(g)\n",
    "pct_anon = df[df.anon].shape[0] / n_revisions\n",
    "pct_revisions_multi = g[g>1].sum() / g.sum()\n",
    "\n",
    "n_revisions, n_users, pct_multiple_page_edits*100, pct_anon * 100, pct_revisions_multi * 100"
   ]
  },
  {
   "cell_type": "code",
   "execution_count": 13,
   "id": "818b6e37",
   "metadata": {},
   "outputs": [],
   "source": [
    "g = df_nonbot.groupby('user').pageid.nunique()"
   ]
  },
  {
   "cell_type": "code",
   "execution_count": 14,
   "id": "da34160e",
   "metadata": {},
   "outputs": [
    {
     "data": {
      "text/plain": [
       "(3523500, 359719, 25.11349136409253, 20.418844898538385, 86.01089087932998)"
      ]
     },
     "execution_count": 14,
     "metadata": {},
     "output_type": "execute_result"
    }
   ],
   "source": [
    "n_revisions = df_nonbot.shape[0]\n",
    "n_users = len(g)\n",
    "pct_multiple_page_edits = len(g[g>1]) / len(g)\n",
    "pct_anon = df_nonbot[df_nonbot.anon].shape[0] / n_revisions\n",
    "pct_revisions_multi = g[g>1].sum() / g.sum()\n",
    "\n",
    "n_revisions, n_users, pct_multiple_page_edits*100, pct_anon * 100, pct_revisions_multi * 100"
   ]
  },
  {
   "cell_type": "markdown",
   "id": "75c970c6",
   "metadata": {},
   "source": [
    "## Run experiments on math pages"
   ]
  },
  {
   "cell_type": "code",
   "execution_count": 15,
   "id": "0b05071b",
   "metadata": {},
   "outputs": [
    {
     "data": {
      "text/plain": [
       "(52, 351)"
      ]
     },
     "execution_count": 15,
     "metadata": {},
     "output_type": "execute_result"
    }
   ],
   "source": [
    "BASE_MATH_URL = 'https://en.wikipedia.org/wiki/Wikipedia:WikiProject_Mathematics/List_of_mathematics_articles'\n",
    "\n",
    "def get_all_math_articles():\n",
    "    all_pages = df.page.unique()\n",
    "    \n",
    "    math_pages = []\n",
    "\n",
    "    for i in auc:\n",
    "        page = requests.get(f'{BASE_MATH_URL}_({i})') \n",
    "        soup = BeautifulSoup(page.content, 'html.parser') \n",
    "        \n",
    "        links = soup.select(\"a[href*=\\/wiki\\/]\")\n",
    "\n",
    "\n",
    "\n",
    "        for link in links:\n",
    "#             title = link.get('title')\n",
    "            href = link.get('href')\n",
    "            if match := re.search('\\/wiki\\/(.+)', href, re.IGNORECASE):\n",
    "                page = match.group(1)\n",
    "                if page is not None and page not in ['Privacy_policy']:\n",
    "                    math_pages += [page]\n",
    "        \n",
    "        return math_pages\n",
    "\n",
    "math_pages = np.unique(get_all_math_articles())\n",
    "math_df = df[df.page.isin(math_pages) & (~df.user.isin(['Citation bot', 'WikiCleanerBot', 'AnomieBOT']))]\n",
    "math_df = math_df[~math_df.is_bot].reset_index(drop=True)\n",
    "\n",
    "\n",
    "sum(math_df.groupby(['user'])['page'].nunique() > 1), math_df.user.nunique()"
   ]
  },
  {
   "cell_type": "code",
   "execution_count": 16,
   "id": "d9cec24b",
   "metadata": {},
   "outputs": [],
   "source": [
    "SITE = pywikibot.Site('en', 'wikipedia')\n",
    "cat = pywikibot.Category(SITE, '21st-century_American_politicians')\n",
    "pol_pages = [p.pageid for p in cat.articles()]"
   ]
  },
  {
   "cell_type": "code",
   "execution_count": 17,
   "id": "3a780d27",
   "metadata": {},
   "outputs": [],
   "source": [
    "sub_pages = [[(s.pageid, a.pageid) for a in s.articles()] for s in cat.subcategories()]"
   ]
  },
  {
   "cell_type": "code",
   "execution_count": 18,
   "id": "96337c7d",
   "metadata": {},
   "outputs": [],
   "source": [
    "df_cat = df[df.pageid.isin(pol_pages) & ~df.is_bot].reset_index(drop=True) \n",
    "\n",
    "# df_subcat = pd.DataFrame(get_batches.flatten(sub_pages), columns=['subcatid', 'pageid'])\n",
    "# df_cat = pd.merge(df_subcat, df_cat, on='pageid')"
   ]
  },
  {
   "cell_type": "code",
   "execution_count": 19,
   "id": "3c1f9b92",
   "metadata": {},
   "outputs": [
    {
     "data": {
      "text/plain": [
       "(13430, 15)"
      ]
     },
     "execution_count": 19,
     "metadata": {},
     "output_type": "execute_result"
    }
   ],
   "source": [
    "df_cat.shape"
   ]
  },
  {
   "cell_type": "code",
   "execution_count": 20,
   "id": "60ee81b6",
   "metadata": {},
   "outputs": [
    {
     "data": {
      "text/plain": [
       "<module 'get_batches' from '/Users/akgoldbe/Dropbox/My Mac (MacBook-Air)/Documents/CMU/research/timing/batching-privacy/wiki_analysis/get_batches.py'>"
      ]
     },
     "execution_count": 20,
     "metadata": {},
     "output_type": "execute_result"
    }
   ],
   "source": [
    "reload(get_batches)"
   ]
  },
  {
   "cell_type": "code",
   "execution_count": 21,
   "id": "4c44aa09",
   "metadata": {},
   "outputs": [],
   "source": [
    "df_cat['dt_timestamp'] = df_cat.timestamp.apply(lambda t: dt.datetime.strptime(t, '%Y-%m-%d %H:%M:%S'))\n",
    "df_cat['time'] = df_cat.dt_timestamp.apply(lambda t: t.timestamp())\n",
    "df_g = df_cat.groupby('user')[['revid', 'dt_timestamp']]"
   ]
  },
  {
   "cell_type": "code",
   "execution_count": 22,
   "id": "bc4d56ad",
   "metadata": {},
   "outputs": [],
   "source": [
    "#### Get the subsequent review after each"
   ]
  },
  {
   "cell_type": "code",
   "execution_count": 23,
   "id": "2f2947cb",
   "metadata": {},
   "outputs": [],
   "source": [
    "df_cat = df_cat.sort_values(by = 'time').reset_index()"
   ]
  },
  {
   "cell_type": "code",
   "execution_count": 24,
   "id": "5e892077",
   "metadata": {},
   "outputs": [
    {
     "data": {
      "text/plain": [
       "(3068, 10362)"
      ]
     },
     "execution_count": 24,
     "metadata": {},
     "output_type": "execute_result"
    }
   ],
   "source": [
    "# split one week train, three weeks test\n",
    "train_test_split = dt.datetime.strptime(t_min, '%Y-%m-%d %H:%M:%S') + dt.timedelta(days=7)\n",
    "df_cat_train = df_cat[df_cat.dt_timestamp <= train_test_split]\n",
    "df_cat_test = df_cat[df_cat.dt_timestamp > train_test_split]\n",
    "df_cat_train.shape[0], df_cat_test.shape[0]"
   ]
  },
  {
   "cell_type": "code",
   "execution_count": 25,
   "id": "cdf32fcf",
   "metadata": {},
   "outputs": [],
   "source": [
    "def get_batches_consecutive(df_cat, time_col='time', subcat=False):\n",
    "    if subcat:\n",
    "        batches = df_cat_train.groupby('subcatid').apply(lambda l: apply_batches_consecutive(r, time_col))\n",
    "        n = sum([b[0] for b in batches])\n",
    "        n_batch = sum([b[1] for b in batches])\n",
    "        n, n_batch\n",
    "\n",
    "        d_batch = np.array(get_batches.flatten([b[2] for b in batches]))\n",
    "        d_no_batch = np.array(get_batches.flatten([b[3] for b in batches]))\n",
    "\n",
    "        return n, n_batch, np.array(d_batch), np.array(d_no_batch)\n",
    "    else:\n",
    "        return apply_batches_consecutive(df_cat, time_col)\n",
    "    \n",
    "def apply_batches_consecutive(df_cat, time_col):\n",
    "    df_cat = df_cat.sort_values(by=time_col).reset_index(drop=True)\n",
    "    t_last = None\n",
    "    pageid_last = None\n",
    "    user_last = None\n",
    "    n = 0\n",
    "    n_batch = 0\n",
    "    d_batch = []\n",
    "    d_no_batch = []\n",
    "    for i in range(df_cat.shape[0]):\n",
    "        if t_last is not None:\n",
    "            t = df_cat.iloc[i][time_col]\n",
    "            pageid = df_cat.iloc[i].pageid\n",
    "            user = df_cat.iloc[i].user\n",
    "            if pageid != pageid_last:\n",
    "                n+=1\n",
    "                if user == user_last:\n",
    "                    n_batch += 1\n",
    "                    d_batch += [t - t_last]\n",
    "                else:\n",
    "                    d_no_batch += [t - t_last]\n",
    "        t_last = df_cat.iloc[i][time_col]\n",
    "        pageid_last = df_cat.iloc[i].pageid\n",
    "        user_last = df_cat.iloc[i].user\n",
    "    \n",
    "    return n, n_batch, d_batch, d_no_batch\n",
    "\n",
    "def get_prec_recall(d_batch, d_no_batch, Ts=np.arange(10, 1000, 10)):\n",
    "    n_TP, n_FP, n_TN, n_FN = [], [], [], []\n",
    "    for T in Ts:\n",
    "        n_TP += [sum(d_batch <= T)]\n",
    "        n_FP += [sum(d_no_batch <= T)]\n",
    "        n_TN += [sum(d_no_batch > T)]\n",
    "        n_FN += [sum(d_batch > T)]\n",
    "\n",
    "    fdr = np.array(n_FP) / (np.array(n_FP) + np.array(n_TP))\n",
    "    precision = 1. - fdr\n",
    "    precision = np.array([max(precision[i:]) for i in range(len(precision))])\n",
    "    recall = np.array(n_TP) / (np.array(n_TP) + np.array(n_FN))\n",
    "    return precision, recall"
   ]
  },
  {
   "cell_type": "code",
   "execution_count": 417,
   "id": "4067ffdf",
   "metadata": {},
   "outputs": [],
   "source": [
    "n, n_batch, d_batch, d_no_batch = get_batches_consecutive(df_cat_train)"
   ]
  },
  {
   "cell_type": "code",
   "execution_count": 27,
   "id": "74eab6ea",
   "metadata": {},
   "outputs": [
    {
     "data": {
      "text/plain": [
       "array([ 14.7,  30. ,  42. ,  83. , 375.3])"
      ]
     },
     "execution_count": 27,
     "metadata": {},
     "output_type": "execute_result"
    }
   ],
   "source": [
    "g_batch = np.percentile(d_batch, [10, 25, 50, 75, 95])\n",
    "g_batch"
   ]
  },
  {
   "cell_type": "code",
   "execution_count": 420,
   "id": "fdc98ec0",
   "metadata": {},
   "outputs": [
    {
     "data": {
      "text/plain": [
       "511"
      ]
     },
     "execution_count": 420,
     "metadata": {},
     "output_type": "execute_result"
    }
   ],
   "source": [
    "(np.array(d_batch) <= 300).sum()"
   ]
  },
  {
   "cell_type": "code",
   "execution_count": 421,
   "id": "3386090f",
   "metadata": {},
   "outputs": [],
   "source": [
    "n, n_batch, d_batch, d_no_batch = get_batches_consecutive(df_cat)"
   ]
  },
  {
   "cell_type": "code",
   "execution_count": 422,
   "id": "5d2e4197",
   "metadata": {},
   "outputs": [
    {
     "data": {
      "text/plain": [
       "9101"
      ]
     },
     "execution_count": 422,
     "metadata": {},
     "output_type": "execute_result"
    }
   ],
   "source": [
    "len(d_no_batch)"
   ]
  },
  {
   "cell_type": "code",
   "execution_count": 423,
   "id": "02f57a26",
   "metadata": {},
   "outputs": [
    {
     "data": {
      "text/plain": [
       "1888"
      ]
     },
     "execution_count": 423,
     "metadata": {},
     "output_type": "execute_result"
    }
   ],
   "source": [
    "len(d_batch)"
   ]
  },
  {
   "cell_type": "code",
   "execution_count": 425,
   "id": "dc6279d7",
   "metadata": {},
   "outputs": [
    {
     "data": {
      "text/plain": [
       "1739"
      ]
     },
     "execution_count": 425,
     "metadata": {},
     "output_type": "execute_result"
    }
   ],
   "source": [
    "(np.array(d_batch) <= 300).sum()"
   ]
  },
  {
   "cell_type": "code",
   "execution_count": 426,
   "id": "80503171",
   "metadata": {},
   "outputs": [
    {
     "data": {
      "text/plain": [
       "([0.0, 0.0, 0.0, 0.0, 0.0, 0.0, 0.0, 0.0, 0.0, 0.0],\n",
       " array([0.82512537, 0.82512537, 0.81617825, 0.81199921, 0.80926255,\n",
       "        0.80281769, 0.80222776, 0.80160948, 0.7981202 , 0.79583372,\n",
       "        0.75288839, 0.38386163, 0.2382553 , 0.17073276, 0.13453869,\n",
       "        0.11671609, 0.10290367, 0.06483388]),\n",
       " array([0.04877411, 0.16853818, 0.2903165 , 0.40561314, 0.51305008,\n",
       "        0.61002212, 0.69912871, 0.78434137, 0.85753496, 0.9462202 ,\n",
       "        0.04877411, 1.        , 1.        , 1.        , 1.        ,\n",
       "        1.        , 1.        , 1.        ]))"
      ]
     },
     "execution_count": 426,
     "metadata": {},
     "output_type": "execute_result"
    }
   ],
   "source": [
    "res_no_priv"
   ]
  },
  {
   "cell_type": "code",
   "execution_count": 405,
   "id": "1e5fe419",
   "metadata": {},
   "outputs": [
    {
     "data": {
      "text/plain": [
       "array([  193.16,   654.5 ,  1951.9 ,  4712.4 , 14145.37])"
      ]
     },
     "execution_count": 405,
     "metadata": {},
     "output_type": "execute_result"
    }
   ],
   "source": [
    "def sample_users(df, r=0.1):\n",
    "    users=df.user.unique()\n",
    "    S_users = np.random.choice(users, round(r*len(users)), replace=False)\n",
    "    return df[df.user.isin(S_users)]\n",
    "\n",
    "n_iters = 5\n",
    "d_no_batch = [get_batches_consecutive(sample_users(df_cat_train))[3] for i in range(n_iters)]\n",
    "\n",
    "gs = sum([np.percentile(d, [10, 25, 50, 75, 95]) for d in d_no_batch]) / n_iters\n",
    "gs"
   ]
  },
  {
   "cell_type": "code",
   "execution_count": 29,
   "id": "eae10bba",
   "metadata": {},
   "outputs": [],
   "source": [
    "## Prepare test data to add noise to\n",
    "\n",
    "# with 5 mins can capture 50% of all instances of batching in this set\n",
    "df_batches = df_cat_test.groupby('user')[['revid', 'dt_timestamp']].apply(get_batches.get_batches)\n",
    "df_batches.revid = df_batches.revid.astype(int)\n",
    "df_cat_test = df_cat_test.set_index('revid').join(df_batches.set_index('revid')).reset_index()\n",
    "g = df_cat_test.groupby('batchid').pageid.nunique()\n",
    "df_cat_test['is_batched'] = df_cat_test.batchid.apply(lambda b: b in g[g>1].index)\n",
    "\n",
    "# dedupe multiple revisions on same page by setting to latest revision on that page\n",
    "dedupe = df_cat_test.groupby(['batchid', 'pageid']).timestamp.max()\n",
    "df_cat_test = pd.merge(df_cat_test, dedupe.reset_index(), on=['batchid', 'pageid', 'timestamp'])\n",
    "\n",
    "# get first batches\n",
    "first_batch = df_cat_test.groupby('batchid').dt_timestamp.min().reset_index()\n",
    "first_batch['is_first'] = True\n",
    "df_cat_test = pd.merge(df_cat_test, first_batch, how='left', on=['batchid', 'dt_timestamp'])\n",
    "df_cat_test['is_nonfirst_batch'] = df_cat_test.apply(lambda r: r.is_batched and np.isnan(r.is_first), axis=1)"
   ]
  },
  {
   "cell_type": "code",
   "execution_count": 30,
   "id": "ca7c0918",
   "metadata": {},
   "outputs": [
    {
     "data": {
      "text/html": [
       "<div>\n",
       "<style scoped>\n",
       "    .dataframe tbody tr th:only-of-type {\n",
       "        vertical-align: middle;\n",
       "    }\n",
       "\n",
       "    .dataframe tbody tr th {\n",
       "        vertical-align: top;\n",
       "    }\n",
       "\n",
       "    .dataframe thead th {\n",
       "        text-align: right;\n",
       "    }\n",
       "</style>\n",
       "<table border=\"1\" class=\"dataframe\">\n",
       "  <thead>\n",
       "    <tr style=\"text-align: right;\">\n",
       "      <th></th>\n",
       "      <th>revid</th>\n",
       "      <th>index</th>\n",
       "      <th>user</th>\n",
       "      <th>userid</th>\n",
       "      <th>userhidden</th>\n",
       "      <th>timestamp</th>\n",
       "      <th>anon</th>\n",
       "      <th>commenthidden</th>\n",
       "      <th>page</th>\n",
       "      <th>pageid</th>\n",
       "      <th>...</th>\n",
       "      <th>batchid_15</th>\n",
       "      <th>batchid_30</th>\n",
       "      <th>batchid_60</th>\n",
       "      <th>time</th>\n",
       "      <th>is_bot</th>\n",
       "      <th>dt_timestamp</th>\n",
       "      <th>batchid</th>\n",
       "      <th>is_batched</th>\n",
       "      <th>is_first</th>\n",
       "      <th>is_nonfirst_batch</th>\n",
       "    </tr>\n",
       "  </thead>\n",
       "  <tbody>\n",
       "    <tr>\n",
       "      <th>0</th>\n",
       "      <td>1064361543</td>\n",
       "      <td>3068</td>\n",
       "      <td>Rlink2</td>\n",
       "      <td>42425010.0</td>\n",
       "      <td>False</td>\n",
       "      <td>2022-01-08 00:01:11</td>\n",
       "      <td>False</td>\n",
       "      <td>False</td>\n",
       "      <td>Linda_Stender</td>\n",
       "      <td>1611832</td>\n",
       "      <td>...</td>\n",
       "      <td>1064345919</td>\n",
       "      <td>1064325109</td>\n",
       "      <td>1064325109</td>\n",
       "      <td>1.641600e+09</td>\n",
       "      <td>False</td>\n",
       "      <td>2022-01-08 00:01:11</td>\n",
       "      <td>1064361543</td>\n",
       "      <td>False</td>\n",
       "      <td>True</td>\n",
       "      <td>False</td>\n",
       "    </tr>\n",
       "    <tr>\n",
       "      <th>1</th>\n",
       "      <td>1064363594</td>\n",
       "      <td>3069</td>\n",
       "      <td>PerpetuityGrat</td>\n",
       "      <td>41302477.0</td>\n",
       "      <td>False</td>\n",
       "      <td>2022-01-08 00:17:35</td>\n",
       "      <td>False</td>\n",
       "      <td>False</td>\n",
       "      <td>Jeanette_Taylor</td>\n",
       "      <td>60411244</td>\n",
       "      <td>...</td>\n",
       "      <td>1064363594</td>\n",
       "      <td>1064363594</td>\n",
       "      <td>1064363594</td>\n",
       "      <td>1.641601e+09</td>\n",
       "      <td>False</td>\n",
       "      <td>2022-01-08 00:17:35</td>\n",
       "      <td>1064363594</td>\n",
       "      <td>False</td>\n",
       "      <td>True</td>\n",
       "      <td>False</td>\n",
       "    </tr>\n",
       "    <tr>\n",
       "      <th>2</th>\n",
       "      <td>1064365160</td>\n",
       "      <td>3070</td>\n",
       "      <td>Rlink2</td>\n",
       "      <td>42425010.0</td>\n",
       "      <td>False</td>\n",
       "      <td>2022-01-08 00:29:26</td>\n",
       "      <td>False</td>\n",
       "      <td>False</td>\n",
       "      <td>Jay_Roberts</td>\n",
       "      <td>44213633</td>\n",
       "      <td>...</td>\n",
       "      <td>1064345919</td>\n",
       "      <td>1064325109</td>\n",
       "      <td>1064325109</td>\n",
       "      <td>1.641602e+09</td>\n",
       "      <td>False</td>\n",
       "      <td>2022-01-08 00:29:26</td>\n",
       "      <td>1064365160</td>\n",
       "      <td>False</td>\n",
       "      <td>True</td>\n",
       "      <td>False</td>\n",
       "    </tr>\n",
       "    <tr>\n",
       "      <th>3</th>\n",
       "      <td>1064366335</td>\n",
       "      <td>3071</td>\n",
       "      <td>Rlink2</td>\n",
       "      <td>42425010.0</td>\n",
       "      <td>False</td>\n",
       "      <td>2022-01-08 00:36:33</td>\n",
       "      <td>False</td>\n",
       "      <td>False</td>\n",
       "      <td>Sam_Liccardo</td>\n",
       "      <td>41156577</td>\n",
       "      <td>...</td>\n",
       "      <td>1064345919</td>\n",
       "      <td>1064325109</td>\n",
       "      <td>1064325109</td>\n",
       "      <td>1.641602e+09</td>\n",
       "      <td>False</td>\n",
       "      <td>2022-01-08 00:36:33</td>\n",
       "      <td>1064366335</td>\n",
       "      <td>True</td>\n",
       "      <td>True</td>\n",
       "      <td>False</td>\n",
       "    </tr>\n",
       "    <tr>\n",
       "      <th>4</th>\n",
       "      <td>1064366339</td>\n",
       "      <td>3072</td>\n",
       "      <td>Muboshgu</td>\n",
       "      <td>602857.0</td>\n",
       "      <td>False</td>\n",
       "      <td>2022-01-08 00:36:26</td>\n",
       "      <td>False</td>\n",
       "      <td>False</td>\n",
       "      <td>Ted_Cruz</td>\n",
       "      <td>2500271</td>\n",
       "      <td>...</td>\n",
       "      <td>1064366339</td>\n",
       "      <td>1064366339</td>\n",
       "      <td>1064366339</td>\n",
       "      <td>1.641602e+09</td>\n",
       "      <td>False</td>\n",
       "      <td>2022-01-08 00:36:26</td>\n",
       "      <td>1064366339</td>\n",
       "      <td>False</td>\n",
       "      <td>True</td>\n",
       "      <td>False</td>\n",
       "    </tr>\n",
       "  </tbody>\n",
       "</table>\n",
       "<p>5 rows × 21 columns</p>\n",
       "</div>"
      ],
      "text/plain": [
       "        revid  index            user      userid  userhidden  \\\n",
       "0  1064361543   3068          Rlink2  42425010.0       False   \n",
       "1  1064363594   3069  PerpetuityGrat  41302477.0       False   \n",
       "2  1064365160   3070          Rlink2  42425010.0       False   \n",
       "3  1064366335   3071          Rlink2  42425010.0       False   \n",
       "4  1064366339   3072        Muboshgu    602857.0       False   \n",
       "\n",
       "             timestamp   anon  commenthidden             page    pageid  ...  \\\n",
       "0  2022-01-08 00:01:11  False          False    Linda_Stender   1611832  ...   \n",
       "1  2022-01-08 00:17:35  False          False  Jeanette_Taylor  60411244  ...   \n",
       "2  2022-01-08 00:29:26  False          False      Jay_Roberts  44213633  ...   \n",
       "3  2022-01-08 00:36:33  False          False     Sam_Liccardo  41156577  ...   \n",
       "4  2022-01-08 00:36:26  False          False         Ted_Cruz   2500271  ...   \n",
       "\n",
       "   batchid_15  batchid_30  batchid_60          time  is_bot  \\\n",
       "0  1064345919  1064325109  1064325109  1.641600e+09   False   \n",
       "1  1064363594  1064363594  1064363594  1.641601e+09   False   \n",
       "2  1064345919  1064325109  1064325109  1.641602e+09   False   \n",
       "3  1064345919  1064325109  1064325109  1.641602e+09   False   \n",
       "4  1064366339  1064366339  1064366339  1.641602e+09   False   \n",
       "\n",
       "         dt_timestamp     batchid is_batched  is_first is_nonfirst_batch  \n",
       "0 2022-01-08 00:01:11  1064361543      False      True             False  \n",
       "1 2022-01-08 00:17:35  1064363594      False      True             False  \n",
       "2 2022-01-08 00:29:26  1064365160      False      True             False  \n",
       "3 2022-01-08 00:36:33  1064366335       True      True             False  \n",
       "4 2022-01-08 00:36:26  1064366339      False      True             False  \n",
       "\n",
       "[5 rows x 21 columns]"
      ]
     },
     "execution_count": 30,
     "metadata": {},
     "output_type": "execute_result"
    }
   ],
   "source": [
    "df_cat_test.head()"
   ]
  },
  {
   "cell_type": "code",
   "execution_count": 31,
   "id": "6e1585e4",
   "metadata": {},
   "outputs": [],
   "source": [
    "P_vals = [25, 50, 75, 95]\n",
    "eps_vals = [0.1, 0.5, 1., 2.]"
   ]
  },
  {
   "cell_type": "code",
   "execution_count": 121,
   "id": "eb1b9110",
   "metadata": {},
   "outputs": [
    {
     "data": {
      "text/html": [
       "<div>\n",
       "<style scoped>\n",
       "    .dataframe tbody tr th:only-of-type {\n",
       "        vertical-align: middle;\n",
       "    }\n",
       "\n",
       "    .dataframe tbody tr th {\n",
       "        vertical-align: top;\n",
       "    }\n",
       "\n",
       "    .dataframe thead th {\n",
       "        text-align: right;\n",
       "    }\n",
       "</style>\n",
       "<table border=\"1\" class=\"dataframe\">\n",
       "  <thead>\n",
       "    <tr style=\"text-align: right;\">\n",
       "      <th></th>\n",
       "      <th>revid_x</th>\n",
       "      <th>index_x</th>\n",
       "      <th>user_x</th>\n",
       "      <th>userid_x</th>\n",
       "      <th>userhidden_x</th>\n",
       "      <th>timestamp_x</th>\n",
       "      <th>anon_x</th>\n",
       "      <th>commenthidden_x</th>\n",
       "      <th>page_x</th>\n",
       "      <th>pageid_x</th>\n",
       "      <th>...</th>\n",
       "      <th>batchid_30_y</th>\n",
       "      <th>batchid_60_y</th>\n",
       "      <th>time_y</th>\n",
       "      <th>is_bot_y</th>\n",
       "      <th>dt_timestamp_y</th>\n",
       "      <th>batchid_y</th>\n",
       "      <th>is_batched_y</th>\n",
       "      <th>is_first_y</th>\n",
       "      <th>is_nonfirst_batch_y</th>\n",
       "      <th>time_release_y</th>\n",
       "    </tr>\n",
       "  </thead>\n",
       "  <tbody>\n",
       "    <tr>\n",
       "      <th>1</th>\n",
       "      <td>1064373772</td>\n",
       "      <td>3096</td>\n",
       "      <td>Rlink2</td>\n",
       "      <td>42425010.0</td>\n",
       "      <td>False</td>\n",
       "      <td>2022-01-08 01:24:28</td>\n",
       "      <td>False</td>\n",
       "      <td>False</td>\n",
       "      <td>Robert_Garcia_(California_politician)</td>\n",
       "      <td>34518607</td>\n",
       "      <td>...</td>\n",
       "      <td>1064372462</td>\n",
       "      <td>1064372462</td>\n",
       "      <td>1.641607e+09</td>\n",
       "      <td>False</td>\n",
       "      <td>2022-01-08 01:59:13</td>\n",
       "      <td>1064378572</td>\n",
       "      <td>False</td>\n",
       "      <td>True</td>\n",
       "      <td>False</td>\n",
       "      <td>1.641609e+09</td>\n",
       "    </tr>\n",
       "    <tr>\n",
       "      <th>2</th>\n",
       "      <td>1064373772</td>\n",
       "      <td>3096</td>\n",
       "      <td>Rlink2</td>\n",
       "      <td>42425010.0</td>\n",
       "      <td>False</td>\n",
       "      <td>2022-01-08 01:24:28</td>\n",
       "      <td>False</td>\n",
       "      <td>False</td>\n",
       "      <td>Robert_Garcia_(California_politician)</td>\n",
       "      <td>34518607</td>\n",
       "      <td>...</td>\n",
       "      <td>1064325109</td>\n",
       "      <td>1064325109</td>\n",
       "      <td>1.641614e+09</td>\n",
       "      <td>False</td>\n",
       "      <td>2022-01-08 03:58:05</td>\n",
       "      <td>1064395257</td>\n",
       "      <td>True</td>\n",
       "      <td>NaN</td>\n",
       "      <td>True</td>\n",
       "      <td>1.641629e+09</td>\n",
       "    </tr>\n",
       "    <tr>\n",
       "      <th>3</th>\n",
       "      <td>1064373772</td>\n",
       "      <td>3096</td>\n",
       "      <td>Rlink2</td>\n",
       "      <td>42425010.0</td>\n",
       "      <td>False</td>\n",
       "      <td>2022-01-08 01:24:28</td>\n",
       "      <td>False</td>\n",
       "      <td>False</td>\n",
       "      <td>Robert_Garcia_(California_politician)</td>\n",
       "      <td>34518607</td>\n",
       "      <td>...</td>\n",
       "      <td>1064325109</td>\n",
       "      <td>1064325109</td>\n",
       "      <td>1.641617e+09</td>\n",
       "      <td>False</td>\n",
       "      <td>2022-01-08 04:39:08</td>\n",
       "      <td>1064400796</td>\n",
       "      <td>True</td>\n",
       "      <td>NaN</td>\n",
       "      <td>True</td>\n",
       "      <td>1.641637e+09</td>\n",
       "    </tr>\n",
       "    <tr>\n",
       "      <th>4</th>\n",
       "      <td>1064373772</td>\n",
       "      <td>3096</td>\n",
       "      <td>Rlink2</td>\n",
       "      <td>42425010.0</td>\n",
       "      <td>False</td>\n",
       "      <td>2022-01-08 01:24:28</td>\n",
       "      <td>False</td>\n",
       "      <td>False</td>\n",
       "      <td>Robert_Garcia_(California_politician)</td>\n",
       "      <td>34518607</td>\n",
       "      <td>...</td>\n",
       "      <td>1064325109</td>\n",
       "      <td>1064325109</td>\n",
       "      <td>1.641617e+09</td>\n",
       "      <td>False</td>\n",
       "      <td>2022-01-08 04:51:12</td>\n",
       "      <td>1064402532</td>\n",
       "      <td>True</td>\n",
       "      <td>NaN</td>\n",
       "      <td>True</td>\n",
       "      <td>1.641631e+09</td>\n",
       "    </tr>\n",
       "    <tr>\n",
       "      <th>5</th>\n",
       "      <td>1064373772</td>\n",
       "      <td>3096</td>\n",
       "      <td>Rlink2</td>\n",
       "      <td>42425010.0</td>\n",
       "      <td>False</td>\n",
       "      <td>2022-01-08 01:24:28</td>\n",
       "      <td>False</td>\n",
       "      <td>False</td>\n",
       "      <td>Robert_Garcia_(California_politician)</td>\n",
       "      <td>34518607</td>\n",
       "      <td>...</td>\n",
       "      <td>1064404247</td>\n",
       "      <td>1064398769</td>\n",
       "      <td>1.641619e+09</td>\n",
       "      <td>False</td>\n",
       "      <td>2022-01-08 05:08:28</td>\n",
       "      <td>1064404247</td>\n",
       "      <td>True</td>\n",
       "      <td>NaN</td>\n",
       "      <td>True</td>\n",
       "      <td>1.641632e+09</td>\n",
       "    </tr>\n",
       "  </tbody>\n",
       "</table>\n",
       "<p>5 rows × 44 columns</p>\n",
       "</div>"
      ],
      "text/plain": [
       "      revid_x  index_x  user_x    userid_x  userhidden_x          timestamp_x  \\\n",
       "1  1064373772     3096  Rlink2  42425010.0         False  2022-01-08 01:24:28   \n",
       "2  1064373772     3096  Rlink2  42425010.0         False  2022-01-08 01:24:28   \n",
       "3  1064373772     3096  Rlink2  42425010.0         False  2022-01-08 01:24:28   \n",
       "4  1064373772     3096  Rlink2  42425010.0         False  2022-01-08 01:24:28   \n",
       "5  1064373772     3096  Rlink2  42425010.0         False  2022-01-08 01:24:28   \n",
       "\n",
       "   anon_x  commenthidden_x                                 page_x  pageid_x  \\\n",
       "1   False            False  Robert_Garcia_(California_politician)  34518607   \n",
       "2   False            False  Robert_Garcia_(California_politician)  34518607   \n",
       "3   False            False  Robert_Garcia_(California_politician)  34518607   \n",
       "4   False            False  Robert_Garcia_(California_politician)  34518607   \n",
       "5   False            False  Robert_Garcia_(California_politician)  34518607   \n",
       "\n",
       "   ...  batchid_30_y  batchid_60_y        time_y  is_bot_y  \\\n",
       "1  ...    1064372462    1064372462  1.641607e+09     False   \n",
       "2  ...    1064325109    1064325109  1.641614e+09     False   \n",
       "3  ...    1064325109    1064325109  1.641617e+09     False   \n",
       "4  ...    1064325109    1064325109  1.641617e+09     False   \n",
       "5  ...    1064404247    1064398769  1.641619e+09     False   \n",
       "\n",
       "       dt_timestamp_y   batchid_y is_batched_y is_first_y  \\\n",
       "1 2022-01-08 01:59:13  1064378572        False       True   \n",
       "2 2022-01-08 03:58:05  1064395257         True        NaN   \n",
       "3 2022-01-08 04:39:08  1064400796         True        NaN   \n",
       "4 2022-01-08 04:51:12  1064402532         True        NaN   \n",
       "5 2022-01-08 05:08:28  1064404247         True        NaN   \n",
       "\n",
       "   is_nonfirst_batch_y time_release_y  \n",
       "1                False   1.641609e+09  \n",
       "2                 True   1.641629e+09  \n",
       "3                 True   1.641637e+09  \n",
       "4                 True   1.641631e+09  \n",
       "5                 True   1.641632e+09  \n",
       "\n",
       "[5 rows x 44 columns]"
      ]
     },
     "execution_count": 121,
     "metadata": {},
     "output_type": "execute_result"
    }
   ],
   "source": [
    "df_cross.head()"
   ]
  },
  {
   "cell_type": "code",
   "execution_count": 429,
   "id": "66774684",
   "metadata": {},
   "outputs": [],
   "source": [
    "def get_misorderings(d):\n",
    "    return sum(d.sort_values(by='time').index < d.sort_values(by='time_release').index)\n",
    "\n",
    "Ts=np.hstack((np.arange(10, 5*60, 30),np.arange(10, 60*60, 10*60), np.arange(60*60, 3*60*60, 60*60)))\n",
    "def get_prec_recall(df_pairs, Ts=Ts):\n",
    "    is_batched = (df_pairs.user_x == df_pairs.user_y) & (np.abs(df_pairs.time_x - df_pairs.time_y) <= 5*60) \n",
    "    \n",
    "    n_TP, n_FP, n_TN, n_FN = [], [], [], []\n",
    "    for T in Ts:\n",
    "        is_classified_batched = np.abs(df_pairs.time_release_x - df_pairs.time_release_y) <= T\n",
    "        n_TP += [sum(is_batched & is_classified_batched)]\n",
    "        n_FP += [sum(~is_batched & is_classified_batched)]\n",
    "        n_TN += [sum(~is_batched & ~is_classified_batched)]\n",
    "        n_FN += [sum(is_batched & ~is_classified_batched)]\n",
    "\n",
    "    fdr = np.array(n_FP) / (np.array(n_FP) + np.array(n_TP))\n",
    "    precision = 1. - fdr\n",
    "    precision = np.array([max(precision[i:]) for i in range(len(precision))])\n",
    "    recall = np.array(n_TP) / (np.array(n_TP) + np.array(n_FN))\n",
    "    return precision, recall\n",
    "\n",
    "def run_experiment(P_val, eps, iters=10, beta=5, no_noise=False):    \n",
    "    if not no_noise:\n",
    "        g = gs[P_vals.index(P_val)]\n",
    "    \n",
    "    precisions = []\n",
    "    recalls = []\n",
    "    pct_misorders = []\n",
    "    \n",
    "    for i in np.arange(iters):\n",
    "        if not no_noise:\n",
    "            # sample B for batched comments\n",
    "            i_batch = df_cat_test[df_cat_test.is_batched].index\n",
    "            noise_batch = apply_uniform(True, g+beta, eps_to_K(eps), size=len(i_batch))\n",
    "\n",
    "            # sample U for unbatched\n",
    "            i_unbatch = df_cat_test[~df_cat_test.is_batched].index\n",
    "            noise_unbatch = apply_uniform(False, g+beta, eps_to_K(eps), size=len(i_unbatch))\n",
    "\n",
    "            noise = pd.concat((pd.Series(noise_batch, index=i_batch),\n",
    "                                   pd.Series(noise_unbatch, index=i_unbatch))).sort_index()\n",
    "            df_cat_test['time_release'] = df_cat_test.time + noise\n",
    "        else:\n",
    "            df_cat_test['time_release'] = df_cat_test.time\n",
    "        \n",
    "        df_samp = sample_users(df_cat_test, r=0.1)\n",
    "        df_pairs = pd.merge(df_samp, df_samp, how='cross')\n",
    "        df_pairs = df_pairs[(df_pairs.index_x != df_pairs.index_y) & (df_pairs.pageid_x != df_pairs.pageid_y)]\n",
    "        \n",
    "        pct_misorder = df_cat_test.groupby('pageid').apply(get_misorderings).sum() / df_cat_test.shape[0]\n",
    "        precision, recall = get_prec_recall(df_pairs)\n",
    "        \n",
    "        precisions += [precision]\n",
    "        recalls += [recall]\n",
    "        pct_misorders += [pct_misorder]\n",
    "        \n",
    "        precision = np.mean(precisions, axis=0)\n",
    "        recall = np.mean(recalls, axis=0)\n",
    "    \n",
    "    return pct_misorders, precision, recall"
   ]
  },
  {
   "cell_type": "code",
   "execution_count": 430,
   "id": "2ea956a3",
   "metadata": {},
   "outputs": [
    {
     "name": "stdout",
     "output_type": "stream",
     "text": [
      "CPU times: user 56.7 s, sys: 2.92 s, total: 59.6 s\n",
      "Wall time: 59.9 s\n"
     ]
    }
   ],
   "source": [
    "%%time\n",
    "res_no_priv = run_experiment(0,0,no_noise=True)"
   ]
  },
  {
   "cell_type": "code",
   "execution_count": 431,
   "id": "56967791",
   "metadata": {},
   "outputs": [
    {
     "name": "stdout",
     "output_type": "stream",
     "text": [
      "Running for eps=0.1\n",
      "Running for eps=0.5\n",
      "Running for eps=1.0\n",
      "Running for eps=2.0\n",
      "CPU times: user 5min 13s, sys: 20.2 s, total: 5min 33s\n",
      "Wall time: 5min 30s\n"
     ]
    }
   ],
   "source": [
    "%%time\n",
    "res50 = {}\n",
    "for eps in eps_vals:\n",
    "    print(f'Running for eps={eps}')\n",
    "    res50[eps] = run_experiment(50, eps)"
   ]
  },
  {
   "cell_type": "code",
   "execution_count": 432,
   "id": "3eb0bd2e",
   "metadata": {},
   "outputs": [
    {
     "name": "stdout",
     "output_type": "stream",
     "text": [
      "Running for eps=0.1\n",
      "Running for eps=0.5\n",
      "Running for eps=1.0\n",
      "Running for eps=2.0\n",
      "CPU times: user 4min 32s, sys: 16.8 s, total: 4min 48s\n",
      "Wall time: 4min 46s\n"
     ]
    }
   ],
   "source": [
    "%%time\n",
    "res25 = {}\n",
    "for eps in eps_vals:\n",
    "    print(f'Running for eps={eps}')\n",
    "    res25[eps] = run_experiment(25, eps)"
   ]
  },
  {
   "cell_type": "code",
   "execution_count": 433,
   "id": "017cfca6",
   "metadata": {},
   "outputs": [
    {
     "name": "stdout",
     "output_type": "stream",
     "text": [
      "Running for eps=0.1\n"
     ]
    },
    {
     "name": "stderr",
     "output_type": "stream",
     "text": [
      "WARNING: /var/folders/bf/h8803kcx3fq5w8st_rt9637m0000gr/T/ipykernel_87159/2352293659.py:16: RuntimeWarning: invalid value encountered in true_divide\n",
      "  fdr = np.array(n_FP) / (np.array(n_FP) + np.array(n_TP))\n",
      "\n"
     ]
    },
    {
     "name": "stdout",
     "output_type": "stream",
     "text": [
      "Running for eps=0.5\n",
      "Running for eps=1.0\n",
      "Running for eps=2.0\n",
      "CPU times: user 3min 59s, sys: 11.7 s, total: 4min 11s\n",
      "Wall time: 4min 10s\n"
     ]
    }
   ],
   "source": [
    "%%time\n",
    "res75 = {}\n",
    "for eps in eps_vals:\n",
    "    print(f'Running for eps={eps}')\n",
    "    res75[eps] = run_experiment(75, eps)"
   ]
  },
  {
   "cell_type": "code",
   "execution_count": 434,
   "id": "d1a0d3e2",
   "metadata": {},
   "outputs": [
    {
     "name": "stdout",
     "output_type": "stream",
     "text": [
      "Running for eps=0.1\n"
     ]
    },
    {
     "name": "stderr",
     "output_type": "stream",
     "text": [
      "WARNING: /var/folders/bf/h8803kcx3fq5w8st_rt9637m0000gr/T/ipykernel_87159/2352293659.py:16: RuntimeWarning: invalid value encountered in true_divide\n",
      "  fdr = np.array(n_FP) / (np.array(n_FP) + np.array(n_TP))\n",
      "\n"
     ]
    },
    {
     "name": "stdout",
     "output_type": "stream",
     "text": [
      "Running for eps=0.5\n",
      "Running for eps=1.0\n",
      "Running for eps=2.0\n"
     ]
    },
    {
     "name": "stderr",
     "output_type": "stream",
     "text": [
      "WARNING: /var/folders/bf/h8803kcx3fq5w8st_rt9637m0000gr/T/ipykernel_87159/2352293659.py:16: RuntimeWarning: invalid value encountered in true_divide\n",
      "  fdr = np.array(n_FP) / (np.array(n_FP) + np.array(n_TP))\n",
      "\n"
     ]
    },
    {
     "name": "stdout",
     "output_type": "stream",
     "text": [
      "CPU times: user 4min 12s, sys: 15.2 s, total: 4min 27s\n",
      "Wall time: 4min 26s\n"
     ]
    }
   ],
   "source": [
    "%%time\n",
    "res95 = {}\n",
    "for eps in eps_vals:\n",
    "    print(f'Running for eps={eps}')\n",
    "    res95[eps] = run_experiment(95, eps)"
   ]
  },
  {
   "cell_type": "code",
   "execution_count": 561,
   "id": "e5a9adc3",
   "metadata": {},
   "outputs": [],
   "source": [
    "def extend_precision_recall(precision, recall):\n",
    "    recall = sorted(recall)\n",
    "    precision = sorted(precision, reverse=True)\n",
    "    max_p = max(precision)\n",
    "    min_r = min(recall)\n",
    "    if min_r > 0.01:\n",
    "        for r in np.arange(0, min_r, min_r/10.):\n",
    "            recall = [r] + list(recall)\n",
    "            precision = [max_p] + list(precision)\n",
    "    precision = list(precision)\n",
    "    recall = list(recall)\n",
    "    \n",
    "    if 1 in recall:\n",
    "        cutoff = 1+recall.index(1)\n",
    "        recall = recall[:cutoff]\n",
    "        precision = precision[:cutoff]\n",
    "    \n",
    "    return list(precision), list(recall)\n",
    "\n",
    "\n",
    "def plot_precision_recall(res, res_no_priv, ax, Pval, title=''):  \n",
    "    lines = cycle([\"-\", \"--\", \"-.\",\":\"])\n",
    "    lines = cycle([(0, ()), (0, (5, 5)), (0, (3, 5, 1, 5)), (0, (1, 1)), (0, (5,1))])\n",
    "    g = gs[P_vals.index(Pval)+1]\n",
    "    \n",
    "    precision, recall = extend_precision_recall(res_no_priv[1], res_no_priv[2])\n",
    "    ax.plot(recall, precision, label='no privacy', color='grey', lw=4, ls=next(lines))\n",
    "    \n",
    "    misordering_out = '% Misordered: '\n",
    "    limits_out = 'Upper limit of uniform: '\n",
    "    expectations_out = 'Expected Delays (B, U): '\n",
    "    \n",
    "    uppers = []\n",
    "    exps = []\n",
    "\n",
    "#     for eps in reversed(eps_vals): \n",
    "    for eps in ([1.0, 0.1, 2., 0.5]):\n",
    "        pct_misorder, precision, recall = res[eps]\n",
    "        \n",
    "        # smooth out end of precision/recall curve up to 0 precision\n",
    "\n",
    "        precision, recall = extend_precision_recall(precision, recall)\n",
    "        ax.plot(recall, precision, label=r'$\\epsilon$='+f'{eps}', lw=4,\n",
    "                ls=next(lines))\n",
    "        misordering_out += f'{eps}: {round(100*np.mean(pct_misorder),2)} '\n",
    "        \n",
    "        E_B = 5 + (expectation_unif(eps/2., g, True) / 60.)\n",
    "        E_U = 5 + (expectation_unif(eps/2., g, False) / 60.)\n",
    "        E = 0.25 * E_B + 0.75 * E_U\n",
    "        upper = 5 + (g*eps_to_K(eps) / 60.)\n",
    "        \n",
    "        uppers += [upper]\n",
    "        exps += [E]\n",
    "\n",
    "        expectations_out += f'{eps}: ({round(E, 2)})'\n",
    "        limits_out += f'{eps}: {round(upper, 2)}'\n",
    "    \n",
    "    ax.set_ylabel('Precision', fontsize=22)\n",
    "    ax.set_xlabel('Recall', fontsize=22)\n",
    "    ax.set_title(title, fontsize=22)\n",
    "    \n",
    "    legend = ax.legend(fontsize=22, ncol=2, bbox_to_anchor=(0.95, 1.25), handlelength=5)\n",
    "    plt.setp(legend.get_title(),fontsize=24)\n",
    "    \n",
    "    ax.tick_params(axis='both', which='major', labelsize=20)\n",
    "    ax.xaxis.get_ticklabels()[0].set_visible(False)\n",
    "    \n",
    "    uppers = [str(round(u)) for u in sorted(uppers, reverse=True)]\n",
    "    exps = [str(round(e)) for e in sorted(exps, reverse=True)]\n",
    "\n",
    "    print(' & '.join((exps)) + ' & ' + ' & '.join((uppers)))\n",
    "    print(f'g based on p{Pval}: {g / 60} mins')\n",
    "    print(limits_out)\n",
    "    print(expectations_out)\n",
    "    print(misordering_out)"
   ]
  },
  {
   "cell_type": "code",
   "execution_count": 562,
   "id": "334f89a8",
   "metadata": {},
   "outputs": [
    {
     "name": "stdout",
     "output_type": "stream",
     "text": [
      "343 & 83 & 50 & 35 & 672 & 152 & 88 & 56\n",
      "g based on p50: 32.531666666666666 mins\n",
      "Upper limit of uniform: 1.0: 87.680.1: 672.032.0: 56.460.5: 152.07\n",
      "Expected Delays (B, U): 1.0: (50.41)0.1: (342.58)2.0: (34.8)0.5: (82.6)\n",
      "% Misordered: 1.0: 8.82 0.1: 13.44 2.0: 7.87 0.5: 10.13 \n"
     ]
    },
    {
     "data": {
      "image/png": "[encoded data removed]",
      "text/plain": [
       "<Figure size 720x720 with 1 Axes>"
      ]
     },
     "metadata": {
      "needs_background": "light"
     },
     "output_type": "display_data"
    }
   ],
   "source": [
    "fig, ax = plt.subplots(figsize=(10,10))\n",
    "ax.set_ylim(0,1)\n",
    "# ax.set_xlim(0,1)\n",
    "plot_precision_recall(res50, res_no_priv, ax, 50)\n",
    "\n",
    "plt.show()"
   ]
  },
  {
   "cell_type": "code",
   "execution_count": 563,
   "id": "27ad9ede",
   "metadata": {},
   "outputs": [
    {
     "name": "stdout",
     "output_type": "stream",
     "text": [
      "2451 & 567 & 334 & 221 & 4839 & 1071 & 604 & 378\n",
      "g based on p95: 235.7561666666666 mins\n",
      "Upper limit of uniform: 1.0: 604.170.1: 4838.982.0: 377.960.5: 1070.81\n",
      "Expected Delays (B, U): 1.0: (334.06)0.1: (2451.46)2.0: (220.95)0.5: (567.37)\n",
      "% Misordered: 1.0: 13.05 0.1: 17.72 2.0: 12.02 0.5: 14.24 \n"
     ]
    },
    {
     "data": {
      "image/png": "[encoded data removed]",
      "text/plain": [
       "<Figure size 720x720 with 1 Axes>"
      ]
     },
     "metadata": {
      "needs_background": "light"
     },
     "output_type": "display_data"
    }
   ],
   "source": [
    "fig, ax = plt.subplots(figsize=(10,10))\n",
    "ax.set_ylim(0,1)\n",
    "\n",
    "plot_precision_recall(res95, res_no_priv, ax, 95)\n",
    "\n",
    "plt.show()"
   ]
  },
  {
   "cell_type": "code",
   "execution_count": 564,
   "id": "921fedaf",
   "metadata": {},
   "outputs": [
    {
     "ename": "SyntaxError",
     "evalue": "illegal target for annotation (2663015374.py, line 1)",
     "output_type": "error",
     "traceback": [
      "\u001b[0;36m  Input \u001b[0;32mIn [564]\u001b[0;36m\u001b[0m\n\u001b[0;31m    1.0: (20.23)0.1: (118.2)2.0: (14.99)0.5: (31.02)\u001b[0m\n\u001b[0m    ^\u001b[0m\n\u001b[0;31mSyntaxError\u001b[0m\u001b[0;31m:\u001b[0m illegal target for annotation\n"
     ]
    }
   ],
   "source": [
    "1.0: (20.23)0.1: (118.2)2.0: (14.99)0.5: (31.02)\n",
    "                \n",
    "15,"
   ]
  },
  {
   "cell_type": "code",
   "execution_count": 565,
   "id": "9b8726b2",
   "metadata": {},
   "outputs": [
    {
     "data": {
      "text/plain": [
       "[0.08356437238822798,\n",
       " 0.13182270836001683,\n",
       " 0.14880863011515716,\n",
       " 0.17376935302231056,\n",
       " 0.21244565815481362,\n",
       " 0.2800667171250462,\n",
       " 0.42785675718194704,\n",
       " 0.634083262628699,\n",
       " 0.6419164903362733,\n",
       " 0.645161112177682,\n",
       " 0.6467103965150134,\n",
       " 0.6517903615400698,\n",
       " 0.6588481585899166,\n",
       " 0.6631627105790365,\n",
       " 0.6674417677648675,\n",
       " 0.6733518705909687,\n",
       " 0.6806355744289658,\n",
       " 0.6806355744289658]"
      ]
     },
     "execution_count": 565,
     "metadata": {},
     "output_type": "execute_result"
    }
   ],
   "source": [
    "sorted(res25[0.5][1])"
   ]
  },
  {
   "cell_type": "code",
   "execution_count": 566,
   "id": "384615ab",
   "metadata": {},
   "outputs": [
    {
     "name": "stdout",
     "output_type": "stream",
     "text": [
      "118 & 31 & 20 & 15 & 229 & 54 & 33 & 22\n",
      "g based on p25: 10.908333333333333 mins\n",
      "Upper limit of uniform: 1.0: 32.720.1: 228.672.0: 22.260.5: 54.31\n",
      "Expected Delays (B, U): 1.0: (20.23)0.1: (118.2)2.0: (14.99)0.5: (31.02)\n",
      "% Misordered: 1.0: 6.79 0.1: 10.81 2.0: 6.54 0.5: 7.56 \n"
     ]
    },
    {
     "data": {
      "image/png": "[encoded data removed]",
      "text/plain": [
       "<Figure size 720x720 with 1 Axes>"
      ]
     },
     "metadata": {
      "needs_background": "light"
     },
     "output_type": "display_data"
    }
   ],
   "source": [
    "fig, ax = plt.subplots(figsize=(10,10))\n",
    "ax.set_ylim(0,1)\n",
    "\n",
    "plot_precision_recall(res25, res_no_priv, ax, 25)\n",
    "\n",
    "plt.show()"
   ]
  },
  {
   "cell_type": "code",
   "execution_count": 567,
   "id": "5b960568",
   "metadata": {},
   "outputs": [
    {
     "name": "stdout",
     "output_type": "stream",
     "text": [
      "820 & 192 & 115 & 77 & 1615 & 360 & 205 & 129\n",
      "g based on p75: 78.53999999999999 mins\n",
      "Upper limit of uniform: 1.0: 204.610.1: 1615.42.0: 129.250.5: 360.06\n",
      "Expected Delays (B, U): 1.0: (114.62)0.1: (820.02)2.0: (76.94)0.5: (192.35)\n",
      "% Misordered: 1.0: 11.3 0.1: 15.49 2.0: 10.16 0.5: 12.53 \n"
     ]
    },
    {
     "data": {
      "image/png": "[encoded data removed]",
      "text/plain": [
       "<Figure size 720x720 with 1 Axes>"
      ]
     },
     "metadata": {
      "needs_background": "light"
     },
     "output_type": "display_data"
    }
   ],
   "source": [
    "fig, ax = plt.subplots(figsize=(10,10))\n",
    "ax.set_ylim(0,1)\n",
    "\n",
    "plot_precision_recall(res75, res_no_priv, ax, 75)\n",
    "\n",
    "plt.show()"
   ]
  },
  {
   "cell_type": "code",
   "execution_count": 505,
   "id": "37247053",
   "metadata": {},
   "outputs": [
    {
     "data": {
      "text/plain": [
       "0.25418783097373826"
      ]
     },
     "execution_count": 505,
     "metadata": {},
     "output_type": "execute_result"
    }
   ],
   "source": [
    "df_cat_test.is_batched.mean()"
   ]
  },
  {
   "cell_type": "code",
   "execution_count": null,
   "id": "6dfe5bf8",
   "metadata": {},
   "outputs": [],
   "source": []
  }
 ],
 "metadata": {
  "kernelspec": {
   "display_name": "Python [conda env:timing] *",
   "language": "python",
   "name": "conda-env-timing-py"
  },
  "language_info": {
   "codemirror_mode": {
    "name": "ipython",
    "version": 3
   },
   "file_extension": ".py",
   "mimetype": "text/x-python",
   "name": "python",
   "nbconvert_exporter": "python",
   "pygments_lexer": "ipython3",
   "version": "3.10.4"
  }
 },
 "nbformat": 4,
 "nbformat_minor": 5
}

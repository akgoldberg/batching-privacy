{
 "cells": [
  {
   "cell_type": "code",
   "execution_count": 1,
   "id": "b35a0c03",
   "metadata": {},
   "outputs": [],
   "source": [
    "import pandas as pd\n",
    "import os\n",
    "import numpy as np\n",
    "import gzip\n",
    "import json\n",
    "\n",
    "import pywikibot\n",
    "import datetime as dt\n",
    "import time\n",
    "import threading"
   ]
  },
  {
   "cell_type": "code",
   "execution_count": 2,
   "id": "2ef53707",
   "metadata": {},
   "outputs": [],
   "source": [
    "df = pd.read_csv('wiki_data_all.csv', index_col=0)"
   ]
  },
  {
   "cell_type": "code",
   "execution_count": 3,
   "id": "0bde84db",
   "metadata": {},
   "outputs": [
    {
     "data": {
      "text/plain": [
       "(3872914, 9)"
      ]
     },
     "execution_count": 3,
     "metadata": {},
     "output_type": "execute_result"
    }
   ],
   "source": [
    "df.shape"
   ]
  },
  {
   "cell_type": "code",
   "execution_count": 4,
   "id": "ee8068a5",
   "metadata": {},
   "outputs": [
    {
     "data": {
      "text/html": [
       "<div>\n",
       "<style scoped>\n",
       "    .dataframe tbody tr th:only-of-type {\n",
       "        vertical-align: middle;\n",
       "    }\n",
       "\n",
       "    .dataframe tbody tr th {\n",
       "        vertical-align: top;\n",
       "    }\n",
       "\n",
       "    .dataframe thead th {\n",
       "        text-align: right;\n",
       "    }\n",
       "</style>\n",
       "<table border=\"1\" class=\"dataframe\">\n",
       "  <thead>\n",
       "    <tr style=\"text-align: right;\">\n",
       "      <th></th>\n",
       "      <th>user</th>\n",
       "      <th>userid</th>\n",
       "      <th>userhidden</th>\n",
       "      <th>timestamp</th>\n",
       "      <th>anon</th>\n",
       "      <th>commenthidden</th>\n",
       "      <th>revid</th>\n",
       "      <th>page</th>\n",
       "      <th>pageid</th>\n",
       "    </tr>\n",
       "  </thead>\n",
       "  <tbody>\n",
       "    <tr>\n",
       "      <th>0</th>\n",
       "      <td>Spizaetus</td>\n",
       "      <td>22753251.0</td>\n",
       "      <td>False</td>\n",
       "      <td>2022-01-29 09:48:05</td>\n",
       "      <td>False</td>\n",
       "      <td>False</td>\n",
       "      <td>1068599459</td>\n",
       "      <td>Lutreolina</td>\n",
       "      <td>3901282</td>\n",
       "    </tr>\n",
       "    <tr>\n",
       "      <th>1</th>\n",
       "      <td>WolfmanFP</td>\n",
       "      <td>29417873.0</td>\n",
       "      <td>False</td>\n",
       "      <td>2022-01-26 09:58:46</td>\n",
       "      <td>False</td>\n",
       "      <td>False</td>\n",
       "      <td>1068039579</td>\n",
       "      <td>Lutris</td>\n",
       "      <td>18477717</td>\n",
       "    </tr>\n",
       "    <tr>\n",
       "      <th>2</th>\n",
       "      <td>Ahunt</td>\n",
       "      <td>253891.0</td>\n",
       "      <td>False</td>\n",
       "      <td>2022-01-24 03:12:04</td>\n",
       "      <td>False</td>\n",
       "      <td>False</td>\n",
       "      <td>1067556746</td>\n",
       "      <td>Lutris</td>\n",
       "      <td>18477717</td>\n",
       "    </tr>\n",
       "    <tr>\n",
       "      <th>3</th>\n",
       "      <td>205.124.233.18</td>\n",
       "      <td>0.0</td>\n",
       "      <td>False</td>\n",
       "      <td>2022-01-06 19:45:19</td>\n",
       "      <td>True</td>\n",
       "      <td>False</td>\n",
       "      <td>1064138604</td>\n",
       "      <td>Lutris</td>\n",
       "      <td>18477717</td>\n",
       "    </tr>\n",
       "    <tr>\n",
       "      <th>4</th>\n",
       "      <td>Montenois</td>\n",
       "      <td>43089608.0</td>\n",
       "      <td>False</td>\n",
       "      <td>2022-01-08 14:54:32</td>\n",
       "      <td>False</td>\n",
       "      <td>False</td>\n",
       "      <td>1064472018</td>\n",
       "      <td>Lutriņi_Parish</td>\n",
       "      <td>22292060</td>\n",
       "    </tr>\n",
       "  </tbody>\n",
       "</table>\n",
       "</div>"
      ],
      "text/plain": [
       "             user      userid  userhidden            timestamp   anon  \\\n",
       "0       Spizaetus  22753251.0       False  2022-01-29 09:48:05  False   \n",
       "1       WolfmanFP  29417873.0       False  2022-01-26 09:58:46  False   \n",
       "2           Ahunt    253891.0       False  2022-01-24 03:12:04  False   \n",
       "3  205.124.233.18         0.0       False  2022-01-06 19:45:19   True   \n",
       "4       Montenois  43089608.0       False  2022-01-08 14:54:32  False   \n",
       "\n",
       "   commenthidden       revid            page    pageid  \n",
       "0          False  1068599459      Lutreolina   3901282  \n",
       "1          False  1068039579          Lutris  18477717  \n",
       "2          False  1067556746          Lutris  18477717  \n",
       "3          False  1064138604          Lutris  18477717  \n",
       "4          False  1064472018  Lutriņi_Parish  22292060  "
      ]
     },
     "execution_count": 4,
     "metadata": {},
     "output_type": "execute_result"
    }
   ],
   "source": [
    "df.head()"
   ]
  },
  {
   "cell_type": "code",
   "execution_count": 6,
   "id": "ad3ec808",
   "metadata": {},
   "outputs": [
    {
     "data": {
      "text/plain": [
       "user\n",
       "!Nsadqa                6\n",
       "\"Serious\" Sam Stone    6\n",
       "\"ameliaalexa\"          2\n",
       "\"hasanismailhasan\"     3\n",
       "\"theBOO Adam\"          1\n",
       "                      ..\n",
       "한스잘생김                  1\n",
       "황동기시대                  1\n",
       "（董宗瑋）                  1\n",
       "ＳＮＦ５０                  1\n",
       "Ｔｏｍ                    1\n",
       "Name: pageid, Length: 359919, dtype: int64"
      ]
     },
     "execution_count": 6,
     "metadata": {},
     "output_type": "execute_result"
    }
   ],
   "source": [
    "df.groupby(['user'])['pageid'].nunique()"
   ]
  },
  {
   "cell_type": "code",
   "execution_count": 9,
   "id": "0d024dee",
   "metadata": {},
   "outputs": [
    {
     "data": {
      "text/html": [
       "<div>\n",
       "<style scoped>\n",
       "    .dataframe tbody tr th:only-of-type {\n",
       "        vertical-align: middle;\n",
       "    }\n",
       "\n",
       "    .dataframe tbody tr th {\n",
       "        vertical-align: top;\n",
       "    }\n",
       "\n",
       "    .dataframe thead th {\n",
       "        text-align: right;\n",
       "    }\n",
       "</style>\n",
       "<table border=\"1\" class=\"dataframe\">\n",
       "  <thead>\n",
       "    <tr style=\"text-align: right;\">\n",
       "      <th></th>\n",
       "      <th>user</th>\n",
       "      <th>userid</th>\n",
       "      <th>userhidden</th>\n",
       "      <th>timestamp</th>\n",
       "      <th>anon</th>\n",
       "      <th>commenthidden</th>\n",
       "      <th>revid</th>\n",
       "      <th>page</th>\n",
       "      <th>pageid</th>\n",
       "    </tr>\n",
       "  </thead>\n",
       "  <tbody>\n",
       "    <tr>\n",
       "      <th>1678</th>\n",
       "      <td>BananaCarrot152</td>\n",
       "      <td>27557303.0</td>\n",
       "      <td>False</td>\n",
       "      <td>2022-01-17 02:38:51</td>\n",
       "      <td>False</td>\n",
       "      <td>False</td>\n",
       "      <td>1066157281</td>\n",
       "      <td>List_of_large_volcanic_eruptions</td>\n",
       "      <td>26652406</td>\n",
       "    </tr>\n",
       "  </tbody>\n",
       "</table>\n",
       "</div>"
      ],
      "text/plain": [
       "                 user      userid  userhidden            timestamp   anon  \\\n",
       "1678  BananaCarrot152  27557303.0       False  2022-01-17 02:38:51  False   \n",
       "\n",
       "      commenthidden       revid                              page    pageid  \n",
       "1678          False  1066157281  List_of_large_volcanic_eruptions  26652406  "
      ]
     },
     "execution_count": 9,
     "metadata": {},
     "output_type": "execute_result"
    }
   ],
   "source": [
    "df[df.user == 'BananaCarrot152']"
   ]
  },
  {
   "cell_type": "code",
   "execution_count": null,
   "id": "c8367206",
   "metadata": {},
   "outputs": [],
   "source": []
  }
 ],
 "metadata": {
  "kernelspec": {
   "display_name": "Python [conda env:timing] *",
   "language": "python",
   "name": "conda-env-timing-py"
  },
  "language_info": {
   "codemirror_mode": {
    "name": "ipython",
    "version": 3
   },
   "file_extension": ".py",
   "mimetype": "text/x-python",
   "name": "python",
   "nbconvert_exporter": "python",
   "pygments_lexer": "ipython3",
   "version": "3.10.4"
  }
 },
 "nbformat": 4,
 "nbformat_minor": 5
}

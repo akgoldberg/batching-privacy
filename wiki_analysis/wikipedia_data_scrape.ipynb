{
 "cells": [
  {
   "cell_type": "code",
   "execution_count": 1,
   "id": "b35a0c03",
   "metadata": {},
   "outputs": [],
   "source": [
    "import pandas as pd\n",
    "import numpy as np\n",
    "\n",
    "import datetime as dt\n",
    "import time\n",
    "\n",
    "import matplotlib.pyplot as plt"
   ]
  },
  {
   "cell_type": "code",
   "execution_count": 2,
   "id": "dd5c8400",
   "metadata": {},
   "outputs": [],
   "source": [
    "df = pd.read_csv('wiki_data_all.csv', index_col=0)"
   ]
  },
  {
   "cell_type": "code",
   "execution_count": 3,
   "id": "d12046b3",
   "metadata": {},
   "outputs": [
    {
     "data": {
      "text/plain": [
       "(3872914, 9)"
      ]
     },
     "execution_count": 3,
     "metadata": {},
     "output_type": "execute_result"
    }
   ],
   "source": [
    "df.shape"
   ]
  },
  {
   "cell_type": "code",
   "execution_count": 4,
   "id": "9c3035d5",
   "metadata": {},
   "outputs": [
    {
     "data": {
      "text/plain": [
       "('2022-01-01 00:00:00', '2022-02-01 00:00:00')"
      ]
     },
     "execution_count": 4,
     "metadata": {},
     "output_type": "execute_result"
    }
   ],
   "source": [
    "df.timestamp.min(), df.timestamp.max()"
   ]
  },
  {
   "cell_type": "code",
   "execution_count": 5,
   "id": "bec4c089",
   "metadata": {},
   "outputs": [
    {
     "data": {
      "text/html": [
       "<div>\n",
       "<style scoped>\n",
       "    .dataframe tbody tr th:only-of-type {\n",
       "        vertical-align: middle;\n",
       "    }\n",
       "\n",
       "    .dataframe tbody tr th {\n",
       "        vertical-align: top;\n",
       "    }\n",
       "\n",
       "    .dataframe thead th {\n",
       "        text-align: right;\n",
       "    }\n",
       "</style>\n",
       "<table border=\"1\" class=\"dataframe\">\n",
       "  <thead>\n",
       "    <tr style=\"text-align: right;\">\n",
       "      <th></th>\n",
       "      <th>user</th>\n",
       "      <th>userid</th>\n",
       "      <th>userhidden</th>\n",
       "      <th>timestamp</th>\n",
       "      <th>anon</th>\n",
       "      <th>commenthidden</th>\n",
       "      <th>revid</th>\n",
       "      <th>page</th>\n",
       "      <th>pageid</th>\n",
       "    </tr>\n",
       "  </thead>\n",
       "  <tbody>\n",
       "    <tr>\n",
       "      <th>0</th>\n",
       "      <td>Spizaetus</td>\n",
       "      <td>22753251.0</td>\n",
       "      <td>False</td>\n",
       "      <td>2022-01-29 09:48:05</td>\n",
       "      <td>False</td>\n",
       "      <td>False</td>\n",
       "      <td>1068599459</td>\n",
       "      <td>Lutreolina</td>\n",
       "      <td>3901282</td>\n",
       "    </tr>\n",
       "    <tr>\n",
       "      <th>1</th>\n",
       "      <td>WolfmanFP</td>\n",
       "      <td>29417873.0</td>\n",
       "      <td>False</td>\n",
       "      <td>2022-01-26 09:58:46</td>\n",
       "      <td>False</td>\n",
       "      <td>False</td>\n",
       "      <td>1068039579</td>\n",
       "      <td>Lutris</td>\n",
       "      <td>18477717</td>\n",
       "    </tr>\n",
       "    <tr>\n",
       "      <th>2</th>\n",
       "      <td>Ahunt</td>\n",
       "      <td>253891.0</td>\n",
       "      <td>False</td>\n",
       "      <td>2022-01-24 03:12:04</td>\n",
       "      <td>False</td>\n",
       "      <td>False</td>\n",
       "      <td>1067556746</td>\n",
       "      <td>Lutris</td>\n",
       "      <td>18477717</td>\n",
       "    </tr>\n",
       "    <tr>\n",
       "      <th>3</th>\n",
       "      <td>205.124.233.18</td>\n",
       "      <td>0.0</td>\n",
       "      <td>False</td>\n",
       "      <td>2022-01-06 19:45:19</td>\n",
       "      <td>True</td>\n",
       "      <td>False</td>\n",
       "      <td>1064138604</td>\n",
       "      <td>Lutris</td>\n",
       "      <td>18477717</td>\n",
       "    </tr>\n",
       "    <tr>\n",
       "      <th>4</th>\n",
       "      <td>Montenois</td>\n",
       "      <td>43089608.0</td>\n",
       "      <td>False</td>\n",
       "      <td>2022-01-08 14:54:32</td>\n",
       "      <td>False</td>\n",
       "      <td>False</td>\n",
       "      <td>1064472018</td>\n",
       "      <td>Lutriņi_Parish</td>\n",
       "      <td>22292060</td>\n",
       "    </tr>\n",
       "  </tbody>\n",
       "</table>\n",
       "</div>"
      ],
      "text/plain": [
       "             user      userid  userhidden            timestamp   anon  \\\n",
       "0       Spizaetus  22753251.0       False  2022-01-29 09:48:05  False   \n",
       "1       WolfmanFP  29417873.0       False  2022-01-26 09:58:46  False   \n",
       "2           Ahunt    253891.0       False  2022-01-24 03:12:04  False   \n",
       "3  205.124.233.18         0.0       False  2022-01-06 19:45:19   True   \n",
       "4       Montenois  43089608.0       False  2022-01-08 14:54:32  False   \n",
       "\n",
       "   commenthidden       revid            page    pageid  \n",
       "0          False  1068599459      Lutreolina   3901282  \n",
       "1          False  1068039579          Lutris  18477717  \n",
       "2          False  1067556746          Lutris  18477717  \n",
       "3          False  1064138604          Lutris  18477717  \n",
       "4          False  1064472018  Lutriņi_Parish  22292060  "
      ]
     },
     "execution_count": 5,
     "metadata": {},
     "output_type": "execute_result"
    }
   ],
   "source": [
    "df.head()"
   ]
  },
  {
   "cell_type": "code",
   "execution_count": 6,
   "id": "e35d2490",
   "metadata": {},
   "outputs": [],
   "source": [
    "g = df.groupby(['user'])['pageid'].nunique()"
   ]
  },
  {
   "cell_type": "code",
   "execution_count": 7,
   "id": "b89a8e12",
   "metadata": {},
   "outputs": [
    {
     "data": {
      "text/plain": [
       "(3872914, 359919, 25.127320313737258, 18.484479645042466)"
      ]
     },
     "execution_count": 7,
     "metadata": {},
     "output_type": "execute_result"
    }
   ],
   "source": [
    "n_revisions = df.shape[0]\n",
    "n_users = len(g)\n",
    "pct_multiple_page_edits = len(g[g>1]) / len(g)\n",
    "pct_anon = df[df.anon].shape[0] / n_revisions\n",
    "\n",
    "n_revisions, n_users, pct_multiple_page_edits*100, pct_anon * 100"
   ]
  },
  {
   "cell_type": "code",
   "execution_count": 8,
   "id": "b23aa893",
   "metadata": {},
   "outputs": [
    {
     "data": {
      "text/html": [
       "<div>\n",
       "<style scoped>\n",
       "    .dataframe tbody tr th:only-of-type {\n",
       "        vertical-align: middle;\n",
       "    }\n",
       "\n",
       "    .dataframe tbody tr th {\n",
       "        vertical-align: top;\n",
       "    }\n",
       "\n",
       "    .dataframe thead th {\n",
       "        text-align: right;\n",
       "    }\n",
       "</style>\n",
       "<table border=\"1\" class=\"dataframe\">\n",
       "  <thead>\n",
       "    <tr style=\"text-align: right;\">\n",
       "      <th></th>\n",
       "      <th>user</th>\n",
       "      <th>userid</th>\n",
       "      <th>userhidden</th>\n",
       "      <th>timestamp</th>\n",
       "      <th>anon</th>\n",
       "      <th>commenthidden</th>\n",
       "      <th>revid</th>\n",
       "      <th>page</th>\n",
       "      <th>pageid</th>\n",
       "    </tr>\n",
       "  </thead>\n",
       "  <tbody>\n",
       "    <tr>\n",
       "      <th>15517</th>\n",
       "      <td>(a)nnihilation97</td>\n",
       "      <td>40691937.0</td>\n",
       "      <td>False</td>\n",
       "      <td>2022-01-01 06:33:21</td>\n",
       "      <td>False</td>\n",
       "      <td>False</td>\n",
       "      <td>1063104033</td>\n",
       "      <td>The_Blip</td>\n",
       "      <td>66994566</td>\n",
       "    </tr>\n",
       "    <tr>\n",
       "      <th>15516</th>\n",
       "      <td>(a)nnihilation97</td>\n",
       "      <td>40691937.0</td>\n",
       "      <td>False</td>\n",
       "      <td>2022-01-01 06:34:15</td>\n",
       "      <td>False</td>\n",
       "      <td>False</td>\n",
       "      <td>1063104172</td>\n",
       "      <td>The_Blip</td>\n",
       "      <td>66994566</td>\n",
       "    </tr>\n",
       "    <tr>\n",
       "      <th>14617</th>\n",
       "      <td>(a)nnihilation97</td>\n",
       "      <td>40691937.0</td>\n",
       "      <td>False</td>\n",
       "      <td>2022-01-03 07:02:33</td>\n",
       "      <td>False</td>\n",
       "      <td>False</td>\n",
       "      <td>1063469504</td>\n",
       "      <td>Jackass_(franchise)</td>\n",
       "      <td>804705</td>\n",
       "    </tr>\n",
       "    <tr>\n",
       "      <th>14018</th>\n",
       "      <td>(a)nnihilation97</td>\n",
       "      <td>40691937.0</td>\n",
       "      <td>False</td>\n",
       "      <td>2022-01-03 07:57:09</td>\n",
       "      <td>False</td>\n",
       "      <td>False</td>\n",
       "      <td>1063475050</td>\n",
       "      <td>List_of_Batman_films_cast_members</td>\n",
       "      <td>7421354</td>\n",
       "    </tr>\n",
       "    <tr>\n",
       "      <th>14017</th>\n",
       "      <td>(a)nnihilation97</td>\n",
       "      <td>40691937.0</td>\n",
       "      <td>False</td>\n",
       "      <td>2022-01-03 07:59:07</td>\n",
       "      <td>False</td>\n",
       "      <td>False</td>\n",
       "      <td>1063475212</td>\n",
       "      <td>List_of_Batman_films_cast_members</td>\n",
       "      <td>7421354</td>\n",
       "    </tr>\n",
       "    <tr>\n",
       "      <th>...</th>\n",
       "      <td>...</td>\n",
       "      <td>...</td>\n",
       "      <td>...</td>\n",
       "      <td>...</td>\n",
       "      <td>...</td>\n",
       "      <td>...</td>\n",
       "      <td>...</td>\n",
       "      <td>...</td>\n",
       "      <td>...</td>\n",
       "    </tr>\n",
       "    <tr>\n",
       "      <th>4890</th>\n",
       "      <td>(a)nnihilation97</td>\n",
       "      <td>40691937.0</td>\n",
       "      <td>False</td>\n",
       "      <td>2022-01-27 04:59:22</td>\n",
       "      <td>False</td>\n",
       "      <td>False</td>\n",
       "      <td>1068198948</td>\n",
       "      <td>Spider-Man_in_video_games</td>\n",
       "      <td>2041364</td>\n",
       "    </tr>\n",
       "    <tr>\n",
       "      <th>4889</th>\n",
       "      <td>(a)nnihilation97</td>\n",
       "      <td>40691937.0</td>\n",
       "      <td>False</td>\n",
       "      <td>2022-01-27 04:59:57</td>\n",
       "      <td>False</td>\n",
       "      <td>False</td>\n",
       "      <td>1068199008</td>\n",
       "      <td>Spider-Man_in_video_games</td>\n",
       "      <td>2041364</td>\n",
       "    </tr>\n",
       "    <tr>\n",
       "      <th>4888</th>\n",
       "      <td>(a)nnihilation97</td>\n",
       "      <td>40691937.0</td>\n",
       "      <td>False</td>\n",
       "      <td>2022-01-27 05:01:29</td>\n",
       "      <td>False</td>\n",
       "      <td>False</td>\n",
       "      <td>1068199165</td>\n",
       "      <td>Spider-Man_in_video_games</td>\n",
       "      <td>2041364</td>\n",
       "    </tr>\n",
       "    <tr>\n",
       "      <th>15461</th>\n",
       "      <td>(a)nnihilation97</td>\n",
       "      <td>40691937.0</td>\n",
       "      <td>False</td>\n",
       "      <td>2022-01-28 16:57:42</td>\n",
       "      <td>False</td>\n",
       "      <td>False</td>\n",
       "      <td>1068480236</td>\n",
       "      <td>Roswell_Records</td>\n",
       "      <td>57912528</td>\n",
       "    </tr>\n",
       "    <tr>\n",
       "      <th>15460</th>\n",
       "      <td>(a)nnihilation97</td>\n",
       "      <td>40691937.0</td>\n",
       "      <td>False</td>\n",
       "      <td>2022-01-28 16:58:54</td>\n",
       "      <td>False</td>\n",
       "      <td>False</td>\n",
       "      <td>1068480406</td>\n",
       "      <td>Roswell_Records</td>\n",
       "      <td>57912528</td>\n",
       "    </tr>\n",
       "  </tbody>\n",
       "</table>\n",
       "<p>529 rows × 9 columns</p>\n",
       "</div>"
      ],
      "text/plain": [
       "                   user      userid  userhidden            timestamp   anon  \\\n",
       "15517  (a)nnihilation97  40691937.0       False  2022-01-01 06:33:21  False   \n",
       "15516  (a)nnihilation97  40691937.0       False  2022-01-01 06:34:15  False   \n",
       "14617  (a)nnihilation97  40691937.0       False  2022-01-03 07:02:33  False   \n",
       "14018  (a)nnihilation97  40691937.0       False  2022-01-03 07:57:09  False   \n",
       "14017  (a)nnihilation97  40691937.0       False  2022-01-03 07:59:07  False   \n",
       "...                 ...         ...         ...                  ...    ...   \n",
       "4890   (a)nnihilation97  40691937.0       False  2022-01-27 04:59:22  False   \n",
       "4889   (a)nnihilation97  40691937.0       False  2022-01-27 04:59:57  False   \n",
       "4888   (a)nnihilation97  40691937.0       False  2022-01-27 05:01:29  False   \n",
       "15461  (a)nnihilation97  40691937.0       False  2022-01-28 16:57:42  False   \n",
       "15460  (a)nnihilation97  40691937.0       False  2022-01-28 16:58:54  False   \n",
       "\n",
       "       commenthidden       revid                               page    pageid  \n",
       "15517          False  1063104033                           The_Blip  66994566  \n",
       "15516          False  1063104172                           The_Blip  66994566  \n",
       "14617          False  1063469504                Jackass_(franchise)    804705  \n",
       "14018          False  1063475050  List_of_Batman_films_cast_members   7421354  \n",
       "14017          False  1063475212  List_of_Batman_films_cast_members   7421354  \n",
       "...              ...         ...                                ...       ...  \n",
       "4890           False  1068198948          Spider-Man_in_video_games   2041364  \n",
       "4889           False  1068199008          Spider-Man_in_video_games   2041364  \n",
       "4888           False  1068199165          Spider-Man_in_video_games   2041364  \n",
       "15461          False  1068480236                    Roswell_Records  57912528  \n",
       "15460          False  1068480406                    Roswell_Records  57912528  \n",
       "\n",
       "[529 rows x 9 columns]"
      ]
     },
     "execution_count": 8,
     "metadata": {},
     "output_type": "execute_result"
    }
   ],
   "source": [
    "df[df.user == g[g>=5].index[5]].sort_values(by='timestamp')"
   ]
  },
  {
   "cell_type": "code",
   "execution_count": 27,
   "id": "79110be0",
   "metadata": {},
   "outputs": [
    {
     "data": {
      "text/plain": [
       "0.18484479645042468"
      ]
     },
     "execution_count": 27,
     "metadata": {},
     "output_type": "execute_result"
    }
   ],
   "source": []
  },
  {
   "cell_type": "code",
   "execution_count": null,
   "id": "b0f9f59c",
   "metadata": {},
   "outputs": [],
   "source": []
  }
 ],
 "metadata": {
  "kernelspec": {
   "display_name": "Python [conda env:timing] *",
   "language": "python",
   "name": "conda-env-timing-py"
  },
  "language_info": {
   "codemirror_mode": {
    "name": "ipython",
    "version": 3
   },
   "file_extension": ".py",
   "mimetype": "text/x-python",
   "name": "python",
   "nbconvert_exporter": "python",
   "pygments_lexer": "ipython3",
   "version": "3.10.4"
  }
 },
 "nbformat": 4,
 "nbformat_minor": 5
}

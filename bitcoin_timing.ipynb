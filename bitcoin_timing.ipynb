{
 "cells": [
  {
   "cell_type": "code",
   "execution_count": 1,
   "id": "3e461934",
   "metadata": {},
   "outputs": [
    {
     "ename": "ModuleNotFoundError",
     "evalue": "No module named 'seaborn'",
     "output_type": "error",
     "traceback": [
      "\u001b[0;31m---------------------------------------------------------------------------\u001b[0m",
      "\u001b[0;31mModuleNotFoundError\u001b[0m                       Traceback (most recent call last)",
      "\u001b[0;32m/var/folders/bf/h8803kcx3fq5w8st_rt9637m0000gr/T/ipykernel_34284/691317002.py\u001b[0m in \u001b[0;36m<module>\u001b[0;34m\u001b[0m\n\u001b[1;32m      8\u001b[0m \u001b[0;32mimport\u001b[0m \u001b[0mnumpy\u001b[0m \u001b[0;32mas\u001b[0m \u001b[0mnp\u001b[0m\u001b[0;34m\u001b[0m\u001b[0;34m\u001b[0m\u001b[0m\n\u001b[1;32m      9\u001b[0m \u001b[0;32mimport\u001b[0m \u001b[0mmatplotlib\u001b[0m\u001b[0;34m.\u001b[0m\u001b[0mpyplot\u001b[0m \u001b[0;32mas\u001b[0m \u001b[0mplt\u001b[0m\u001b[0;34m\u001b[0m\u001b[0;34m\u001b[0m\u001b[0m\n\u001b[0;32m---> 10\u001b[0;31m \u001b[0;32mimport\u001b[0m \u001b[0mseaborn\u001b[0m \u001b[0;32mas\u001b[0m \u001b[0msns\u001b[0m\u001b[0;34m\u001b[0m\u001b[0;34m\u001b[0m\u001b[0m\n\u001b[0m\u001b[1;32m     11\u001b[0m \u001b[0;34m\u001b[0m\u001b[0m\n\u001b[1;32m     12\u001b[0m \u001b[0;32mfrom\u001b[0m \u001b[0mdatetime\u001b[0m \u001b[0;32mimport\u001b[0m \u001b[0mdatetime\u001b[0m \u001b[0;32mas\u001b[0m \u001b[0mdt\u001b[0m\u001b[0;34m,\u001b[0m \u001b[0mtimedelta\u001b[0m\u001b[0;34m\u001b[0m\u001b[0;34m\u001b[0m\u001b[0m\n",
      "\u001b[0;31mModuleNotFoundError\u001b[0m: No module named 'seaborn'"
     ]
    }
   ],
   "source": [
    "import requests\n",
    "import json\n",
    "import os\n",
    "import time\n",
    "from ast import literal_eval\n",
    "\n",
    "import pandas as pd\n",
    "import numpy as np\n",
    "import matplotlib.pyplot as plt\n",
    "import seaborn as sns\n",
    "\n",
    "from datetime import datetime as dt, timedelta"
   ]
  },
  {
   "cell_type": "markdown",
   "id": "53503b0e",
   "metadata": {},
   "source": [
    "### Get Data"
   ]
  },
  {
   "cell_type": "code",
   "execution_count": 2,
   "id": "647eb4a4",
   "metadata": {},
   "outputs": [],
   "source": [
    "DS = '2022-08-01'"
   ]
  },
  {
   "cell_type": "code",
   "execution_count": 3,
   "id": "7a297ff9",
   "metadata": {},
   "outputs": [],
   "source": [
    "## https://www.blockchain.com/api/blockchain_api\n",
    "url = 'https://blockchain.info'\n",
    "\n",
    "def get_blocks(ds):\n",
    "    ts = round((dt.strptime(ds,'%Y-%m-%d') + timedelta(days=1)).timestamp() * 1000)\n",
    "    r = requests.get(f\"{url}/blocks/{ts}?format=json\")\n",
    "    if r.status_code == 404:\n",
    "        raise Exception(\"Request failed\")\n",
    "    return r.json()\n",
    "\n",
    "def get_data_dir(ds):\n",
    "    return os.path.join('btc_tx_data', DS.replace('-', '_'))\n",
    "\n",
    "def get_fname(ds, n, batch=10):\n",
    "    return os.path.join(get_data_dir(ds), f\"tx_{n}_{n+batch-1}.json\")\n",
    "\n",
    "# retrieve bitcoin data for ds and save locally ('batch' blocks at a time)\n",
    "def load_transactions(ds, batch=10):\n",
    "    # save data locally\n",
    "    data_dir = get_data_dir(ds)\n",
    "    if not os.path.isdir(data_dir):\n",
    "        os.mkdir(data_dir)\n",
    "        \n",
    "    # get block data (ensure always sorted by block index)\n",
    "    blocks = sorted(get_blocks(DS), key= lambda d: d['block_index'])\n",
    "    \n",
    "    # load transaction data\n",
    "    txs = []\n",
    "    n = 1\n",
    "    print(f'====== Getting transactions for {len(blocks)} blocks ======')\n",
    "    while(n <= len(blocks)):  \n",
    "        if (os.path.exists(get_fname(ds, n, batch))):\n",
    "            print(f\"{n+batch-1} blocks already loaded\")  \n",
    "            n+=batch\n",
    "        else:\n",
    "            h = blocks[n-1]['hash']\n",
    "            r = requests.get(f\"{url}/block/{h}?format=json\") \n",
    "\n",
    "            if r.status_code == 404:\n",
    "                raise Exception(\"Request failed\")\n",
    "\n",
    "            txs += r.json()['tx']\n",
    "\n",
    "            if (n % batch == 0):\n",
    "                # write to a file every 'batch' blocks\n",
    "                with open(get_fname(ds, n-batch+1, batch), 'w') as f:\n",
    "                    json.dump(tx, f)\n",
    "                txs = []\n",
    "                print(f\"Completed {n} blocks\")     \n",
    "        \n",
    "            n+=1\n",
    "\n",
    "# get data from locally saved files on ds\n",
    "def get_transactions(ds):\n",
    "    data_dir = get_data_dir(ds)\n",
    "    \n",
    "    if not os.path.isdir(data_dir):\n",
    "        raise Exception(\"Data not downloaded yet.\")\n",
    "    \n",
    "    txs = []\n",
    "    \n",
    "    for fn in os.listdir(data_dir):\n",
    "        if('.json' in fn):\n",
    "            with open(os.path.join(data_dir, fn), 'r') as f:\n",
    "                txs += json.load(f)\n",
    "    return txs"
   ]
  },
  {
   "cell_type": "code",
   "execution_count": 4,
   "id": "c1f9e130",
   "metadata": {},
   "outputs": [
    {
     "name": "stdout",
     "output_type": "stream",
     "text": [
      "====== Getting transactions for 149 blocks ======\n",
      "10 blocks already loaded\n",
      "20 blocks already loaded\n",
      "30 blocks already loaded\n",
      "40 blocks already loaded\n",
      "50 blocks already loaded\n",
      "60 blocks already loaded\n",
      "70 blocks already loaded\n",
      "80 blocks already loaded\n",
      "90 blocks already loaded\n",
      "100 blocks already loaded\n",
      "110 blocks already loaded\n",
      "120 blocks already loaded\n",
      "130 blocks already loaded\n",
      "140 blocks already loaded\n"
     ]
    }
   ],
   "source": [
    "load_transactions(DS)\n",
    "txs = get_transactions(DS)"
   ]
  },
  {
   "cell_type": "code",
   "execution_count": 5,
   "id": "1d76da05",
   "metadata": {},
   "outputs": [
    {
     "data": {
      "text/plain": [
       "256287"
      ]
     },
     "execution_count": 5,
     "metadata": {},
     "output_type": "execute_result"
    }
   ],
   "source": [
    "len(txs)"
   ]
  },
  {
   "cell_type": "markdown",
   "id": "5d64c65e",
   "metadata": {},
   "source": [
    "## Clean Data"
   ]
  },
  {
   "cell_type": "code",
   "execution_count": 6,
   "id": "5463e934",
   "metadata": {},
   "outputs": [],
   "source": [
    "def extract_data(tx):\n",
    "    return {'hash': tx['hash'],\n",
    "            'time': tx['time'], \n",
    "            'input_addr': sorted(list(filter(None, [i['prev_out'].get('addr') for i in tx['inputs']]))),\n",
    "            'output_addr': sorted(list(filter(None, [o.get('addr') for o in tx['out']]))), \n",
    "            'input_value_tot': sum([int(i['prev_out'].get('value')) for i in tx['inputs']]),\n",
    "            'output_value_tot': sum([int(o.get('value')) for o in tx['out']]),\n",
    "            'fee': tx['fee']}\n",
    "\n",
    "# NOTE: value is in 10e-8 BTC"
   ]
  },
  {
   "cell_type": "code",
   "execution_count": 7,
   "id": "9798e115",
   "metadata": {},
   "outputs": [],
   "source": [
    "df = pd.DataFrame([extract_data(tx) for tx in txs])"
   ]
  },
  {
   "cell_type": "code",
   "execution_count": 8,
   "id": "4d409eb2",
   "metadata": {},
   "outputs": [],
   "source": [
    "df['dt_time'] = [dt.fromtimestamp(t) for t in df['time']]\n",
    "df['n_outputs'] = [len(o) for o in df['output_addr']]\n",
    "df['n_inputs'] = [len(i) for i in df['input_addr']]\n",
    "df['output_addr_str'] = [','.join(addr) for addr in df['output_addr']]\n",
    "df['input_addr_str'] = [','.join(addr) for addr in df['input_addr']]\n",
    "\n",
    "# rough btc to usd conversion\n",
    "cvr = 1e-8 * 22000\n",
    "df['input_value_tot_usd'] = round(df['input_value_tot'] * cvr, 2)\n",
    "df['output_vaue_tot_usd'] = round(df['output_value_tot'] * cvr, 2)\n",
    "\n",
    "\n",
    "# get start time, assuming that start at a whole hour\n",
    "start_dt = df.dt_time.min().replace(second = 0, minute = 0)\n",
    "\n",
    "# discrete time unit in minutes (use 1 minute)\n",
    "D = 1\n",
    "\n",
    "# assign create times to discrete epochs\n",
    "def get_epoch(ts, start, D):\n",
    "    return int(np.floor((ts - start).total_seconds() / (60. * D)))\n",
    "\n",
    "df['epoch'] = [get_epoch(ts, start_dt, D) for ts in df['dt_time']]\n",
    "\n",
    "df =  df[(df.input_value_tot > 0) \n",
    "             & (df.output_value_tot > 0)\n",
    "             & (df.output_addr_str != '')\n",
    "             & (df.input_addr_str != '')]"
   ]
  },
  {
   "cell_type": "code",
   "execution_count": 9,
   "id": "79071f48",
   "metadata": {},
   "outputs": [],
   "source": [
    "# get (output addr) x (epoch) where multiple input addr sent to the same output \n",
    "multiple = df.groupby(['output_addr_str', 'epoch'])['input_addr_str'].nunique()\n",
    "m = multiple[multiple > 1].index"
   ]
  },
  {
   "cell_type": "code",
   "execution_count": 10,
   "id": "4373a98b",
   "metadata": {},
   "outputs": [],
   "source": [
    "df_multi = df.set_index(['output_addr_str', 'epoch']).loc[m].reset_index()"
   ]
  },
  {
   "cell_type": "code",
   "execution_count": 11,
   "id": "5e3290f6",
   "metadata": {},
   "outputs": [
    {
     "data": {
      "text/html": [
       "<div>\n",
       "<style scoped>\n",
       "    .dataframe tbody tr th:only-of-type {\n",
       "        vertical-align: middle;\n",
       "    }\n",
       "\n",
       "    .dataframe tbody tr th {\n",
       "        vertical-align: top;\n",
       "    }\n",
       "\n",
       "    .dataframe thead th {\n",
       "        text-align: right;\n",
       "    }\n",
       "</style>\n",
       "<table border=\"1\" class=\"dataframe\">\n",
       "  <thead>\n",
       "    <tr style=\"text-align: right;\">\n",
       "      <th></th>\n",
       "      <th>output_addr_str</th>\n",
       "      <th>epoch</th>\n",
       "      <th>hash</th>\n",
       "      <th>time</th>\n",
       "      <th>input_addr</th>\n",
       "      <th>output_addr</th>\n",
       "      <th>input_value_tot</th>\n",
       "      <th>output_value_tot</th>\n",
       "      <th>fee</th>\n",
       "      <th>dt_time</th>\n",
       "      <th>n_outputs</th>\n",
       "      <th>n_inputs</th>\n",
       "      <th>input_addr_str</th>\n",
       "      <th>input_value_tot_usd</th>\n",
       "      <th>output_vaue_tot_usd</th>\n",
       "    </tr>\n",
       "  </thead>\n",
       "  <tbody>\n",
       "    <tr>\n",
       "      <th>0</th>\n",
       "      <td>1215bzNH2G2jVcgToAaxtaC3My6BamqvVc</td>\n",
       "      <td>1015</td>\n",
       "      <td>16b7785b3baf60e62f73851774f5a67e2b558e7a8c90ea...</td>\n",
       "      <td>1659376517</td>\n",
       "      <td>[bc1qptal06y9hedtc3t7a2468dnjle4kl2kgp36nfa]</td>\n",
       "      <td>[1215bzNH2G2jVcgToAaxtaC3My6BamqvVc]</td>\n",
       "      <td>10000000</td>\n",
       "      <td>9996820</td>\n",
       "      <td>3180</td>\n",
       "      <td>2022-08-01 13:55:17</td>\n",
       "      <td>1</td>\n",
       "      <td>1</td>\n",
       "      <td>bc1qptal06y9hedtc3t7a2468dnjle4kl2kgp36nfa</td>\n",
       "      <td>2200.00</td>\n",
       "      <td>2199.30</td>\n",
       "    </tr>\n",
       "    <tr>\n",
       "      <th>1</th>\n",
       "      <td>1215bzNH2G2jVcgToAaxtaC3My6BamqvVc</td>\n",
       "      <td>1015</td>\n",
       "      <td>f25b64579f6838e491199129307ebfa1f4634b47760a51...</td>\n",
       "      <td>1659376541</td>\n",
       "      <td>[1JKtgVyaVEVxZ4tnts7oywaQRhnHsXSKji]</td>\n",
       "      <td>[1215bzNH2G2jVcgToAaxtaC3My6BamqvVc]</td>\n",
       "      <td>15000000</td>\n",
       "      <td>14996820</td>\n",
       "      <td>3180</td>\n",
       "      <td>2022-08-01 13:55:41</td>\n",
       "      <td>1</td>\n",
       "      <td>1</td>\n",
       "      <td>1JKtgVyaVEVxZ4tnts7oywaQRhnHsXSKji</td>\n",
       "      <td>3300.00</td>\n",
       "      <td>3299.30</td>\n",
       "    </tr>\n",
       "    <tr>\n",
       "      <th>2</th>\n",
       "      <td>124yvJcUW5da2cgctQucenm2LBMKDKExWc</td>\n",
       "      <td>1316</td>\n",
       "      <td>b3bfe911c20f8457942c2a5f20877b26e548e6b39bd03d...</td>\n",
       "      <td>1659394560</td>\n",
       "      <td>[1GmXnNKPMg4SBAj9oD3eFa72fRyQJh1fvU]</td>\n",
       "      <td>[124yvJcUW5da2cgctQucenm2LBMKDKExWc]</td>\n",
       "      <td>450992</td>\n",
       "      <td>449792</td>\n",
       "      <td>1200</td>\n",
       "      <td>2022-08-01 18:56:00</td>\n",
       "      <td>1</td>\n",
       "      <td>1</td>\n",
       "      <td>1GmXnNKPMg4SBAj9oD3eFa72fRyQJh1fvU</td>\n",
       "      <td>99.22</td>\n",
       "      <td>98.95</td>\n",
       "    </tr>\n",
       "    <tr>\n",
       "      <th>3</th>\n",
       "      <td>124yvJcUW5da2cgctQucenm2LBMKDKExWc</td>\n",
       "      <td>1316</td>\n",
       "      <td>8b2acc1e783ff28de3d448c82c0b57030cdd5ccb61b1a0...</td>\n",
       "      <td>1659394560</td>\n",
       "      <td>[1E1PQ7jrKBMtghxXyDjLJJFap2H7kNNJM3]</td>\n",
       "      <td>[124yvJcUW5da2cgctQucenm2LBMKDKExWc]</td>\n",
       "      <td>640200</td>\n",
       "      <td>639000</td>\n",
       "      <td>1200</td>\n",
       "      <td>2022-08-01 18:56:00</td>\n",
       "      <td>1</td>\n",
       "      <td>1</td>\n",
       "      <td>1E1PQ7jrKBMtghxXyDjLJJFap2H7kNNJM3</td>\n",
       "      <td>140.84</td>\n",
       "      <td>140.58</td>\n",
       "    </tr>\n",
       "    <tr>\n",
       "      <th>4</th>\n",
       "      <td>12LmCGL92PbNJ8t6nyRUkB98D9UFe8myjt</td>\n",
       "      <td>390</td>\n",
       "      <td>6b41ee21ec8af255f94f201d9b60a52ff8bb3227888de5...</td>\n",
       "      <td>1659339027</td>\n",
       "      <td>[bc1q2q87vdv4kmaz50g7n9qxqsrrm5p32s5nfdrnrw, b...</td>\n",
       "      <td>[12LmCGL92PbNJ8t6nyRUkB98D9UFe8myjt]</td>\n",
       "      <td>73239784</td>\n",
       "      <td>73232996</td>\n",
       "      <td>6788</td>\n",
       "      <td>2022-08-01 03:30:27</td>\n",
       "      <td>1</td>\n",
       "      <td>5</td>\n",
       "      <td>bc1q2q87vdv4kmaz50g7n9qxqsrrm5p32s5nfdrnrw,bc1...</td>\n",
       "      <td>16112.75</td>\n",
       "      <td>16111.26</td>\n",
       "    </tr>\n",
       "    <tr>\n",
       "      <th>5</th>\n",
       "      <td>12LmCGL92PbNJ8t6nyRUkB98D9UFe8myjt</td>\n",
       "      <td>390</td>\n",
       "      <td>cf8903ba9dcdbf84a2c326d87c1239c85f74c75480af3e...</td>\n",
       "      <td>1659339025</td>\n",
       "      <td>[bc1q0u5w2ks73dknk7uru3hyvav2rn2l4aqdx3u04p, b...</td>\n",
       "      <td>[12LmCGL92PbNJ8t6nyRUkB98D9UFe8myjt]</td>\n",
       "      <td>306561685</td>\n",
       "      <td>306555140</td>\n",
       "      <td>6545</td>\n",
       "      <td>2022-08-01 03:30:25</td>\n",
       "      <td>1</td>\n",
       "      <td>9</td>\n",
       "      <td>bc1q0u5w2ks73dknk7uru3hyvav2rn2l4aqdx3u04p,bc1...</td>\n",
       "      <td>67443.57</td>\n",
       "      <td>67442.13</td>\n",
       "    </tr>\n",
       "    <tr>\n",
       "      <th>6</th>\n",
       "      <td>12LmCGL92PbNJ8t6nyRUkB98D9UFe8myjt,bc1qvzmym6q...</td>\n",
       "      <td>334</td>\n",
       "      <td>1693ec6cd0309ad3d2106cd9c5f981187f490d9b26f9eb...</td>\n",
       "      <td>1659335647</td>\n",
       "      <td>[bc1qv3xqm2tqunqeyr6nnll8sv0ch3kwu7prlw4yvf]</td>\n",
       "      <td>[12LmCGL92PbNJ8t6nyRUkB98D9UFe8myjt, bc1qvzmym...</td>\n",
       "      <td>11471945</td>\n",
       "      <td>11471609</td>\n",
       "      <td>336</td>\n",
       "      <td>2022-08-01 02:34:07</td>\n",
       "      <td>2</td>\n",
       "      <td>1</td>\n",
       "      <td>bc1qv3xqm2tqunqeyr6nnll8sv0ch3kwu7prlw4yvf</td>\n",
       "      <td>2523.83</td>\n",
       "      <td>2523.75</td>\n",
       "    </tr>\n",
       "    <tr>\n",
       "      <th>7</th>\n",
       "      <td>12LmCGL92PbNJ8t6nyRUkB98D9UFe8myjt,bc1qvzmym6q...</td>\n",
       "      <td>334</td>\n",
       "      <td>f5aea768ef3596471a4a0643d37084b0f931480de5e222...</td>\n",
       "      <td>1659335660</td>\n",
       "      <td>[bc1qvzmym6qqppw79gy9932cz9suun7c65vxy5dh58]</td>\n",
       "      <td>[12LmCGL92PbNJ8t6nyRUkB98D9UFe8myjt, bc1qvzmym...</td>\n",
       "      <td>10591757</td>\n",
       "      <td>10591421</td>\n",
       "      <td>336</td>\n",
       "      <td>2022-08-01 02:34:20</td>\n",
       "      <td>2</td>\n",
       "      <td>1</td>\n",
       "      <td>bc1qvzmym6qqppw79gy9932cz9suun7c65vxy5dh58</td>\n",
       "      <td>2330.19</td>\n",
       "      <td>2330.11</td>\n",
       "    </tr>\n",
       "    <tr>\n",
       "      <th>8</th>\n",
       "      <td>12LmCGL92PbNJ8t6nyRUkB98D9UFe8myjt,bc1qvzmym6q...</td>\n",
       "      <td>334</td>\n",
       "      <td>a05fd1aaac7f071d73acba866771f955e4a09f14980a6c...</td>\n",
       "      <td>1659335689</td>\n",
       "      <td>[bc1q7qkrwsfhd2gf0h2htt44qfgwc4kng9wfwfkdup]</td>\n",
       "      <td>[12LmCGL92PbNJ8t6nyRUkB98D9UFe8myjt, bc1qvzmym...</td>\n",
       "      <td>10184202</td>\n",
       "      <td>10183866</td>\n",
       "      <td>336</td>\n",
       "      <td>2022-08-01 02:34:49</td>\n",
       "      <td>2</td>\n",
       "      <td>1</td>\n",
       "      <td>bc1q7qkrwsfhd2gf0h2htt44qfgwc4kng9wfwfkdup</td>\n",
       "      <td>2240.52</td>\n",
       "      <td>2240.45</td>\n",
       "    </tr>\n",
       "    <tr>\n",
       "      <th>9</th>\n",
       "      <td>12gVsQE3uEJJTKcisK71875FUe4jXVc6mj</td>\n",
       "      <td>310</td>\n",
       "      <td>3a03ab374785f004adf96519d6d682004abce9aadc2e0e...</td>\n",
       "      <td>1659334231</td>\n",
       "      <td>[18F8kWf1FQzoSaUeXzuUMtsaDSuDYj7PkJ]</td>\n",
       "      <td>[12gVsQE3uEJJTKcisK71875FUe4jXVc6mj]</td>\n",
       "      <td>947483</td>\n",
       "      <td>940623</td>\n",
       "      <td>6860</td>\n",
       "      <td>2022-08-01 02:10:31</td>\n",
       "      <td>1</td>\n",
       "      <td>1</td>\n",
       "      <td>18F8kWf1FQzoSaUeXzuUMtsaDSuDYj7PkJ</td>\n",
       "      <td>208.45</td>\n",
       "      <td>206.94</td>\n",
       "    </tr>\n",
       "  </tbody>\n",
       "</table>\n",
       "</div>"
      ],
      "text/plain": [
       "                                     output_addr_str  epoch  \\\n",
       "0                 1215bzNH2G2jVcgToAaxtaC3My6BamqvVc   1015   \n",
       "1                 1215bzNH2G2jVcgToAaxtaC3My6BamqvVc   1015   \n",
       "2                 124yvJcUW5da2cgctQucenm2LBMKDKExWc   1316   \n",
       "3                 124yvJcUW5da2cgctQucenm2LBMKDKExWc   1316   \n",
       "4                 12LmCGL92PbNJ8t6nyRUkB98D9UFe8myjt    390   \n",
       "5                 12LmCGL92PbNJ8t6nyRUkB98D9UFe8myjt    390   \n",
       "6  12LmCGL92PbNJ8t6nyRUkB98D9UFe8myjt,bc1qvzmym6q...    334   \n",
       "7  12LmCGL92PbNJ8t6nyRUkB98D9UFe8myjt,bc1qvzmym6q...    334   \n",
       "8  12LmCGL92PbNJ8t6nyRUkB98D9UFe8myjt,bc1qvzmym6q...    334   \n",
       "9                 12gVsQE3uEJJTKcisK71875FUe4jXVc6mj    310   \n",
       "\n",
       "                                                hash        time  \\\n",
       "0  16b7785b3baf60e62f73851774f5a67e2b558e7a8c90ea...  1659376517   \n",
       "1  f25b64579f6838e491199129307ebfa1f4634b47760a51...  1659376541   \n",
       "2  b3bfe911c20f8457942c2a5f20877b26e548e6b39bd03d...  1659394560   \n",
       "3  8b2acc1e783ff28de3d448c82c0b57030cdd5ccb61b1a0...  1659394560   \n",
       "4  6b41ee21ec8af255f94f201d9b60a52ff8bb3227888de5...  1659339027   \n",
       "5  cf8903ba9dcdbf84a2c326d87c1239c85f74c75480af3e...  1659339025   \n",
       "6  1693ec6cd0309ad3d2106cd9c5f981187f490d9b26f9eb...  1659335647   \n",
       "7  f5aea768ef3596471a4a0643d37084b0f931480de5e222...  1659335660   \n",
       "8  a05fd1aaac7f071d73acba866771f955e4a09f14980a6c...  1659335689   \n",
       "9  3a03ab374785f004adf96519d6d682004abce9aadc2e0e...  1659334231   \n",
       "\n",
       "                                          input_addr  \\\n",
       "0       [bc1qptal06y9hedtc3t7a2468dnjle4kl2kgp36nfa]   \n",
       "1               [1JKtgVyaVEVxZ4tnts7oywaQRhnHsXSKji]   \n",
       "2               [1GmXnNKPMg4SBAj9oD3eFa72fRyQJh1fvU]   \n",
       "3               [1E1PQ7jrKBMtghxXyDjLJJFap2H7kNNJM3]   \n",
       "4  [bc1q2q87vdv4kmaz50g7n9qxqsrrm5p32s5nfdrnrw, b...   \n",
       "5  [bc1q0u5w2ks73dknk7uru3hyvav2rn2l4aqdx3u04p, b...   \n",
       "6       [bc1qv3xqm2tqunqeyr6nnll8sv0ch3kwu7prlw4yvf]   \n",
       "7       [bc1qvzmym6qqppw79gy9932cz9suun7c65vxy5dh58]   \n",
       "8       [bc1q7qkrwsfhd2gf0h2htt44qfgwc4kng9wfwfkdup]   \n",
       "9               [18F8kWf1FQzoSaUeXzuUMtsaDSuDYj7PkJ]   \n",
       "\n",
       "                                         output_addr  input_value_tot  \\\n",
       "0               [1215bzNH2G2jVcgToAaxtaC3My6BamqvVc]         10000000   \n",
       "1               [1215bzNH2G2jVcgToAaxtaC3My6BamqvVc]         15000000   \n",
       "2               [124yvJcUW5da2cgctQucenm2LBMKDKExWc]           450992   \n",
       "3               [124yvJcUW5da2cgctQucenm2LBMKDKExWc]           640200   \n",
       "4               [12LmCGL92PbNJ8t6nyRUkB98D9UFe8myjt]         73239784   \n",
       "5               [12LmCGL92PbNJ8t6nyRUkB98D9UFe8myjt]        306561685   \n",
       "6  [12LmCGL92PbNJ8t6nyRUkB98D9UFe8myjt, bc1qvzmym...         11471945   \n",
       "7  [12LmCGL92PbNJ8t6nyRUkB98D9UFe8myjt, bc1qvzmym...         10591757   \n",
       "8  [12LmCGL92PbNJ8t6nyRUkB98D9UFe8myjt, bc1qvzmym...         10184202   \n",
       "9               [12gVsQE3uEJJTKcisK71875FUe4jXVc6mj]           947483   \n",
       "\n",
       "   output_value_tot   fee             dt_time  n_outputs  n_inputs  \\\n",
       "0           9996820  3180 2022-08-01 13:55:17          1         1   \n",
       "1          14996820  3180 2022-08-01 13:55:41          1         1   \n",
       "2            449792  1200 2022-08-01 18:56:00          1         1   \n",
       "3            639000  1200 2022-08-01 18:56:00          1         1   \n",
       "4          73232996  6788 2022-08-01 03:30:27          1         5   \n",
       "5         306555140  6545 2022-08-01 03:30:25          1         9   \n",
       "6          11471609   336 2022-08-01 02:34:07          2         1   \n",
       "7          10591421   336 2022-08-01 02:34:20          2         1   \n",
       "8          10183866   336 2022-08-01 02:34:49          2         1   \n",
       "9            940623  6860 2022-08-01 02:10:31          1         1   \n",
       "\n",
       "                                      input_addr_str  input_value_tot_usd  \\\n",
       "0         bc1qptal06y9hedtc3t7a2468dnjle4kl2kgp36nfa              2200.00   \n",
       "1                 1JKtgVyaVEVxZ4tnts7oywaQRhnHsXSKji              3300.00   \n",
       "2                 1GmXnNKPMg4SBAj9oD3eFa72fRyQJh1fvU                99.22   \n",
       "3                 1E1PQ7jrKBMtghxXyDjLJJFap2H7kNNJM3               140.84   \n",
       "4  bc1q2q87vdv4kmaz50g7n9qxqsrrm5p32s5nfdrnrw,bc1...             16112.75   \n",
       "5  bc1q0u5w2ks73dknk7uru3hyvav2rn2l4aqdx3u04p,bc1...             67443.57   \n",
       "6         bc1qv3xqm2tqunqeyr6nnll8sv0ch3kwu7prlw4yvf              2523.83   \n",
       "7         bc1qvzmym6qqppw79gy9932cz9suun7c65vxy5dh58              2330.19   \n",
       "8         bc1q7qkrwsfhd2gf0h2htt44qfgwc4kng9wfwfkdup              2240.52   \n",
       "9                 18F8kWf1FQzoSaUeXzuUMtsaDSuDYj7PkJ               208.45   \n",
       "\n",
       "   output_vaue_tot_usd  \n",
       "0              2199.30  \n",
       "1              3299.30  \n",
       "2                98.95  \n",
       "3               140.58  \n",
       "4             16111.26  \n",
       "5             67442.13  \n",
       "6              2523.75  \n",
       "7              2330.11  \n",
       "8              2240.45  \n",
       "9               206.94  "
      ]
     },
     "execution_count": 11,
     "metadata": {},
     "output_type": "execute_result"
    }
   ],
   "source": [
    "df_multi.head(10)"
   ]
  },
  {
   "cell_type": "code",
   "execution_count": 12,
   "id": "107f5882",
   "metadata": {},
   "outputs": [
    {
     "data": {
      "text/plain": [
       "(256116, 15)"
      ]
     },
     "execution_count": 12,
     "metadata": {},
     "output_type": "execute_result"
    }
   ],
   "source": [
    "df.shape"
   ]
  },
  {
   "cell_type": "code",
   "execution_count": 13,
   "id": "82d6b20e",
   "metadata": {},
   "outputs": [
    {
     "data": {
      "text/plain": [
       "(3834, 15)"
      ]
     },
     "execution_count": 13,
     "metadata": {},
     "output_type": "execute_result"
    }
   ],
   "source": [
    "df_multi.shape"
   ]
  },
  {
   "cell_type": "code",
   "execution_count": 14,
   "id": "ba6082f8",
   "metadata": {},
   "outputs": [
    {
     "data": {
      "text/plain": [
       "1423601305.8400002"
      ]
     },
     "execution_count": 14,
     "metadata": {},
     "output_type": "execute_result"
    }
   ],
   "source": [
    "df_multi.output_vaue_tot_usd.sum()"
   ]
  },
  {
   "cell_type": "code",
   "execution_count": 16,
   "id": "888a0bed",
   "metadata": {},
   "outputs": [
    {
     "data": {
      "text/plain": [
       "epoch\n",
       "56        1\n",
       "57        3\n",
       "58        4\n",
       "59        2\n",
       "60        6\n",
       "       ... \n",
       "1558    121\n",
       "1559    113\n",
       "1560    158\n",
       "1561    132\n",
       "1562     11\n",
       "Name: hash, Length: 1506, dtype: int64"
      ]
     },
     "execution_count": 16,
     "metadata": {},
     "output_type": "execute_result"
    }
   ],
   "source": [
    "df.groupby('epoch').count().hash"
   ]
  },
  {
   "cell_type": "code",
   "execution_count": 30,
   "id": "fa60b093",
   "metadata": {},
   "outputs": [
    {
     "data": {
      "image/png": "[encoded data removed]",
      "text/plain": [
       "<Figure size 1080x720 with 1 Axes>"
      ]
     },
     "metadata": {
      "needs_background": "light"
     },
     "output_type": "display_data"
    }
   ],
   "source": [
    "fig, ax = plt.subplots(figsize=(15,10))\n",
    "\n",
    "plt.plot(df.groupby('epoch').count().hash)\n",
    "plt.xlabel('Minute of the Day')\n",
    "plt.ylabel('Number of Transactions per Minute')\n",
    "\n",
    "plt.show()"
   ]
  },
  {
   "cell_type": "markdown",
   "id": "b5569c2f",
   "metadata": {},
   "source": [
    "### Get Additional Account Data"
   ]
  },
  {
   "cell_type": "code",
   "execution_count": 39,
   "id": "1aec602b",
   "metadata": {},
   "outputs": [],
   "source": [
    "## https://blockchair.com/api/docs#link_M2\n",
    "url2 = 'https://api.blockchair.com/bitcoin/dashboards'\n",
    "\n",
    "def get_addr_data(a):\n",
    "    r = requests.get(f\"{url2}/address/{a}/?transaction_details=true&limit=100\")\n",
    "    \n",
    "    if r.status_code == 429:\n",
    "        raise Exception(\"Hit rate limit.\")\n",
    "    \n",
    "    if r.status_code != 200:\n",
    "        return None\n",
    "    \n",
    "    d = r.json()['data'][a]\n",
    "        \n",
    "    # get transaction receivd by the address\n",
    "    times = [tx['time'] for tx in d['transactions'] if tx['balance_change'] > 0]\n",
    "    \n",
    "    return {'addr': a,\n",
    "            'first_seen_receiving': d['address']['first_seen_receiving'],\n",
    "            'total_received': d['address']['received'],\n",
    "            'total_received_usd': d['address']['received_usd'],\n",
    "            'lifetime_tx_count': d['address']['transaction_count'],\n",
    "            'incoming_tx_times': times}\n",
    "\n",
    "def load_all_addr_data(addrs, ds=DS, batch=25):\n",
    "    def get_addr_file(data_dir, n, batch):\n",
    "        return os.path.join(data_dir, f'addr{int(np.floor(n/batch))}.csv')\n",
    "    \n",
    "    data_dir = os.path.join(get_data_dir(ds), 'addr')\n",
    "    if not os.path.isdir(data_dir):\n",
    "        os.mkdir(data_dir)\n",
    "    \n",
    "    n = 0\n",
    "    n_err = 0\n",
    "    addr_data = []\n",
    "    \n",
    "    print(f'===== Fetching data for {len(addrs)} addresses =====')\n",
    "    while n < len(addrs):\n",
    "        if os.path.exists(get_addr_file(data_dir, n, batch)):\n",
    "            print(f\"{n+batch} addresses already loaded\")  \n",
    "            n+=batch\n",
    "            \n",
    "        else:\n",
    "            data = get_addr_data(addrs[n])\n",
    "            time.sleep(5) # delay 5 seconds to prevent rate limit (> 30 a minute)\n",
    "            \n",
    "            if data == None:\n",
    "                n_err += 1\n",
    "            else:\n",
    "                addr_data += [data]\n",
    "                \n",
    "            if (n+1) % batch == 0:\n",
    "                if 100 * n_err / batch >= 5:\n",
    "                    print(f'Too many errors, failed on {n+1} addresses')\n",
    "                else:\n",
    "                    # save data frame to file\n",
    "                    pd.DataFrame(addr_data).to_csv(get_addr_file(data_dir, n-1, batch))\n",
    "                    print(f'Completed {n+1} addresses')\n",
    "                n_err = 0\n",
    "                addr_data = []\n",
    "            n += 1\n",
    "            \n",
    "    print(f'Completed {n+1} addresses') \n",
    "\n",
    "# get data from locally saved files on ds\n",
    "def get_addresses(ds=DS):\n",
    "    \n",
    "    def parse_time_list(s):\n",
    "        l = literal_eval(s)\n",
    "        return sorted([dt.strptime(t, '%Y-%m-%d %H:%M:%S') for t in l])\n",
    "    \n",
    "    data_dir = os.path.join(get_data_dir(ds), 'addr')\n",
    "    \n",
    "    if not os.path.isdir(data_dir):\n",
    "        raise Exception(\"Data not downloaded yet.\")\n",
    "    \n",
    "    addrs = []\n",
    "    \n",
    "    for fn in os.listdir(data_dir):\n",
    "        if('.csv' in fn):\n",
    "            with open(os.path.join(data_dir, fn), 'r') as f:\n",
    "                d = pd.read_csv(f, index_col = 0)\n",
    "                d.incoming_tx_times = d.incoming_tx_times.apply(parse_time_list)\n",
    "                addrs += [d]\n",
    "                \n",
    "    return pd.concat(addrs).reset_index(drop=True)"
   ]
  },
  {
   "cell_type": "code",
   "execution_count": 40,
   "id": "321880d2",
   "metadata": {},
   "outputs": [
    {
     "name": "stdout",
     "output_type": "stream",
     "text": [
      "===== Fetching data for 344 addresses =====\n",
      "25 addresses already loaded\n",
      "50 addresses already loaded\n",
      "75 addresses already loaded\n",
      "100 addresses already loaded\n",
      "125 addresses already loaded\n",
      "150 addresses already loaded\n",
      "175 addresses already loaded\n",
      "200 addresses already loaded\n",
      "225 addresses already loaded\n",
      "250 addresses already loaded\n",
      "275 addresses already loaded\n",
      "300 addresses already loaded\n",
      "325 addresses already loaded\n",
      "Completed 345 addresses\n"
     ]
    }
   ],
   "source": [
    "df_multi_addr = df_multi[df_multi.n_outputs == 1]\n",
    "addrs = df_multi_addr['output_addr_str'].unique()\n",
    "\n",
    "load_all_addr_data(addrs)"
   ]
  },
  {
   "cell_type": "code",
   "execution_count": 41,
   "id": "e932cb0e",
   "metadata": {},
   "outputs": [],
   "source": [
    "df_addr_data = get_addresses()"
   ]
  },
  {
   "cell_type": "code",
   "execution_count": 42,
   "id": "eb3d9afe",
   "metadata": {},
   "outputs": [],
   "source": [
    "df1 = df_multi_addr.set_index('output_addr_str')\n",
    "df2 = df_addr_data.set_index('addr'),\n",
    "df_all = df1.join(df2, how='inner').reset_index().rename(columns={'index': 'addr'})"
   ]
  },
  {
   "cell_type": "code",
   "execution_count": 43,
   "id": "3982b573",
   "metadata": {},
   "outputs": [
    {
     "data": {
      "text/html": [
       "<div>\n",
       "<style scoped>\n",
       "    .dataframe tbody tr th:only-of-type {\n",
       "        vertical-align: middle;\n",
       "    }\n",
       "\n",
       "    .dataframe tbody tr th {\n",
       "        vertical-align: top;\n",
       "    }\n",
       "\n",
       "    .dataframe thead th {\n",
       "        text-align: right;\n",
       "    }\n",
       "</style>\n",
       "<table border=\"1\" class=\"dataframe\">\n",
       "  <thead>\n",
       "    <tr style=\"text-align: right;\">\n",
       "      <th></th>\n",
       "      <th>addr</th>\n",
       "      <th>epoch</th>\n",
       "      <th>hash</th>\n",
       "      <th>time</th>\n",
       "      <th>input_addr</th>\n",
       "      <th>output_addr</th>\n",
       "      <th>input_value_tot</th>\n",
       "      <th>output_value_tot</th>\n",
       "      <th>fee</th>\n",
       "      <th>dt_time</th>\n",
       "      <th>n_outputs</th>\n",
       "      <th>n_inputs</th>\n",
       "      <th>input_addr_str</th>\n",
       "      <th>input_value_tot_usd</th>\n",
       "      <th>output_vaue_tot_usd</th>\n",
       "      <th>first_seen_receiving</th>\n",
       "      <th>total_received</th>\n",
       "      <th>total_received_usd</th>\n",
       "      <th>lifetime_tx_count</th>\n",
       "      <th>incoming_tx_times</th>\n",
       "    </tr>\n",
       "  </thead>\n",
       "  <tbody>\n",
       "    <tr>\n",
       "      <th>0</th>\n",
       "      <td>1215bzNH2G2jVcgToAaxtaC3My6BamqvVc</td>\n",
       "      <td>1015</td>\n",
       "      <td>16b7785b3baf60e62f73851774f5a67e2b558e7a8c90ea...</td>\n",
       "      <td>1659376517</td>\n",
       "      <td>[bc1qptal06y9hedtc3t7a2468dnjle4kl2kgp36nfa]</td>\n",
       "      <td>[1215bzNH2G2jVcgToAaxtaC3My6BamqvVc]</td>\n",
       "      <td>10000000</td>\n",
       "      <td>9996820</td>\n",
       "      <td>3180</td>\n",
       "      <td>2022-08-01 13:55:17</td>\n",
       "      <td>1</td>\n",
       "      <td>1</td>\n",
       "      <td>bc1qptal06y9hedtc3t7a2468dnjle4kl2kgp36nfa</td>\n",
       "      <td>2200.00</td>\n",
       "      <td>2199.30</td>\n",
       "      <td>2017-03-28 04:19:11</td>\n",
       "      <td>88342311</td>\n",
       "      <td>1.215859e+04</td>\n",
       "      <td>23</td>\n",
       "      <td>[2017-03-28 04:19:11, 2017-03-28 04:19:11, 201...</td>\n",
       "    </tr>\n",
       "    <tr>\n",
       "      <th>1</th>\n",
       "      <td>1215bzNH2G2jVcgToAaxtaC3My6BamqvVc</td>\n",
       "      <td>1015</td>\n",
       "      <td>f25b64579f6838e491199129307ebfa1f4634b47760a51...</td>\n",
       "      <td>1659376541</td>\n",
       "      <td>[1JKtgVyaVEVxZ4tnts7oywaQRhnHsXSKji]</td>\n",
       "      <td>[1215bzNH2G2jVcgToAaxtaC3My6BamqvVc]</td>\n",
       "      <td>15000000</td>\n",
       "      <td>14996820</td>\n",
       "      <td>3180</td>\n",
       "      <td>2022-08-01 13:55:41</td>\n",
       "      <td>1</td>\n",
       "      <td>1</td>\n",
       "      <td>1JKtgVyaVEVxZ4tnts7oywaQRhnHsXSKji</td>\n",
       "      <td>3300.00</td>\n",
       "      <td>3299.30</td>\n",
       "      <td>2017-03-28 04:19:11</td>\n",
       "      <td>88342311</td>\n",
       "      <td>1.215859e+04</td>\n",
       "      <td>23</td>\n",
       "      <td>[2017-03-28 04:19:11, 2017-03-28 04:19:11, 201...</td>\n",
       "    </tr>\n",
       "    <tr>\n",
       "      <th>2</th>\n",
       "      <td>124yvJcUW5da2cgctQucenm2LBMKDKExWc</td>\n",
       "      <td>1316</td>\n",
       "      <td>b3bfe911c20f8457942c2a5f20877b26e548e6b39bd03d...</td>\n",
       "      <td>1659394560</td>\n",
       "      <td>[1GmXnNKPMg4SBAj9oD3eFa72fRyQJh1fvU]</td>\n",
       "      <td>[124yvJcUW5da2cgctQucenm2LBMKDKExWc]</td>\n",
       "      <td>450992</td>\n",
       "      <td>449792</td>\n",
       "      <td>1200</td>\n",
       "      <td>2022-08-01 18:56:00</td>\n",
       "      <td>1</td>\n",
       "      <td>1</td>\n",
       "      <td>1GmXnNKPMg4SBAj9oD3eFa72fRyQJh1fvU</td>\n",
       "      <td>99.22</td>\n",
       "      <td>98.95</td>\n",
       "      <td>2021-12-03 11:23:28</td>\n",
       "      <td>7616518084</td>\n",
       "      <td>2.948682e+06</td>\n",
       "      <td>1797</td>\n",
       "      <td>[2022-07-25 14:33:53, 2022-07-25 19:13:09, 202...</td>\n",
       "    </tr>\n",
       "    <tr>\n",
       "      <th>3</th>\n",
       "      <td>124yvJcUW5da2cgctQucenm2LBMKDKExWc</td>\n",
       "      <td>1316</td>\n",
       "      <td>8b2acc1e783ff28de3d448c82c0b57030cdd5ccb61b1a0...</td>\n",
       "      <td>1659394560</td>\n",
       "      <td>[1E1PQ7jrKBMtghxXyDjLJJFap2H7kNNJM3]</td>\n",
       "      <td>[124yvJcUW5da2cgctQucenm2LBMKDKExWc]</td>\n",
       "      <td>640200</td>\n",
       "      <td>639000</td>\n",
       "      <td>1200</td>\n",
       "      <td>2022-08-01 18:56:00</td>\n",
       "      <td>1</td>\n",
       "      <td>1</td>\n",
       "      <td>1E1PQ7jrKBMtghxXyDjLJJFap2H7kNNJM3</td>\n",
       "      <td>140.84</td>\n",
       "      <td>140.58</td>\n",
       "      <td>2021-12-03 11:23:28</td>\n",
       "      <td>7616518084</td>\n",
       "      <td>2.948682e+06</td>\n",
       "      <td>1797</td>\n",
       "      <td>[2022-07-25 14:33:53, 2022-07-25 19:13:09, 202...</td>\n",
       "    </tr>\n",
       "    <tr>\n",
       "      <th>4</th>\n",
       "      <td>12LmCGL92PbNJ8t6nyRUkB98D9UFe8myjt</td>\n",
       "      <td>390</td>\n",
       "      <td>6b41ee21ec8af255f94f201d9b60a52ff8bb3227888de5...</td>\n",
       "      <td>1659339027</td>\n",
       "      <td>[bc1q2q87vdv4kmaz50g7n9qxqsrrm5p32s5nfdrnrw, b...</td>\n",
       "      <td>[12LmCGL92PbNJ8t6nyRUkB98D9UFe8myjt]</td>\n",
       "      <td>73239784</td>\n",
       "      <td>73232996</td>\n",
       "      <td>6788</td>\n",
       "      <td>2022-08-01 03:30:27</td>\n",
       "      <td>1</td>\n",
       "      <td>5</td>\n",
       "      <td>bc1q2q87vdv4kmaz50g7n9qxqsrrm5p32s5nfdrnrw,bc1...</td>\n",
       "      <td>16112.75</td>\n",
       "      <td>16111.26</td>\n",
       "      <td>2021-05-24 13:52:58</td>\n",
       "      <td>97946083072</td>\n",
       "      <td>2.227452e+07</td>\n",
       "      <td>1384</td>\n",
       "      <td>[2022-08-02 09:20:36, 2022-08-02 13:06:29, 202...</td>\n",
       "    </tr>\n",
       "  </tbody>\n",
       "</table>\n",
       "</div>"
      ],
      "text/plain": [
       "                                 addr  epoch  \\\n",
       "0  1215bzNH2G2jVcgToAaxtaC3My6BamqvVc   1015   \n",
       "1  1215bzNH2G2jVcgToAaxtaC3My6BamqvVc   1015   \n",
       "2  124yvJcUW5da2cgctQucenm2LBMKDKExWc   1316   \n",
       "3  124yvJcUW5da2cgctQucenm2LBMKDKExWc   1316   \n",
       "4  12LmCGL92PbNJ8t6nyRUkB98D9UFe8myjt    390   \n",
       "\n",
       "                                                hash        time  \\\n",
       "0  16b7785b3baf60e62f73851774f5a67e2b558e7a8c90ea...  1659376517   \n",
       "1  f25b64579f6838e491199129307ebfa1f4634b47760a51...  1659376541   \n",
       "2  b3bfe911c20f8457942c2a5f20877b26e548e6b39bd03d...  1659394560   \n",
       "3  8b2acc1e783ff28de3d448c82c0b57030cdd5ccb61b1a0...  1659394560   \n",
       "4  6b41ee21ec8af255f94f201d9b60a52ff8bb3227888de5...  1659339027   \n",
       "\n",
       "                                          input_addr  \\\n",
       "0       [bc1qptal06y9hedtc3t7a2468dnjle4kl2kgp36nfa]   \n",
       "1               [1JKtgVyaVEVxZ4tnts7oywaQRhnHsXSKji]   \n",
       "2               [1GmXnNKPMg4SBAj9oD3eFa72fRyQJh1fvU]   \n",
       "3               [1E1PQ7jrKBMtghxXyDjLJJFap2H7kNNJM3]   \n",
       "4  [bc1q2q87vdv4kmaz50g7n9qxqsrrm5p32s5nfdrnrw, b...   \n",
       "\n",
       "                            output_addr  input_value_tot  output_value_tot  \\\n",
       "0  [1215bzNH2G2jVcgToAaxtaC3My6BamqvVc]         10000000           9996820   \n",
       "1  [1215bzNH2G2jVcgToAaxtaC3My6BamqvVc]         15000000          14996820   \n",
       "2  [124yvJcUW5da2cgctQucenm2LBMKDKExWc]           450992            449792   \n",
       "3  [124yvJcUW5da2cgctQucenm2LBMKDKExWc]           640200            639000   \n",
       "4  [12LmCGL92PbNJ8t6nyRUkB98D9UFe8myjt]         73239784          73232996   \n",
       "\n",
       "    fee             dt_time  n_outputs  n_inputs  \\\n",
       "0  3180 2022-08-01 13:55:17          1         1   \n",
       "1  3180 2022-08-01 13:55:41          1         1   \n",
       "2  1200 2022-08-01 18:56:00          1         1   \n",
       "3  1200 2022-08-01 18:56:00          1         1   \n",
       "4  6788 2022-08-01 03:30:27          1         5   \n",
       "\n",
       "                                      input_addr_str  input_value_tot_usd  \\\n",
       "0         bc1qptal06y9hedtc3t7a2468dnjle4kl2kgp36nfa              2200.00   \n",
       "1                 1JKtgVyaVEVxZ4tnts7oywaQRhnHsXSKji              3300.00   \n",
       "2                 1GmXnNKPMg4SBAj9oD3eFa72fRyQJh1fvU                99.22   \n",
       "3                 1E1PQ7jrKBMtghxXyDjLJJFap2H7kNNJM3               140.84   \n",
       "4  bc1q2q87vdv4kmaz50g7n9qxqsrrm5p32s5nfdrnrw,bc1...             16112.75   \n",
       "\n",
       "   output_vaue_tot_usd first_seen_receiving  total_received  \\\n",
       "0              2199.30  2017-03-28 04:19:11        88342311   \n",
       "1              3299.30  2017-03-28 04:19:11        88342311   \n",
       "2                98.95  2021-12-03 11:23:28      7616518084   \n",
       "3               140.58  2021-12-03 11:23:28      7616518084   \n",
       "4             16111.26  2021-05-24 13:52:58     97946083072   \n",
       "\n",
       "   total_received_usd  lifetime_tx_count  \\\n",
       "0        1.215859e+04                 23   \n",
       "1        1.215859e+04                 23   \n",
       "2        2.948682e+06               1797   \n",
       "3        2.948682e+06               1797   \n",
       "4        2.227452e+07               1384   \n",
       "\n",
       "                                   incoming_tx_times  \n",
       "0  [2017-03-28 04:19:11, 2017-03-28 04:19:11, 201...  \n",
       "1  [2017-03-28 04:19:11, 2017-03-28 04:19:11, 201...  \n",
       "2  [2022-07-25 14:33:53, 2022-07-25 19:13:09, 202...  \n",
       "3  [2022-07-25 14:33:53, 2022-07-25 19:13:09, 202...  \n",
       "4  [2022-08-02 09:20:36, 2022-08-02 13:06:29, 202...  "
      ]
     },
     "execution_count": 43,
     "metadata": {},
     "output_type": "execute_result"
    }
   ],
   "source": [
    "df_all.head()"
   ]
  },
  {
   "cell_type": "code",
   "execution_count": 47,
   "id": "11aac1f8",
   "metadata": {},
   "outputs": [
    {
     "data": {
      "text/plain": [
       "(256116, 15)"
      ]
     },
     "execution_count": 47,
     "metadata": {},
     "output_type": "execute_result"
    }
   ],
   "source": [
    "df.shape"
   ]
  },
  {
   "cell_type": "code",
   "execution_count": 44,
   "id": "23c4abba",
   "metadata": {},
   "outputs": [
    {
     "data": {
      "text/plain": [
       "(3048, 20)"
      ]
     },
     "execution_count": 44,
     "metadata": {},
     "output_type": "execute_result"
    }
   ],
   "source": [
    "df_all.shape"
   ]
  },
  {
   "cell_type": "code",
   "execution_count": 51,
   "id": "a84fc615",
   "metadata": {},
   "outputs": [
    {
     "data": {
      "text/plain": [
       "1339010912.73"
      ]
     },
     "execution_count": 51,
     "metadata": {},
     "output_type": "execute_result"
    }
   ],
   "source": [
    "np.sum(df_all.output_vaue_tot_usd)"
   ]
  },
  {
   "cell_type": "code",
   "execution_count": 45,
   "id": "dbbe071d",
   "metadata": {},
   "outputs": [
    {
     "data": {
      "text/plain": [
       "887"
      ]
     },
     "execution_count": 45,
     "metadata": {},
     "output_type": "execute_result"
    }
   ],
   "source": [
    "batch_sizes = df_all.groupby(['epoch', 'addr'])['time'].count()\n",
    "batch_sizes[batch_sizes == 2].count()\n",
    "\n",
    "# total # of instances of batching\n",
    "len(batch_sizes)"
   ]
  },
  {
   "cell_type": "code",
   "execution_count": 46,
   "id": "934c06a2",
   "metadata": {},
   "outputs": [
    {
     "data": {
      "image/png": "[encoded data removed]",
      "text/plain": [
       "<Figure size 1080x720 with 1 Axes>"
      ]
     },
     "metadata": {
      "needs_background": "light"
     },
     "output_type": "display_data"
    }
   ],
   "source": [
    "fig, axes = plt.subplots(figsize=(15,10))\n",
    "\n",
    "cat = [min(b, 10) for b in batch_sizes]\n",
    "sns.histplot(cat, bins = np.arange(2,12))\n",
    "\n",
    "plt.xticks(np.arange(2,11)+0.5, labels=[str(n) for n in np.arange(2,10)] + ['10+'])\n",
    "\n",
    "plt.ylabel('# of Instances of Batching')\n",
    "plt.xlabel('# of Transactions per Batch')\n",
    "plt.show()"
   ]
  },
  {
   "cell_type": "code",
   "execution_count": 54,
   "id": "779042cd",
   "metadata": {},
   "outputs": [],
   "source": [
    "def get_interarrival_time_dist(times, p=75):\n",
    "    diffs = np.diff(times)\n",
    "    zeros = sum(diffs == timedelta(0))\n",
    "    if zeros == len(diffs):\n",
    "        return np.inf\n",
    "    else:\n",
    "        return np.percentile(diffs[diffs != timedelta(0)], p)"
   ]
  },
  {
   "cell_type": "code",
   "execution_count": 55,
   "id": "be827c3a",
   "metadata": {},
   "outputs": [
    {
     "data": {
      "image/png": "[encoded data removed]",
      "text/plain": [
       "<Figure size 1080x720 with 1 Axes>"
      ]
     },
     "metadata": {
      "needs_background": "light"
     },
     "output_type": "display_data"
    }
   ],
   "source": [
    "df_all['gap_time'] = df_all.incoming_tx_times.apply(get_interarrival_time_dist)\n",
    "gap_times = df_all.groupby(['addr'])['gap_time'].max()\n",
    "\n",
    "fig, axes = plt.subplots(figsize=(15,10))\n",
    "\n",
    "def bucket_time(t):\n",
    "    if t == np.inf:\n",
    "        return 6\n",
    "    if t <= timedelta(minutes = 60):\n",
    "        return 0\n",
    "    if t <= timedelta(minutes = 60*12):\n",
    "        return 1\n",
    "    if t <= timedelta(minutes = 60*24):\n",
    "        return 2\n",
    "    if t <= timedelta(minutes = 60*48):\n",
    "        return 3\n",
    "    if t <= timedelta(minutes = 60 * 24 * 7):\n",
    "        return 4\n",
    "    return 5\n",
    "\n",
    "sns.histplot(gap_times.apply(bucket_time), bins = np.arange(0,8))\n",
    "\n",
    "plt.xticks(np.arange(0,7)+0.5, labels=['<1 hr', '1-12 hrs', '12-24 hrs', '1-2 days', '2 days - 1 week', \n",
    "                                      '>1 week', 'Infinite\\n(No other tx)'])\n",
    "\n",
    "plt.ylabel('# of Addresses Receiving Batched Comments')\n",
    "plt.xlabel('p75 Inter-Arrival Time of Incoming Transactions to Receiving Address')\n",
    "plt.show()"
   ]
  },
  {
   "cell_type": "code",
   "execution_count": 103,
   "id": "7fe055c7",
   "metadata": {},
   "outputs": [
    {
     "data": {
      "image/png": "[encoded data removed]",
      "text/plain": [
       "<Figure size 1080x720 with 1 Axes>"
      ]
     },
     "metadata": {
      "needs_background": "light"
     },
     "output_type": "display_data"
    }
   ],
   "source": [
    "gap_times = df_all.groupby(['addr', 'epoch'])['gap_time'].max()\n",
    "\n",
    "fig, axes = plt.subplots(figsize=(15,10))\n",
    "\n",
    "def bucket_time(t):\n",
    "    if t == np.inf:\n",
    "        return 7\n",
    "    if t <= timedelta(minutes = 60):\n",
    "        return 0\n",
    "    if t <= timedelta(minutes = 60*6):\n",
    "        return 1\n",
    "    if t <= timedelta(minutes = 60*12):\n",
    "        return 2\n",
    "    if t <= timedelta(minutes = 60*24):\n",
    "        return 3\n",
    "    if t <= timedelta(minutes = 60*48):\n",
    "        return 4\n",
    "    if t <= timedelta(minutes = 60 * 24 * 7):\n",
    "        return 5\n",
    "    return 6\n",
    "\n",
    "sns.histplot(gap_times.apply(bucket_time), bins = np.arange(0,9))\n",
    "\n",
    "plt.xticks(np.arange(0,8)+0.5, labels=['<1 hr', '1-6 hrs', '6-12 hrs', '12-24 hrs', '1-2 days', '2 days - 1 week', \n",
    "                                      '>1 week', 'Infinite\\n(No other tx)'])\n",
    "\n",
    "plt.ylabel('# of Instances of Batching')\n",
    "plt.xlabel('p75 Inter-Arrival Time of Incoming Transactions to Receiving Address (Setting of g)')\n",
    "plt.show()"
   ]
  },
  {
   "cell_type": "code",
   "execution_count": 80,
   "id": "69c235f0",
   "metadata": {},
   "outputs": [],
   "source": [
    "gap_times = df_all.groupby(['addr', 'epoch'])['gap_time'].max()"
   ]
  },
  {
   "cell_type": "code",
   "execution_count": 89,
   "id": "512147e2",
   "metadata": {},
   "outputs": [
    {
     "data": {
      "text/plain": [
       "0      2022-08-01 13:55:17\n",
       "1      2022-08-01 13:55:41\n",
       "2      2022-08-01 18:56:00\n",
       "3      2022-08-01 18:56:00\n",
       "4      2022-08-01 03:30:27\n",
       "               ...        \n",
       "3043   2022-08-01 10:50:43\n",
       "3044   2022-08-01 10:50:43\n",
       "3045   2022-08-01 10:50:43\n",
       "3046   2022-08-01 13:12:27\n",
       "3047   2022-08-01 13:12:10\n",
       "Name: dt_time, Length: 3048, dtype: datetime64[ns]"
      ]
     },
     "execution_count": 89,
     "metadata": {},
     "output_type": "execute_result"
    }
   ],
   "source": [
    "df_all.dt_time"
   ]
  },
  {
   "cell_type": "code",
   "execution_count": 102,
   "id": "e1660646",
   "metadata": {},
   "outputs": [
    {
     "data": {
      "image/png": "[encoded data removed]",
      "text/plain": [
       "<Figure size 1080x720 with 1 Axes>"
      ]
     },
     "metadata": {
      "needs_background": "light"
     },
     "output_type": "display_data"
    }
   ],
   "source": [
    "gap_times = 2.5 * df_all.groupby(['addr', 'epoch'])['gap_time'].max()\n",
    "\n",
    "fig, axes = plt.subplots(figsize=(15,10))\n",
    "\n",
    "def bucket_time(t):\n",
    "    if t == np.inf:\n",
    "        return 7\n",
    "    if t <= timedelta(minutes = 60):\n",
    "        return 0\n",
    "    if t <= timedelta(minutes = 60*6):\n",
    "        return 1\n",
    "    if t <= timedelta(minutes = 60*12):\n",
    "        return 2\n",
    "    if t <= timedelta(minutes = 60*24):\n",
    "        return 3\n",
    "    if t <= timedelta(minutes = 60*48):\n",
    "        return 4\n",
    "    if t <= timedelta(minutes = 60 * 24 * 7):\n",
    "        return 5\n",
    "    return 6\n",
    "\n",
    "sns.histplot(gap_times.apply(bucket_time), bins = np.arange(0,9))\n",
    "\n",
    "plt.xticks(np.arange(0,8)+0.5, labels=['<1 hr', '1-6 hrs', '6-12 hrs', '12-24 hrs', '1-2 days', '2 days - 1 week', \n",
    "                                      '>1 week', 'Infinite\\n(No other tx)'])\n",
    "\n",
    "plt.ylabel('# of Instances of Batching')\n",
    "plt.xlabel(r'Expected Delay, Randomized Epoch Mechanism with $\\epsilon = \\ln(9/4), g=p75$')\n",
    "plt.show()"
   ]
  },
  {
   "cell_type": "code",
   "execution_count": null,
   "id": "93e48e77",
   "metadata": {},
   "outputs": [],
   "source": [
    "K = 2\n"
   ]
  },
  {
   "cell_type": "code",
   "execution_count": 67,
   "id": "d7dd18db",
   "metadata": {},
   "outputs": [],
   "source": [
    "df_times_per_addr = df.groupby('output_addr_str').time.apply(list)"
   ]
  },
  {
   "cell_type": "code",
   "execution_count": 79,
   "id": "9cba7301",
   "metadata": {},
   "outputs": [
    {
     "data": {
      "text/plain": [
       "'7:07:35.500000'"
      ]
     },
     "execution_count": 79,
     "metadata": {},
     "output_type": "execute_result"
    }
   ],
   "source": [
    "two_trans = [np.abs(dt.fromtimestamp(t[0]) - dt.fromtimestamp(t[1])) \n",
    "                 for t in df_times_per_addr if len(t) == 2]\n",
    "str(np.percentile(two_trans, 75))"
   ]
  },
  {
   "cell_type": "markdown",
   "id": "d37ecf1a",
   "metadata": {},
   "source": [
    "### Aside: Fee Rate per Size of Transaction"
   ]
  },
  {
   "cell_type": "code",
   "execution_count": 131,
   "id": "ad88e955",
   "metadata": {},
   "outputs": [
    {
     "data": {
      "image/png": "[encoded data removed]",
      "text/plain": [
       "<Figure size 1080x360 with 1 Axes>"
      ]
     },
     "metadata": {
      "needs_background": "light"
     },
     "output_type": "display_data"
    }
   ],
   "source": [
    "fig,axis = plt.subplots(figsize=(15,5))\n",
    "\n",
    "df_fee= pd.DataFrame({'log_value': round(np.log10(df.input_value_tot_usd)), \n",
    "                      'fee_pct': 100. * df.fee / df.input_value_tot})\n",
    "\n",
    "plt.plot(df_fee[df_fee.log_value > 0].groupby('log_value').fee_pct.median())\n",
    "plt.xticks(sorted(df_fee[df_fee.log_value > 0].log_value.unique()))\n",
    "plt.ylabel(\"Median Fee per Transaction (%)\")\n",
    "plt.xlabel(\"Log Transaction Size (USD)\")\n",
    "plt.show()"
   ]
  },
  {
   "cell_type": "code",
   "execution_count": null,
   "id": "4428ae74",
   "metadata": {},
   "outputs": [],
   "source": []
  }
 ],
 "metadata": {
  "kernelspec": {
   "display_name": "Python 3 (ipykernel)",
   "language": "python",
   "name": "python3"
  },
  "language_info": {
   "codemirror_mode": {
    "name": "ipython",
    "version": 3
   },
   "file_extension": ".py",
   "mimetype": "text/x-python",
   "name": "python",
   "nbconvert_exporter": "python",
   "pygments_lexer": "ipython3",
   "version": "3.8.9"
  }
 },
 "nbformat": 4,
 "nbformat_minor": 5
}

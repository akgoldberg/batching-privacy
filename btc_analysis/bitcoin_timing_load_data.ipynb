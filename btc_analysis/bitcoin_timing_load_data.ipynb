{
 "cells": [
  {
   "cell_type": "markdown",
   "id": "c72562f2",
   "metadata": {},
   "source": [
    "# Bitcoin Batched Timing Data Loading"
   ]
  },
  {
   "cell_type": "markdown",
   "id": "f25a6232",
   "metadata": {},
   "source": [
    "### Note: need to run notebook from btc_analysis directory"
   ]
  },
  {
   "cell_type": "code",
   "execution_count": 1,
   "id": "3e461934",
   "metadata": {},
   "outputs": [],
   "source": [
    "import pandas as pd\n",
    "import numpy as np\n",
    "import matplotlib.pyplot as plt\n",
    "import seaborn as sns\n",
    "\n",
    "from datetime import datetime as dt, timedelta\n",
    "\n",
    "from importlib import reload\n",
    "# Use to do reload(load_data)\n",
    "\n",
    "import load_data"
   ]
  },
  {
   "cell_type": "markdown",
   "id": "53503b0e",
   "metadata": {},
   "source": [
    "### Get Data"
   ]
  },
  {
   "cell_type": "code",
   "execution_count": 2,
   "id": "9814b68f",
   "metadata": {},
   "outputs": [],
   "source": [
    "# for D in range(25,31):\n",
    "#     load_data.download_transactions(f'2022-07-{D}')"
   ]
  },
  {
   "cell_type": "code",
   "execution_count": 3,
   "id": "d0a73477",
   "metadata": {},
   "outputs": [
    {
     "name": "stdout",
     "output_type": "stream",
     "text": [
      "CPU times: user 3min 11s, sys: 9.93 s, total: 3min 21s\n",
      "Wall time: 3min 22s\n"
     ]
    }
   ],
   "source": [
    "%%time\n",
    "all_dates = [f'2022-07-{D}' for D in range(25,31)] + [f'2022-08-0{D}' for D in range(1,8)]\n",
    "df = pd.concat([load_data.get_transactions(d) for d in all_dates]).reset_index(drop=True)"
   ]
  },
  {
   "cell_type": "code",
   "execution_count": 4,
   "id": "1d76da05",
   "metadata": {},
   "outputs": [
    {
     "data": {
      "text/plain": [
       "(3316864, 7)"
      ]
     },
     "execution_count": 4,
     "metadata": {},
     "output_type": "execute_result"
    }
   ],
   "source": [
    "df.shape"
   ]
  },
  {
   "cell_type": "code",
   "execution_count": 5,
   "id": "c0ff13e1",
   "metadata": {},
   "outputs": [],
   "source": [
    "# test on data from 8/2 - 8/8\n",
    "df_test = df[[dt.fromtimestamp(t) >= dt(2022, 8, 1, 0, 0) for t in df.time]].reset_index(drop=True)"
   ]
  },
  {
   "cell_type": "code",
   "execution_count": 6,
   "id": "a77c4fe4",
   "metadata": {},
   "outputs": [
    {
     "data": {
      "text/plain": [
       "(1747884, 7)"
      ]
     },
     "execution_count": 6,
     "metadata": {},
     "output_type": "execute_result"
    }
   ],
   "source": [
    "df_test.shape"
   ]
  },
  {
   "cell_type": "markdown",
   "id": "5d64c65e",
   "metadata": {},
   "source": [
    "## Clean Data"
   ]
  },
  {
   "cell_type": "code",
   "execution_count": 7,
   "id": "9c059e0e",
   "metadata": {},
   "outputs": [
    {
     "name": "stdout",
     "output_type": "stream",
     "text": [
      "CPU times: user 1min 2s, sys: 4.35 s, total: 1min 6s\n",
      "Wall time: 1min 8s\n"
     ]
    }
   ],
   "source": [
    "%%time\n",
    "df_test = load_data.get_batching_data(df_test, D=1, cvr=22e3)"
   ]
  },
  {
   "cell_type": "code",
   "execution_count": 8,
   "id": "340295ef",
   "metadata": {},
   "outputs": [
    {
     "data": {
      "text/plain": [
       "(1746624, 16)"
      ]
     },
     "execution_count": 8,
     "metadata": {},
     "output_type": "execute_result"
    }
   ],
   "source": [
    "df_test.shape"
   ]
  },
  {
   "cell_type": "code",
   "execution_count": 9,
   "id": "5e3290f6",
   "metadata": {},
   "outputs": [
    {
     "data": {
      "text/html": [
       "<div>\n",
       "<style scoped>\n",
       "    .dataframe tbody tr th:only-of-type {\n",
       "        vertical-align: middle;\n",
       "    }\n",
       "\n",
       "    .dataframe tbody tr th {\n",
       "        vertical-align: top;\n",
       "    }\n",
       "\n",
       "    .dataframe thead th {\n",
       "        text-align: right;\n",
       "    }\n",
       "</style>\n",
       "<table border=\"1\" class=\"dataframe\">\n",
       "  <thead>\n",
       "    <tr style=\"text-align: right;\">\n",
       "      <th></th>\n",
       "      <th>output_addr_str</th>\n",
       "      <th>epoch</th>\n",
       "      <th>hash</th>\n",
       "      <th>time</th>\n",
       "      <th>input_addr</th>\n",
       "      <th>output_addr</th>\n",
       "      <th>input_value_tot</th>\n",
       "      <th>output_value_tot</th>\n",
       "      <th>fee</th>\n",
       "      <th>dt_time</th>\n",
       "      <th>n_outputs</th>\n",
       "      <th>n_inputs</th>\n",
       "      <th>input_addr_str</th>\n",
       "      <th>input_value_tot_usd</th>\n",
       "      <th>output_vaue_tot_usd</th>\n",
       "      <th>is_batched</th>\n",
       "    </tr>\n",
       "  </thead>\n",
       "  <tbody>\n",
       "    <tr>\n",
       "      <th>0</th>\n",
       "      <td>112L4xQjAHXZwvU8PvizyM6tLeG5RfZ4Dk,3QxZrCtQTrx...</td>\n",
       "      <td>3998</td>\n",
       "      <td>3e7d4d6dcbb25c9578e2cdd2a931c9bf5e1a6e49ad9383...</td>\n",
       "      <td>1659566303</td>\n",
       "      <td>[35h39Pv9WsGLy3KHWhmJ5va7jxRrd6rfVm, 38b4Wgtdr...</td>\n",
       "      <td>[112L4xQjAHXZwvU8PvizyM6tLeG5RfZ4Dk, 3QxZrCtQT...</td>\n",
       "      <td>3367203540</td>\n",
       "      <td>3367188735</td>\n",
       "      <td>14805</td>\n",
       "      <td>2022-08-03 18:38:23</td>\n",
       "      <td>2</td>\n",
       "      <td>10</td>\n",
       "      <td>35h39Pv9WsGLy3KHWhmJ5va7jxRrd6rfVm,38b4Wgtdrdn...</td>\n",
       "      <td>740784.78</td>\n",
       "      <td>740781.52</td>\n",
       "      <td>True</td>\n",
       "    </tr>\n",
       "    <tr>\n",
       "      <th>1</th>\n",
       "      <td>112L4xQjAHXZwvU8PvizyM6tLeG5RfZ4Dk,3QxZrCtQTrx...</td>\n",
       "      <td>3998</td>\n",
       "      <td>f18caefefe31d2ba11f44a1efa957f5603ec576d0cee48...</td>\n",
       "      <td>1659566283</td>\n",
       "      <td>[38d9qk6rzXGGdhEa5Kwz7EyMcfcHcb8RZz, 3NWH6Qirk...</td>\n",
       "      <td>[112L4xQjAHXZwvU8PvizyM6tLeG5RfZ4Dk, 3QxZrCtQT...</td>\n",
       "      <td>154280138</td>\n",
       "      <td>154276253</td>\n",
       "      <td>3885</td>\n",
       "      <td>2022-08-03 18:38:03</td>\n",
       "      <td>2</td>\n",
       "      <td>2</td>\n",
       "      <td>38d9qk6rzXGGdhEa5Kwz7EyMcfcHcb8RZz,3NWH6Qirki9...</td>\n",
       "      <td>33941.63</td>\n",
       "      <td>33940.78</td>\n",
       "      <td>True</td>\n",
       "    </tr>\n",
       "    <tr>\n",
       "      <th>2</th>\n",
       "      <td>1215bzNH2G2jVcgToAaxtaC3My6BamqvVc</td>\n",
       "      <td>835</td>\n",
       "      <td>16b7785b3baf60e62f73851774f5a67e2b558e7a8c90ea...</td>\n",
       "      <td>1659376517</td>\n",
       "      <td>[bc1qptal06y9hedtc3t7a2468dnjle4kl2kgp36nfa]</td>\n",
       "      <td>[1215bzNH2G2jVcgToAaxtaC3My6BamqvVc]</td>\n",
       "      <td>10000000</td>\n",
       "      <td>9996820</td>\n",
       "      <td>3180</td>\n",
       "      <td>2022-08-01 13:55:17</td>\n",
       "      <td>1</td>\n",
       "      <td>1</td>\n",
       "      <td>bc1qptal06y9hedtc3t7a2468dnjle4kl2kgp36nfa</td>\n",
       "      <td>2200.00</td>\n",
       "      <td>2199.30</td>\n",
       "      <td>True</td>\n",
       "    </tr>\n",
       "    <tr>\n",
       "      <th>3</th>\n",
       "      <td>1215bzNH2G2jVcgToAaxtaC3My6BamqvVc</td>\n",
       "      <td>835</td>\n",
       "      <td>f25b64579f6838e491199129307ebfa1f4634b47760a51...</td>\n",
       "      <td>1659376541</td>\n",
       "      <td>[1JKtgVyaVEVxZ4tnts7oywaQRhnHsXSKji]</td>\n",
       "      <td>[1215bzNH2G2jVcgToAaxtaC3My6BamqvVc]</td>\n",
       "      <td>15000000</td>\n",
       "      <td>14996820</td>\n",
       "      <td>3180</td>\n",
       "      <td>2022-08-01 13:55:41</td>\n",
       "      <td>1</td>\n",
       "      <td>1</td>\n",
       "      <td>1JKtgVyaVEVxZ4tnts7oywaQRhnHsXSKji</td>\n",
       "      <td>3300.00</td>\n",
       "      <td>3299.30</td>\n",
       "      <td>True</td>\n",
       "    </tr>\n",
       "    <tr>\n",
       "      <th>4</th>\n",
       "      <td>1222XENhsyMANN7vha1m7Hg7L3aQUC24mu,bc1qw9fhylp...</td>\n",
       "      <td>2649</td>\n",
       "      <td>6deba59bc92d5ede57c775a4a63823f6a8b2a96319902e...</td>\n",
       "      <td>1659485358</td>\n",
       "      <td>[bc1qy22cz0qgpevhhpcndgs6tuy9wel5d78de9pv7d, b...</td>\n",
       "      <td>[1222XENhsyMANN7vha1m7Hg7L3aQUC24mu, bc1qw9fhy...</td>\n",
       "      <td>194398</td>\n",
       "      <td>192278</td>\n",
       "      <td>2120</td>\n",
       "      <td>2022-08-02 20:09:18</td>\n",
       "      <td>2</td>\n",
       "      <td>2</td>\n",
       "      <td>bc1qy22cz0qgpevhhpcndgs6tuy9wel5d78de9pv7d,bc1...</td>\n",
       "      <td>42.77</td>\n",
       "      <td>42.30</td>\n",
       "      <td>True</td>\n",
       "    </tr>\n",
       "  </tbody>\n",
       "</table>\n",
       "</div>"
      ],
      "text/plain": [
       "                                     output_addr_str  epoch  \\\n",
       "0  112L4xQjAHXZwvU8PvizyM6tLeG5RfZ4Dk,3QxZrCtQTrx...   3998   \n",
       "1  112L4xQjAHXZwvU8PvizyM6tLeG5RfZ4Dk,3QxZrCtQTrx...   3998   \n",
       "2                 1215bzNH2G2jVcgToAaxtaC3My6BamqvVc    835   \n",
       "3                 1215bzNH2G2jVcgToAaxtaC3My6BamqvVc    835   \n",
       "4  1222XENhsyMANN7vha1m7Hg7L3aQUC24mu,bc1qw9fhylp...   2649   \n",
       "\n",
       "                                                hash        time  \\\n",
       "0  3e7d4d6dcbb25c9578e2cdd2a931c9bf5e1a6e49ad9383...  1659566303   \n",
       "1  f18caefefe31d2ba11f44a1efa957f5603ec576d0cee48...  1659566283   \n",
       "2  16b7785b3baf60e62f73851774f5a67e2b558e7a8c90ea...  1659376517   \n",
       "3  f25b64579f6838e491199129307ebfa1f4634b47760a51...  1659376541   \n",
       "4  6deba59bc92d5ede57c775a4a63823f6a8b2a96319902e...  1659485358   \n",
       "\n",
       "                                          input_addr  \\\n",
       "0  [35h39Pv9WsGLy3KHWhmJ5va7jxRrd6rfVm, 38b4Wgtdr...   \n",
       "1  [38d9qk6rzXGGdhEa5Kwz7EyMcfcHcb8RZz, 3NWH6Qirk...   \n",
       "2       [bc1qptal06y9hedtc3t7a2468dnjle4kl2kgp36nfa]   \n",
       "3               [1JKtgVyaVEVxZ4tnts7oywaQRhnHsXSKji]   \n",
       "4  [bc1qy22cz0qgpevhhpcndgs6tuy9wel5d78de9pv7d, b...   \n",
       "\n",
       "                                         output_addr  input_value_tot  \\\n",
       "0  [112L4xQjAHXZwvU8PvizyM6tLeG5RfZ4Dk, 3QxZrCtQT...       3367203540   \n",
       "1  [112L4xQjAHXZwvU8PvizyM6tLeG5RfZ4Dk, 3QxZrCtQT...        154280138   \n",
       "2               [1215bzNH2G2jVcgToAaxtaC3My6BamqvVc]         10000000   \n",
       "3               [1215bzNH2G2jVcgToAaxtaC3My6BamqvVc]         15000000   \n",
       "4  [1222XENhsyMANN7vha1m7Hg7L3aQUC24mu, bc1qw9fhy...           194398   \n",
       "\n",
       "   output_value_tot    fee             dt_time  n_outputs  n_inputs  \\\n",
       "0        3367188735  14805 2022-08-03 18:38:23          2        10   \n",
       "1         154276253   3885 2022-08-03 18:38:03          2         2   \n",
       "2           9996820   3180 2022-08-01 13:55:17          1         1   \n",
       "3          14996820   3180 2022-08-01 13:55:41          1         1   \n",
       "4            192278   2120 2022-08-02 20:09:18          2         2   \n",
       "\n",
       "                                      input_addr_str  input_value_tot_usd  \\\n",
       "0  35h39Pv9WsGLy3KHWhmJ5va7jxRrd6rfVm,38b4Wgtdrdn...            740784.78   \n",
       "1  38d9qk6rzXGGdhEa5Kwz7EyMcfcHcb8RZz,3NWH6Qirki9...             33941.63   \n",
       "2         bc1qptal06y9hedtc3t7a2468dnjle4kl2kgp36nfa              2200.00   \n",
       "3                 1JKtgVyaVEVxZ4tnts7oywaQRhnHsXSKji              3300.00   \n",
       "4  bc1qy22cz0qgpevhhpcndgs6tuy9wel5d78de9pv7d,bc1...                42.77   \n",
       "\n",
       "   output_vaue_tot_usd  is_batched  \n",
       "0            740781.52        True  \n",
       "1             33940.78        True  \n",
       "2              2199.30        True  \n",
       "3              3299.30        True  \n",
       "4                42.30        True  "
      ]
     },
     "execution_count": 9,
     "metadata": {},
     "output_type": "execute_result"
    }
   ],
   "source": [
    "df_test.head()"
   ]
  },
  {
   "cell_type": "code",
   "execution_count": 10,
   "id": "ba6082f8",
   "metadata": {},
   "outputs": [
    {
     "data": {
      "text/plain": [
       "3382195954.17"
      ]
     },
     "execution_count": 10,
     "metadata": {},
     "output_type": "execute_result"
    }
   ],
   "source": [
    "df_test[df_test.is_batched].output_vaue_tot_usd.sum()"
   ]
  },
  {
   "cell_type": "code",
   "execution_count": 11,
   "id": "fa60b093",
   "metadata": {},
   "outputs": [
    {
     "data": {
      "image/png": "[encoded data removed]",
      "text/plain": [
       "<Figure size 1080x720 with 1 Axes>"
      ]
     },
     "metadata": {
      "needs_background": "light"
     },
     "output_type": "display_data"
    }
   ],
   "source": [
    "fig, ax = plt.subplots(figsize=(15,10))\n",
    "\n",
    "plt.plot(df_test.groupby('epoch').count().hash)\n",
    "plt.xlabel('Minute')\n",
    "plt.ylabel('Number of Transactions per Minute')\n",
    "\n",
    "plt.show()"
   ]
  },
  {
   "cell_type": "markdown",
   "id": "30c61723",
   "metadata": {},
   "source": [
    "### Get Historical Data per Address"
   ]
  },
  {
   "cell_type": "code",
   "execution_count": 12,
   "id": "8a502438",
   "metadata": {},
   "outputs": [
    {
     "name": "stdout",
     "output_type": "stream",
     "text": [
      "CPU times: user 1min 2s, sys: 1.51 s, total: 1min 4s\n",
      "Wall time: 1min 4s\n"
     ]
    }
   ],
   "source": [
    "%%time\n",
    "df['output_addr_str'] = [','.join(addr) for addr in df['output_addr']]\n",
    "df_clean = df[(df.input_value_tot > 0)\n",
    "                 & (df.output_value_tot > 0)\n",
    "                 & (len(df.output_addr) > 0)\n",
    "                 & (len(df.input_addr) > 0)]\n",
    "times = df_clean.groupby('output_addr_str')['time'].apply(list)\n",
    "tx_volume_usd_rough = df_clean.groupby('output_addr_str').output_value_tot.sum() * 1e-8 * 22e3"
   ]
  },
  {
   "cell_type": "code",
   "execution_count": 16,
   "id": "edbd7b87",
   "metadata": {},
   "outputs": [
    {
     "name": "stdout",
     "output_type": "stream",
     "text": [
      "CPU times: user 5min 24s, sys: 15.2 s, total: 5min 39s\n",
      "Wall time: 6min\n"
     ]
    }
   ],
   "source": [
    "%%time\n",
    "def get_historical_times(r):\n",
    "    max_time = r.dt_time\n",
    "    min_time = r.dt_time - timedelta(days=7)\n",
    "    return sorted([dt.fromtimestamp(t) for t in times[r.output_addr_str] if dt.fromtimestamp(t) < max_time \n",
    "                    and dt.fromtimestamp(t) > min_time])\n",
    "\n",
    "df_test['arrival_times'] = df_test.apply(get_historical_times, axis=1)"
   ]
  },
  {
   "cell_type": "code",
   "execution_count": 17,
   "id": "6529a64a",
   "metadata": {},
   "outputs": [
    {
     "data": {
      "text/plain": [
       "(1746624, 17)"
      ]
     },
     "execution_count": 17,
     "metadata": {},
     "output_type": "execute_result"
    }
   ],
   "source": [
    "df_test.shape"
   ]
  },
  {
   "cell_type": "code",
   "execution_count": 30,
   "id": "88dc2c94",
   "metadata": {},
   "outputs": [],
   "source": [
    "df_test = df_test.join(pd.DataFrame(tx_volume_usd_rough), on = 'output_addr_str', rsuffix='usd_historical')"
   ]
  },
  {
   "cell_type": "code",
   "execution_count": 31,
   "id": "56d76b5a",
   "metadata": {},
   "outputs": [
    {
     "name": "stdout",
     "output_type": "stream",
     "text": [
      "CPU times: user 1min 50s, sys: 24.3 s, total: 2min 15s\n",
      "Wall time: 2min 35s\n"
     ]
    }
   ],
   "source": [
    "%%time\n",
    "load_data.save_timing_df(df_test)"
   ]
  },
  {
   "cell_type": "code",
   "execution_count": 17,
   "id": "6b4403d6",
   "metadata": {},
   "outputs": [
    {
     "name": "stdout",
     "output_type": "stream",
     "text": [
      "CPU times: user 2min 54s, sys: 12.8 s, total: 3min 7s\n",
      "Wall time: 3min 12s\n"
     ]
    }
   ],
   "source": [
    "%%time\n",
    "df_test = load_data.load_timing_df()"
   ]
  },
  {
   "cell_type": "markdown",
   "id": "b5569c2f",
   "metadata": {},
   "source": [
    "### Old: Get Sample of Lifetime Historical Address-Level Data (to compute $g$)"
   ]
  },
  {
   "cell_type": "code",
   "execution_count": 19,
   "id": "321880d2",
   "metadata": {},
   "outputs": [
    {
     "ename": "NameError",
     "evalue": "name 'df_batched' is not defined",
     "output_type": "error",
     "traceback": [
      "\u001b[0;31m---------------------------------------------------------------------------\u001b[0m",
      "\u001b[0;31mNameError\u001b[0m                                 Traceback (most recent call last)",
      "Input \u001b[0;32mIn [19]\u001b[0m, in \u001b[0;36m<cell line: 1>\u001b[0;34m()\u001b[0m\n\u001b[0;32m----> 1\u001b[0m df_batched_single \u001b[38;5;241m=\u001b[39m \u001b[43mdf_batched\u001b[49m[df_batched\u001b[38;5;241m.\u001b[39mn_outputs \u001b[38;5;241m==\u001b[39m \u001b[38;5;241m1\u001b[39m]\n\u001b[1;32m      2\u001b[0m batched_addrs \u001b[38;5;241m=\u001b[39m df_batched_single[\u001b[38;5;124m'\u001b[39m\u001b[38;5;124moutput_addr_str\u001b[39m\u001b[38;5;124m'\u001b[39m]\u001b[38;5;241m.\u001b[39munique()\n\u001b[1;32m      4\u001b[0m load_all_addr_data(batched_addrs, DS, \u001b[38;5;124m'\u001b[39m\u001b[38;5;124mbatched\u001b[39m\u001b[38;5;124m'\u001b[39m)\n",
      "\u001b[0;31mNameError\u001b[0m: name 'df_batched' is not defined"
     ]
    }
   ],
   "source": [
    "df_batched_single = df_batched[df_batched.n_outputs == 1]\n",
    "batched_addrs = df_batched_single['output_addr_str'].unique()\n",
    "\n",
    "load_all_addr_data(batched_addrs, DS, 'batched')\n",
    "\n",
    "df_addr_data = get_addresses(DS, 'batched')\n",
    "df1 = df_batched.set_index('output_addr_str')\n",
    "df2 = df_addr_data.set_index('addr')\n",
    "df_batched_full = df1.join(df2, how='inner').reset_index().rename(columns={'index': 'addr'})"
   ]
  },
  {
   "cell_type": "code",
   "execution_count": 12,
   "id": "e932cb0e",
   "metadata": {},
   "outputs": [],
   "source": [
    "df_addr_data = get_addresses(DS, 'batched')\n",
    "df1 = df_batched.set_index('output_addr_str')\n",
    "df2 = df_addr_data.set_index('addr')\n",
    "df_batched_full = df1.join(df2, how='inner').reset_index().rename(columns={'index': 'addr'})"
   ]
  },
  {
   "cell_type": "code",
   "execution_count": 16,
   "id": "8040a53b",
   "metadata": {},
   "outputs": [
    {
     "name": "stdout",
     "output_type": "stream",
     "text": [
      "===== Fetching data for 3752 addresses =====\n",
      "25 addresses already loaded\n",
      "50 addresses already loaded\n",
      "75 addresses already loaded\n",
      "100 addresses already loaded\n",
      "125 addresses already loaded\n",
      "150 addresses already loaded\n",
      "175 addresses already loaded\n",
      "200 addresses already loaded\n",
      "225 addresses already loaded\n",
      "250 addresses already loaded\n",
      "275 addresses already loaded\n",
      "300 addresses already loaded\n",
      "325 addresses already loaded\n",
      "350 addresses already loaded\n",
      "375 addresses already loaded\n",
      "400 addresses already loaded\n",
      "425 addresses already loaded\n",
      "450 addresses already loaded\n",
      "475 addresses already loaded\n",
      "500 addresses already loaded\n",
      "525 addresses already loaded\n",
      "550 addresses already loaded\n",
      "575 addresses already loaded\n",
      "600 addresses already loaded\n",
      "625 addresses already loaded\n",
      "650 addresses already loaded\n",
      "675 addresses already loaded\n",
      "700 addresses already loaded\n",
      "725 addresses already loaded\n",
      "750 addresses already loaded\n",
      "775 addresses already loaded\n",
      "800 addresses already loaded\n",
      "825 addresses already loaded\n",
      "850 addresses already loaded\n",
      "875 addresses already loaded\n",
      "900 addresses already loaded\n",
      "925 addresses already loaded\n",
      "950 addresses already loaded\n",
      "975 addresses already loaded\n",
      "1000 addresses already loaded\n",
      "1025 addresses already loaded\n",
      "1050 addresses already loaded\n",
      "1075 addresses already loaded\n",
      "1100 addresses already loaded\n",
      "1125 addresses already loaded\n",
      "1150 addresses already loaded\n",
      "1175 addresses already loaded\n",
      "1200 addresses already loaded\n",
      "1225 addresses already loaded\n",
      "1250 addresses already loaded\n",
      "1275 addresses already loaded\n",
      "1300 addresses already loaded\n",
      "1325 addresses already loaded\n",
      "1350 addresses already loaded\n",
      "1375 addresses already loaded\n",
      "1400 addresses already loaded\n",
      "1425 addresses already loaded\n",
      "1450 addresses already loaded\n",
      "1475 addresses already loaded\n",
      "1500 addresses already loaded\n",
      "1525 addresses already loaded\n",
      "1550 addresses already loaded\n",
      "1575 addresses already loaded\n",
      "1600 addresses already loaded\n",
      "1625 addresses already loaded\n",
      "1650 addresses already loaded\n",
      "1675 addresses already loaded\n",
      "1700 addresses already loaded\n",
      "1725 addresses already loaded\n",
      "1750 addresses already loaded\n",
      "1775 addresses already loaded\n",
      "1800 addresses already loaded\n",
      "1825 addresses already loaded\n",
      "1850 addresses already loaded\n",
      "1875 addresses already loaded\n",
      "1900 addresses already loaded\n",
      "1925 addresses already loaded\n",
      "1950 addresses already loaded\n",
      "1975 addresses already loaded\n",
      "2000 addresses already loaded\n",
      "2025 addresses already loaded\n",
      "2050 addresses already loaded\n",
      "2075 addresses already loaded\n",
      "2100 addresses already loaded\n",
      "2125 addresses already loaded\n",
      "2150 addresses already loaded\n",
      "2175 addresses already loaded\n",
      "2200 addresses already loaded\n",
      "2225 addresses already loaded\n",
      "2250 addresses already loaded\n",
      "2275 addresses already loaded\n",
      "2300 addresses already loaded\n",
      "2325 addresses already loaded\n",
      "2350 addresses already loaded\n",
      "2375 addresses already loaded\n",
      "2400 addresses already loaded\n",
      "2425 addresses already loaded\n",
      "2450 addresses already loaded\n",
      "2475 addresses already loaded\n",
      "2500 addresses already loaded\n",
      "2525 addresses already loaded\n",
      "2550 addresses already loaded\n",
      "2575 addresses already loaded\n",
      "2600 addresses already loaded\n",
      "2625 addresses already loaded\n",
      "2650 addresses already loaded\n",
      "2675 addresses already loaded\n",
      "2700 addresses already loaded\n",
      "2725 addresses already loaded\n",
      "2750 addresses already loaded\n",
      "2775 addresses already loaded\n",
      "2800 addresses already loaded\n",
      "2825 addresses already loaded\n",
      "2850 addresses already loaded\n",
      "2875 addresses already loaded\n",
      "2900 addresses already loaded\n",
      "2925 addresses already loaded\n",
      "2950 addresses already loaded\n",
      "2975 addresses already loaded\n",
      "3000 addresses already loaded\n",
      "3025 addresses already loaded\n",
      "3050 addresses already loaded\n",
      "3075 addresses already loaded\n",
      "3100 addresses already loaded\n",
      "3125 addresses already loaded\n",
      "3150 addresses already loaded\n",
      "3175 addresses already loaded\n",
      "3200 addresses already loaded\n",
      "3225 addresses already loaded\n",
      "3250 addresses already loaded\n",
      "3275 addresses already loaded\n",
      "3300 addresses already loaded\n",
      "3325 addresses already loaded\n",
      "3350 addresses already loaded\n",
      "3375 addresses already loaded\n",
      "3400 addresses already loaded\n",
      "3425 addresses already loaded\n",
      "3450 addresses already loaded\n",
      "3475 addresses already loaded\n",
      "3500 addresses already loaded\n",
      "3525 addresses already loaded\n",
      "3550 addresses already loaded\n",
      "3575 addresses already loaded\n",
      "3600 addresses already loaded\n",
      "3625 addresses already loaded\n",
      "3650 addresses already loaded\n",
      "3675 addresses already loaded\n",
      "3700 addresses already loaded\n",
      "3725 addresses already loaded\n",
      "3750 addresses already loaded\n",
      "Completed 3753 addresses\n"
     ]
    }
   ],
   "source": [
    "df_unbatched_single = df_unbatched[df_unbatched.n_outputs == 1].sample(n=4000, random_state=0)\n",
    "unbatched_addrs = df_unbatched_single['output_addr_str'].unique()\n",
    "\n",
    "load_all_addr_data(unbatched_addrs, DS, 'unbatched', sleep_time=3.0)"
   ]
  },
  {
   "cell_type": "code",
   "execution_count": 22,
   "id": "fa5e1c08",
   "metadata": {},
   "outputs": [],
   "source": [
    "df_addr_data = get_addresses(DS, 'unbatched')\n",
    "df1 = df_unbatched_single.set_index('output_addr_str')\n",
    "df2 = df_addr_data.set_index('addr')\n",
    "df_unbatched_full = df1.join(df2, how='inner').reset_index().rename(columns={'index': 'addr'})"
   ]
  },
  {
   "cell_type": "code",
   "execution_count": 26,
   "id": "23c4abba",
   "metadata": {},
   "outputs": [
    {
     "data": {
      "text/plain": [
       "((3048, 20), (3996, 20))"
      ]
     },
     "execution_count": 26,
     "metadata": {},
     "output_type": "execute_result"
    }
   ],
   "source": [
    "df_batched_full.shape, df_unbatched_full.shape"
   ]
  },
  {
   "cell_type": "code",
   "execution_count": 28,
   "id": "dbbe071d",
   "metadata": {},
   "outputs": [
    {
     "data": {
      "text/plain": [
       "887"
      ]
     },
     "execution_count": 28,
     "metadata": {},
     "output_type": "execute_result"
    }
   ],
   "source": [
    "batch_sizes = df_batched_full.groupby(['epoch', 'addr'])['time'].count()\n",
    "batch_sizes[batch_sizes == 2].count()\n",
    "\n",
    "# total # of instances of batching\n",
    "len(batch_sizes)"
   ]
  },
  {
   "cell_type": "code",
   "execution_count": 29,
   "id": "934c06a2",
   "metadata": {},
   "outputs": [
    {
     "data": {
      "image/png": "[encoded data removed]",
      "text/plain": [
       "<Figure size 1080x720 with 1 Axes>"
      ]
     },
     "metadata": {
      "needs_background": "light"
     },
     "output_type": "display_data"
    }
   ],
   "source": [
    "fig, axes = plt.subplots(figsize=(15,10))\n",
    "\n",
    "cat = [min(b, 10) for b in batch_sizes]\n",
    "sns.histplot(cat, bins = np.arange(2,12))\n",
    "\n",
    "plt.xticks(np.arange(2,11)+0.5, labels=[str(n) for n in np.arange(2,10)] + ['10+'])\n",
    "\n",
    "plt.ylabel('# of Instances of Batching')\n",
    "plt.xlabel('# of Transactions per Batch')\n",
    "plt.show()"
   ]
  },
  {
   "cell_type": "code",
   "execution_count": 37,
   "id": "779042cd",
   "metadata": {},
   "outputs": [],
   "source": [
    "def compute_g_percentile(times, p=75):\n",
    "    diffs = np.diff(times)\n",
    "    zeros = sum(diffs == timedelta(0))\n",
    "    if zeros == len(diffs):\n",
    "        return np.inf\n",
    "    else:\n",
    "        return np.percentile(diffs[diffs != timedelta(0)], p)\n",
    "\n",
    "def bucket_time(t):\n",
    "    if t == np.inf:\n",
    "        return 6\n",
    "    if t <= timedelta(minutes = 60):\n",
    "        return 0\n",
    "    if t <= timedelta(minutes = 60*12):\n",
    "        return 1\n",
    "    if t <= timedelta(minutes = 60*24):\n",
    "        return 2\n",
    "    if t <= timedelta(minutes = 60*48):\n",
    "        return 3\n",
    "    if t <= timedelta(minutes = 60 * 24 * 7):\n",
    "        return 4\n",
    "    return 5\n",
    "\n",
    "time_labels = ['<1 hr', '1-12 hrs', '12-24 hrs', '1-2 days', '2 days - 1 week', \n",
    "                                      '>1 week', 'Infinite\\n(No other tx)']"
   ]
  },
  {
   "cell_type": "code",
   "execution_count": 39,
   "id": "49682dd5",
   "metadata": {},
   "outputs": [],
   "source": [
    "df_batched_full['gap_time'] = df_batched_full['incoming_tx_times'].apply(compute_g_percentile)\n",
    "df_unbatched_full['gap_time'] = df_unbatched_full['incoming_tx_times'].apply(compute_g_percentile)"
   ]
  },
  {
   "cell_type": "code",
   "execution_count": 46,
   "id": "7fe055c7",
   "metadata": {},
   "outputs": [
    {
     "data": {
      "image/png": "[encoded data removed]",
      "text/plain": [
       "<Figure size 1080x720 with 1 Axes>"
      ]
     },
     "metadata": {
      "needs_background": "light"
     },
     "output_type": "display_data"
    }
   ],
   "source": [
    "gap_times = df_batched_full.groupby(['addr', 'epoch'])['gap_time'].max()\n",
    "\n",
    "fig, axes = plt.subplots(figsize=(15,10))\n",
    "sns.histplot(gap_times.apply(bucket_time), bins = np.arange(0,8))\n",
    "plt.xticks(np.arange(0,7)+0.5, labels=time_labels)\n",
    "plt.ylabel('# of Instances of Batching')\n",
    "plt.xlabel('p75 Inter-Arrival Time of Incoming Transactions to Receiving Address (Setting of g)')\n",
    "plt.show()"
   ]
  },
  {
   "cell_type": "code",
   "execution_count": 61,
   "id": "71cffbf9",
   "metadata": {},
   "outputs": [
    {
     "data": {
      "text/plain": [
       "0.37512512512512514"
      ]
     },
     "execution_count": 61,
     "metadata": {},
     "output_type": "execute_result"
    }
   ],
   "source": [
    "sum(df_unbatched_full.lifetime_tx_count <= 2) / df_unbatched_full.shape[0]"
   ]
  },
  {
   "cell_type": "code",
   "execution_count": 51,
   "id": "98089015",
   "metadata": {},
   "outputs": [
    {
     "data": {
      "image/png": "[encoded data removed]",
      "text/plain": [
       "<Figure size 1080x720 with 1 Axes>"
      ]
     },
     "metadata": {
      "needs_background": "light"
     },
     "output_type": "display_data"
    }
   ],
   "source": [
    "gap_times = df_unbatched_full.groupby(['addr', 'epoch'])['gap_time'].max()\n",
    "\n",
    "fig, axes = plt.subplots(figsize=(15,10))\n",
    "sns.histplot(gap_times.apply(bucket_time), bins = np.arange(0,8))\n",
    "plt.xticks(np.arange(0,7)+0.5, labels=time_labels)\n",
    "plt.ylabel('# of Instances of Batching')\n",
    "plt.xlabel('p75 Inter-Arrival Time of Incoming Transactions to Receiving Address (Setting of g)')\n",
    "\n",
    "plt.show()"
   ]
  },
  {
   "cell_type": "markdown",
   "id": "d37ecf1a",
   "metadata": {},
   "source": [
    "### Aside: Fee Rate per Size of Transaction"
   ]
  },
  {
   "cell_type": "code",
   "execution_count": 131,
   "id": "ad88e955",
   "metadata": {},
   "outputs": [
    {
     "data": {
      "image/png": "[encoded data removed]",
      "text/plain": [
       "<Figure size 1080x360 with 1 Axes>"
      ]
     },
     "metadata": {
      "needs_background": "light"
     },
     "output_type": "display_data"
    }
   ],
   "source": [
    "fig,axis = plt.subplots(figsize=(15,5))\n",
    "\n",
    "df_fee= pd.DataFrame({'log_value': round(np.log10(df.input_value_tot_usd)), \n",
    "                      'fee_pct': 100. * df.fee / df.input_value_tot})\n",
    "\n",
    "plt.plot(df_fee[df_fee.log_value > 0].groupby('log_value').fee_pct.median())\n",
    "plt.xticks(sorted(df_fee[df_fee.log_value > 0].log_value.unique()))\n",
    "plt.ylabel(\"Median Fee per Transaction (%)\")\n",
    "plt.xlabel(\"Log Transaction Size (USD)\")\n",
    "plt.show()"
   ]
  },
  {
   "cell_type": "code",
   "execution_count": null,
   "id": "4428ae74",
   "metadata": {},
   "outputs": [],
   "source": []
  }
 ],
 "metadata": {
  "kernelspec": {
   "display_name": "Python 3 (ipykernel)",
   "language": "python",
   "name": "python3"
  },
  "language_info": {
   "codemirror_mode": {
    "name": "ipython",
    "version": 3
   },
   "file_extension": ".py",
   "mimetype": "text/x-python",
   "name": "python",
   "nbconvert_exporter": "python",
   "pygments_lexer": "ipython3",
   "version": "3.10.4"
  }
 },
 "nbformat": 4,
 "nbformat_minor": 5
}

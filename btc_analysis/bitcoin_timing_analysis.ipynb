{
 "cells": [
  {
   "cell_type": "code",
   "execution_count": 1,
   "id": "d9b98296",
   "metadata": {},
   "outputs": [],
   "source": [
    "import pandas as pd\n",
    "import numpy as np\n",
    "import matplotlib.pyplot as plt\n",
    "import seaborn as sns\n",
    "from scipy.stats import randint,geom, uniform, bernoulli\n",
    "\n",
    "from datetime import datetime as dt, timedelta\n",
    "import requests\n",
    "import os\n",
    "import pickle\n",
    "import itertools\n",
    "\n",
    "from importlib import reload\n",
    "# Use to do reload(load_data)\n",
    "\n",
    "import load_data\n",
    "import run_experiments"
   ]
  },
  {
   "cell_type": "code",
   "execution_count": 6,
   "id": "fe578ab5",
   "metadata": {},
   "outputs": [
    {
     "data": {
      "text/plain": [
       "<module 'run_experiments' from '/Users/akgoldbe/Dropbox/My Mac (MacBook-Air)/Documents/CMU/research/timing/batching-privacy/btc_analysis/run_experiments.py'>"
      ]
     },
     "execution_count": 6,
     "metadata": {},
     "output_type": "execute_result"
    }
   ],
   "source": [
    "reload(run_experiments)"
   ]
  },
  {
   "cell_type": "code",
   "execution_count": 2,
   "id": "22c4a5e5",
   "metadata": {},
   "outputs": [],
   "source": [
    "# get all parameter values\n",
    "P_vals = run_experiments.P_vals\n",
    "eps_vals = run_experiments.eps_vals\n",
    "Ws = run_experiments.Ws\n",
    "Ts = run_experiments.Ts\n",
    "params = list(itertools.product(eps_vals, P_vals))"
   ]
  },
  {
   "cell_type": "code",
   "execution_count": null,
   "id": "7b063c83",
   "metadata": {},
   "outputs": [
    {
     "name": "stdout",
     "output_type": "stream",
     "text": [
      "Loading data from saved\n"
     ]
    }
   ],
   "source": [
    "%%time\n",
    "\n",
    "# load experiment results\n",
    "unif_noise, staircase_noise, results_basic, results_informed = run_experiments.load_experiment_results()"
   ]
  },
  {
   "cell_type": "code",
   "execution_count": 9,
   "id": "1090b9f2",
   "metadata": {},
   "outputs": [
    {
     "ename": "NameError",
     "evalue": "name 'results_basic' is not defined",
     "output_type": "error",
     "traceback": [
      "\u001b[0;31m---------------------------------------------------------------------------\u001b[0m",
      "\u001b[0;31mNameError\u001b[0m                                 Traceback (most recent call last)",
      "Input \u001b[0;32mIn [9]\u001b[0m, in \u001b[0;36m<cell line: 1>\u001b[0;34m()\u001b[0m\n\u001b[0;32m----> 1\u001b[0m n_TP, n_FP, n_FN, n_TN \u001b[38;5;241m=\u001b[39m \u001b[43mresults_basic\u001b[49m\n\u001b[1;32m      2\u001b[0m fdr \u001b[38;5;241m=\u001b[39m n_FP \u001b[38;5;241m/\u001b[39m (n_FP \u001b[38;5;241m+\u001b[39m n_TP)\n\u001b[1;32m      3\u001b[0m recall \u001b[38;5;241m=\u001b[39m n_TP \u001b[38;5;241m/\u001b[39m (n_FN \u001b[38;5;241m+\u001b[39m n_TP)\n",
      "\u001b[0;31mNameError\u001b[0m: name 'results_basic' is not defined"
     ]
    }
   ],
   "source": [
    "n_TP, n_FP, n_FN, n_TN = results_basic\n",
    "fdr = n_FP / (n_FP + n_TP)\n",
    "recall = n_TP / (n_FN + n_TP)"
   ]
  },
  {
   "cell_type": "code",
   "execution_count": null,
   "id": "b6f6ae22",
   "metadata": {},
   "outputs": [],
   "source": [
    "n_TP, n_FP, n_FN, n_TN = results_informed\n",
    "fdr = n_FP / (n_FP + n_TP)\n",
    "recall = n_TP / (n_FN + n_TP)"
   ]
  },
  {
   "cell_type": "code",
   "execution_count": 57,
   "id": "577e87c8",
   "metadata": {},
   "outputs": [
    {
     "data": {
      "text/plain": [
       "array([0.97757434, 0.97755669, 0.97807511, 0.97859461, 0.9790132 ,\n",
       "       0.97940942, 0.97981824, 0.98016949, 0.98052953, 0.98084186,\n",
       "       0.98113653, 0.98138957])"
      ]
     },
     "execution_count": 57,
     "metadata": {},
     "output_type": "execute_result"
    }
   ],
   "source": [
    "fdr[0]"
   ]
  },
  {
   "cell_type": "code",
   "execution_count": 60,
   "id": "b22bcb8b",
   "metadata": {},
   "outputs": [
    {
     "data": {
      "text/plain": [
       "[<matplotlib.lines.Line2D at 0x7fdd988574f0>]"
      ]
     },
     "execution_count": 60,
     "metadata": {},
     "output_type": "execute_result"
    },
    {
     "data": {
      "image/png": "[encoded data removed]",
      "text/plain": [
       "<Figure size 432x288 with 1 Axes>"
      ]
     },
     "metadata": {
      "needs_background": "light"
     },
     "output_type": "display_data"
    }
   ],
   "source": [
    "plt.plot(fdr[3], recall[3])"
   ]
  },
  {
   "cell_type": "code",
   "execution_count": 9,
   "id": "542e3b0a",
   "metadata": {},
   "outputs": [],
   "source": [
    "n_TP, n_FP, n_FN, n_TN = results_informed"
   ]
  },
  {
   "cell_type": "code",
   "execution_count": 13,
   "id": "d2d26b2e",
   "metadata": {},
   "outputs": [],
   "source": [
    "fpr = n_FP / (n_FP + n_TN)\n",
    "recall = n_TP / (n_FN + n_TP)"
   ]
  },
  {
   "cell_type": "code",
   "execution_count": 18,
   "id": "51b794ac",
   "metadata": {},
   "outputs": [
    {
     "data": {
      "text/plain": [
       "array([0.19650424, 0.23053517, 0.26832214, 0.66744234, 0.68514498,\n",
       "       0.81472747, 0.81335745, 0.81390581, 0.90527617, 0.9840422 ,\n",
       "       0.98422788, 0.99056172])"
      ]
     },
     "execution_count": 18,
     "metadata": {},
     "output_type": "execute_result"
    }
   ],
   "source": [
    "recall[0]"
   ]
  },
  {
   "cell_type": "code",
   "execution_count": 19,
   "id": "f685dd33",
   "metadata": {},
   "outputs": [
    {
     "data": {
      "text/plain": [
       "array([0.22577799, 0.26804312, 0.31082279, 0.33580338, 0.38776411,\n",
       "       0.45343697, 0.33319845, 0.38441307, 0.45002964, 0.32878506,\n",
       "       0.37925082, 0.44510487])"
      ]
     },
     "execution_count": 19,
     "metadata": {},
     "output_type": "execute_result"
    }
   ],
   "source": [
    "fpr[0]"
   ]
  },
  {
   "cell_type": "code",
   "execution_count": 21,
   "id": "4e8c945b",
   "metadata": {},
   "outputs": [
    {
     "data": {
      "text/plain": [
       "array([ 8937225, 10610253, 12303649, 13292484, 15349304, 17948907,\n",
       "       13189370, 15216656, 17814031, 13014670, 15012313, 17619088])"
      ]
     },
     "execution_count": 21,
     "metadata": {},
     "output_type": "execute_result"
    }
   ],
   "source": [
    "n_FP[0]"
   ]
  },
  {
   "cell_type": "code",
   "execution_count": 14,
   "id": "08fd55d0",
   "metadata": {},
   "outputs": [
    {
     "data": {
      "text/plain": [
       "array([0.22577799, 0.26804312, 0.31082279, 0.33580338, 0.38776411,\n",
       "       0.45343697, 0.33319845, 0.38441307, 0.45002964, 0.32878506,\n",
       "       0.37925082, 0.44510487])"
      ]
     },
     "execution_count": 14,
     "metadata": {},
     "output_type": "execute_result"
    }
   ],
   "source": [
    "fpr[0]"
   ]
  },
  {
   "cell_type": "code",
   "execution_count": 15,
   "id": "9de4dc3e",
   "metadata": {},
   "outputs": [
    {
     "data": {
      "text/plain": [
       "array([0.19650424, 0.23053517, 0.26832214, 0.66744234, 0.68514498,\n",
       "       0.81472747, 0.81335745, 0.81390581, 0.90527617, 0.9840422 ,\n",
       "       0.98422788, 0.99056172])"
      ]
     },
     "execution_count": 15,
     "metadata": {},
     "output_type": "execute_result"
    }
   ],
   "source": [
    "recall[0]"
   ]
  },
  {
   "cell_type": "code",
   "execution_count": 16,
   "id": "7b193be5",
   "metadata": {},
   "outputs": [
    {
     "data": {
      "text/plain": [
       "[<matplotlib.lines.Line2D at 0x7fe1713ca770>]"
      ]
     },
     "execution_count": 16,
     "metadata": {},
     "output_type": "execute_result"
    },
    {
     "data": {
      "image/png": "[encoded data removed]",
      "text/plain": [
       "<Figure size 432x288 with 1 Axes>"
      ]
     },
     "metadata": {
      "needs_background": "light"
     },
     "output_type": "display_data"
    }
   ],
   "source": [
    "plt.plot(fpr[0], recall[0])"
   ]
  },
  {
   "cell_type": "code",
   "execution_count": 7,
   "id": "459442b3",
   "metadata": {},
   "outputs": [
    {
     "data": {
      "image/png": "[encoded data removed]",
      "text/plain": [
       "<Figure size 1440x1440 with 4 Axes>"
      ]
     },
     "metadata": {
      "needs_background": "light"
     },
     "output_type": "display_data"
    }
   ],
   "source": [
    "def get_cdf(delay):\n",
    "    data = delay / 60.\n",
    "#     data = data[data <= 60*24]\n",
    "    # sort the data:\n",
    "    data_sorted = np.sort(data)\n",
    "    # calculate the proportional values of samples\n",
    "    p = 1. * np.arange(len(data)) / (len(data) - 1)\n",
    "    \n",
    "    return data_sorted, p\n",
    "\n",
    "fig, axes = plt.subplots(2, 2, figsize=(20,20))\n",
    "\n",
    "for i, ax in enumerate(axes.ravel()):\n",
    "    j = 4*i+1\n",
    "    x,y = get_cdf(delay_unif[j])\n",
    "    ax.plot(x, y, label='uniform')\n",
    "    x,y = get_cdf(delay_staircase[1])\n",
    "    ax.plot(x, y, label='staircase')\n",
    "    ax.legend()\n",
    "    ax.set_xlabel('delay (minutes)')\n",
    "    ax.set_xlim(0, 2*60*24)\n",
    "    ax.set_ylabel('% within delay')\n",
    "    ax.set_title(r'$\\epsilon$='+str(params[j][0]))\n",
    "\n",
    "plt.show()"
   ]
  },
  {
   "cell_type": "code",
   "execution_count": 104,
   "id": "52e86e23",
   "metadata": {},
   "outputs": [
    {
     "data": {
      "text/plain": [
       "(48, 5, 3)"
      ]
     },
     "execution_count": 104,
     "metadata": {},
     "output_type": "execute_result"
    }
   ],
   "source": [
    "np.array(out_basic).reshape(-1, 5,3).shape"
   ]
  },
  {
   "cell_type": "markdown",
   "id": "4a65b12b",
   "metadata": {},
   "source": [
    "### OLD"
   ]
  },
  {
   "cell_type": "code",
   "execution_count": 2,
   "id": "a3cbcb13",
   "metadata": {},
   "outputs": [
    {
     "name": "stdout",
     "output_type": "stream",
     "text": [
      "CPU times: user 31 s, sys: 2.22 s, total: 33.2 s\n",
      "Wall time: 33.3 s\n"
     ]
    }
   ],
   "source": [
    "%%time\n",
    "df_test = load_data.load_timing_df()"
   ]
  },
  {
   "cell_type": "code",
   "execution_count": 3,
   "id": "a7883773",
   "metadata": {},
   "outputs": [
    {
     "data": {
      "text/html": [
       "<div>\n",
       "<style scoped>\n",
       "    .dataframe tbody tr th:only-of-type {\n",
       "        vertical-align: middle;\n",
       "    }\n",
       "\n",
       "    .dataframe tbody tr th {\n",
       "        vertical-align: top;\n",
       "    }\n",
       "\n",
       "    .dataframe thead th {\n",
       "        text-align: right;\n",
       "    }\n",
       "</style>\n",
       "<table border=\"1\" class=\"dataframe\">\n",
       "  <thead>\n",
       "    <tr style=\"text-align: right;\">\n",
       "      <th></th>\n",
       "      <th>output_addr_str</th>\n",
       "      <th>epoch</th>\n",
       "      <th>hash</th>\n",
       "      <th>time</th>\n",
       "      <th>input_addr</th>\n",
       "      <th>output_addr</th>\n",
       "      <th>input_value_tot</th>\n",
       "      <th>output_value_tot</th>\n",
       "      <th>fee</th>\n",
       "      <th>dt_time</th>\n",
       "      <th>n_outputs</th>\n",
       "      <th>n_inputs</th>\n",
       "      <th>input_addr_str</th>\n",
       "      <th>input_value_tot_usd</th>\n",
       "      <th>output_vaue_tot_usd</th>\n",
       "      <th>is_batched</th>\n",
       "      <th>arrival_times</th>\n",
       "      <th>output_value_totusd_historical</th>\n",
       "    </tr>\n",
       "  </thead>\n",
       "  <tbody>\n",
       "    <tr>\n",
       "      <th>0</th>\n",
       "      <td>112L4xQjAHXZwvU8PvizyM6tLeG5RfZ4Dk,3QxZrCtQTrx...</td>\n",
       "      <td>3998</td>\n",
       "      <td>3e7d4d6dcbb25c9578e2cdd2a931c9bf5e1a6e49ad9383...</td>\n",
       "      <td>1659566303</td>\n",
       "      <td>['35h39Pv9WsGLy3KHWhmJ5va7jxRrd6rfVm', '38b4Wg...</td>\n",
       "      <td>['112L4xQjAHXZwvU8PvizyM6tLeG5RfZ4Dk', '3QxZrC...</td>\n",
       "      <td>3367203540</td>\n",
       "      <td>3367188735</td>\n",
       "      <td>14805</td>\n",
       "      <td>2022-08-03 18:38:23</td>\n",
       "      <td>2</td>\n",
       "      <td>10</td>\n",
       "      <td>35h39Pv9WsGLy3KHWhmJ5va7jxRrd6rfVm,38b4Wgtdrdn...</td>\n",
       "      <td>740784.78</td>\n",
       "      <td>740781.52</td>\n",
       "      <td>True</td>\n",
       "      <td>[1659566283.0]</td>\n",
       "      <td>774722.29736</td>\n",
       "    </tr>\n",
       "    <tr>\n",
       "      <th>1</th>\n",
       "      <td>112L4xQjAHXZwvU8PvizyM6tLeG5RfZ4Dk,3QxZrCtQTrx...</td>\n",
       "      <td>3998</td>\n",
       "      <td>f18caefefe31d2ba11f44a1efa957f5603ec576d0cee48...</td>\n",
       "      <td>1659566283</td>\n",
       "      <td>['38d9qk6rzXGGdhEa5Kwz7EyMcfcHcb8RZz', '3NWH6Q...</td>\n",
       "      <td>['112L4xQjAHXZwvU8PvizyM6tLeG5RfZ4Dk', '3QxZrC...</td>\n",
       "      <td>154280138</td>\n",
       "      <td>154276253</td>\n",
       "      <td>3885</td>\n",
       "      <td>2022-08-03 18:38:03</td>\n",
       "      <td>2</td>\n",
       "      <td>2</td>\n",
       "      <td>38d9qk6rzXGGdhEa5Kwz7EyMcfcHcb8RZz,3NWH6Qirki9...</td>\n",
       "      <td>33941.63</td>\n",
       "      <td>33940.78</td>\n",
       "      <td>True</td>\n",
       "      <td>[]</td>\n",
       "      <td>774722.29736</td>\n",
       "    </tr>\n",
       "    <tr>\n",
       "      <th>2</th>\n",
       "      <td>1215bzNH2G2jVcgToAaxtaC3My6BamqvVc</td>\n",
       "      <td>835</td>\n",
       "      <td>16b7785b3baf60e62f73851774f5a67e2b558e7a8c90ea...</td>\n",
       "      <td>1659376517</td>\n",
       "      <td>['bc1qptal06y9hedtc3t7a2468dnjle4kl2kgp36nfa']</td>\n",
       "      <td>['1215bzNH2G2jVcgToAaxtaC3My6BamqvVc']</td>\n",
       "      <td>10000000</td>\n",
       "      <td>9996820</td>\n",
       "      <td>3180</td>\n",
       "      <td>2022-08-01 13:55:17</td>\n",
       "      <td>1</td>\n",
       "      <td>1</td>\n",
       "      <td>bc1qptal06y9hedtc3t7a2468dnjle4kl2kgp36nfa</td>\n",
       "      <td>2200.00</td>\n",
       "      <td>2199.30</td>\n",
       "      <td>True</td>\n",
       "      <td>[]</td>\n",
       "      <td>6596.21050</td>\n",
       "    </tr>\n",
       "    <tr>\n",
       "      <th>3</th>\n",
       "      <td>1215bzNH2G2jVcgToAaxtaC3My6BamqvVc</td>\n",
       "      <td>835</td>\n",
       "      <td>f25b64579f6838e491199129307ebfa1f4634b47760a51...</td>\n",
       "      <td>1659376541</td>\n",
       "      <td>['1JKtgVyaVEVxZ4tnts7oywaQRhnHsXSKji']</td>\n",
       "      <td>['1215bzNH2G2jVcgToAaxtaC3My6BamqvVc']</td>\n",
       "      <td>15000000</td>\n",
       "      <td>14996820</td>\n",
       "      <td>3180</td>\n",
       "      <td>2022-08-01 13:55:41</td>\n",
       "      <td>1</td>\n",
       "      <td>1</td>\n",
       "      <td>1JKtgVyaVEVxZ4tnts7oywaQRhnHsXSKji</td>\n",
       "      <td>3300.00</td>\n",
       "      <td>3299.30</td>\n",
       "      <td>True</td>\n",
       "      <td>[1659376517.0]</td>\n",
       "      <td>6596.21050</td>\n",
       "    </tr>\n",
       "    <tr>\n",
       "      <th>4</th>\n",
       "      <td>1222XENhsyMANN7vha1m7Hg7L3aQUC24mu,bc1qw9fhylp...</td>\n",
       "      <td>2649</td>\n",
       "      <td>6deba59bc92d5ede57c775a4a63823f6a8b2a96319902e...</td>\n",
       "      <td>1659485358</td>\n",
       "      <td>['bc1qy22cz0qgpevhhpcndgs6tuy9wel5d78de9pv7d',...</td>\n",
       "      <td>['1222XENhsyMANN7vha1m7Hg7L3aQUC24mu', 'bc1qw9...</td>\n",
       "      <td>194398</td>\n",
       "      <td>192278</td>\n",
       "      <td>2120</td>\n",
       "      <td>2022-08-02 20:09:18</td>\n",
       "      <td>2</td>\n",
       "      <td>2</td>\n",
       "      <td>bc1qy22cz0qgpevhhpcndgs6tuy9wel5d78de9pv7d,bc1...</td>\n",
       "      <td>42.77</td>\n",
       "      <td>42.30</td>\n",
       "      <td>True</td>\n",
       "      <td>[]</td>\n",
       "      <td>63.98436</td>\n",
       "    </tr>\n",
       "  </tbody>\n",
       "</table>\n",
       "</div>"
      ],
      "text/plain": [
       "                                     output_addr_str  epoch  \\\n",
       "0  112L4xQjAHXZwvU8PvizyM6tLeG5RfZ4Dk,3QxZrCtQTrx...   3998   \n",
       "1  112L4xQjAHXZwvU8PvizyM6tLeG5RfZ4Dk,3QxZrCtQTrx...   3998   \n",
       "2                 1215bzNH2G2jVcgToAaxtaC3My6BamqvVc    835   \n",
       "3                 1215bzNH2G2jVcgToAaxtaC3My6BamqvVc    835   \n",
       "4  1222XENhsyMANN7vha1m7Hg7L3aQUC24mu,bc1qw9fhylp...   2649   \n",
       "\n",
       "                                                hash        time  \\\n",
       "0  3e7d4d6dcbb25c9578e2cdd2a931c9bf5e1a6e49ad9383...  1659566303   \n",
       "1  f18caefefe31d2ba11f44a1efa957f5603ec576d0cee48...  1659566283   \n",
       "2  16b7785b3baf60e62f73851774f5a67e2b558e7a8c90ea...  1659376517   \n",
       "3  f25b64579f6838e491199129307ebfa1f4634b47760a51...  1659376541   \n",
       "4  6deba59bc92d5ede57c775a4a63823f6a8b2a96319902e...  1659485358   \n",
       "\n",
       "                                          input_addr  \\\n",
       "0  ['35h39Pv9WsGLy3KHWhmJ5va7jxRrd6rfVm', '38b4Wg...   \n",
       "1  ['38d9qk6rzXGGdhEa5Kwz7EyMcfcHcb8RZz', '3NWH6Q...   \n",
       "2     ['bc1qptal06y9hedtc3t7a2468dnjle4kl2kgp36nfa']   \n",
       "3             ['1JKtgVyaVEVxZ4tnts7oywaQRhnHsXSKji']   \n",
       "4  ['bc1qy22cz0qgpevhhpcndgs6tuy9wel5d78de9pv7d',...   \n",
       "\n",
       "                                         output_addr  input_value_tot  \\\n",
       "0  ['112L4xQjAHXZwvU8PvizyM6tLeG5RfZ4Dk', '3QxZrC...       3367203540   \n",
       "1  ['112L4xQjAHXZwvU8PvizyM6tLeG5RfZ4Dk', '3QxZrC...        154280138   \n",
       "2             ['1215bzNH2G2jVcgToAaxtaC3My6BamqvVc']         10000000   \n",
       "3             ['1215bzNH2G2jVcgToAaxtaC3My6BamqvVc']         15000000   \n",
       "4  ['1222XENhsyMANN7vha1m7Hg7L3aQUC24mu', 'bc1qw9...           194398   \n",
       "\n",
       "   output_value_tot    fee              dt_time  n_outputs  n_inputs  \\\n",
       "0        3367188735  14805  2022-08-03 18:38:23          2        10   \n",
       "1         154276253   3885  2022-08-03 18:38:03          2         2   \n",
       "2           9996820   3180  2022-08-01 13:55:17          1         1   \n",
       "3          14996820   3180  2022-08-01 13:55:41          1         1   \n",
       "4            192278   2120  2022-08-02 20:09:18          2         2   \n",
       "\n",
       "                                      input_addr_str  input_value_tot_usd  \\\n",
       "0  35h39Pv9WsGLy3KHWhmJ5va7jxRrd6rfVm,38b4Wgtdrdn...            740784.78   \n",
       "1  38d9qk6rzXGGdhEa5Kwz7EyMcfcHcb8RZz,3NWH6Qirki9...             33941.63   \n",
       "2         bc1qptal06y9hedtc3t7a2468dnjle4kl2kgp36nfa              2200.00   \n",
       "3                 1JKtgVyaVEVxZ4tnts7oywaQRhnHsXSKji              3300.00   \n",
       "4  bc1qy22cz0qgpevhhpcndgs6tuy9wel5d78de9pv7d,bc1...                42.77   \n",
       "\n",
       "   output_vaue_tot_usd  is_batched   arrival_times  \\\n",
       "0            740781.52        True  [1659566283.0]   \n",
       "1             33940.78        True              []   \n",
       "2              2199.30        True              []   \n",
       "3              3299.30        True  [1659376517.0]   \n",
       "4                42.30        True              []   \n",
       "\n",
       "   output_value_totusd_historical  \n",
       "0                    774722.29736  \n",
       "1                    774722.29736  \n",
       "2                      6596.21050  \n",
       "3                      6596.21050  \n",
       "4                        63.98436  "
      ]
     },
     "execution_count": 3,
     "metadata": {},
     "output_type": "execute_result"
    }
   ],
   "source": [
    "df_test.head()"
   ]
  },
  {
   "cell_type": "code",
   "execution_count": 4,
   "id": "79426f5a",
   "metadata": {},
   "outputs": [
    {
     "data": {
      "image/png": "[encoded data removed]",
      "text/plain": [
       "<Figure size 1080x720 with 1 Axes>"
      ]
     },
     "metadata": {
      "needs_background": "light"
     },
     "output_type": "display_data"
    }
   ],
   "source": [
    "fig, ax = plt.subplots(figsize=(15,10))\n",
    "\n",
    "plt.plot(df_test.groupby('epoch').count().hash)\n",
    "plt.xlabel('Minute')\n",
    "plt.ylabel('Number of Transactions per Minute')\n",
    "\n",
    "plt.show()"
   ]
  },
  {
   "cell_type": "code",
   "execution_count": 5,
   "id": "8c8bc87b",
   "metadata": {},
   "outputs": [
    {
     "data": {
      "text/plain": [
       "(1746624, 18)"
      ]
     },
     "execution_count": 5,
     "metadata": {},
     "output_type": "execute_result"
    }
   ],
   "source": [
    "df_test.shape"
   ]
  },
  {
   "cell_type": "code",
   "execution_count": 6,
   "id": "3f2fe417",
   "metadata": {},
   "outputs": [
    {
     "name": "stdout",
     "output_type": "stream",
     "text": [
      "2022-08-01 00:00:00 2022-08-07 23:05:05\n"
     ]
    }
   ],
   "source": [
    "print(df_test.dt_time.min(), df_test.dt_time.max())"
   ]
  },
  {
   "cell_type": "code",
   "execution_count": 14,
   "id": "c3807522",
   "metadata": {},
   "outputs": [
    {
     "name": "stdout",
     "output_type": "stream",
     "text": [
      "2022-07-25 00:00:12\n"
     ]
    }
   ],
   "source": [
    "print(dt.fromtimestamp(min(df_test.arrival_times.apply(lambda l: min(l) if len(l) > 0 else None))))"
   ]
  },
  {
   "cell_type": "code",
   "execution_count": 15,
   "id": "32c34cba",
   "metadata": {},
   "outputs": [
    {
     "name": "stdout",
     "output_type": "stream",
     "text": [
      "2022-08-07 23:03:04\n"
     ]
    }
   ],
   "source": [
    "print(dt.fromtimestamp(max(df_test.arrival_times.apply(lambda l: min(l) if len(l) > 0 else None))))"
   ]
  },
  {
   "cell_type": "code",
   "execution_count": 16,
   "id": "a7500ada",
   "metadata": {},
   "outputs": [
    {
     "data": {
      "text/html": [
       "<div>\n",
       "<style scoped>\n",
       "    .dataframe tbody tr th:only-of-type {\n",
       "        vertical-align: middle;\n",
       "    }\n",
       "\n",
       "    .dataframe tbody tr th {\n",
       "        vertical-align: top;\n",
       "    }\n",
       "\n",
       "    .dataframe thead th {\n",
       "        text-align: right;\n",
       "    }\n",
       "</style>\n",
       "<table border=\"1\" class=\"dataframe\">\n",
       "  <thead>\n",
       "    <tr style=\"text-align: right;\">\n",
       "      <th></th>\n",
       "      <th>output_addr_str</th>\n",
       "      <th>epoch</th>\n",
       "      <th>hash</th>\n",
       "      <th>time</th>\n",
       "      <th>input_addr</th>\n",
       "      <th>output_addr</th>\n",
       "      <th>input_value_tot</th>\n",
       "      <th>output_value_tot</th>\n",
       "      <th>fee</th>\n",
       "      <th>dt_time</th>\n",
       "      <th>n_outputs</th>\n",
       "      <th>n_inputs</th>\n",
       "      <th>input_addr_str</th>\n",
       "      <th>input_value_tot_usd</th>\n",
       "      <th>output_vaue_tot_usd</th>\n",
       "      <th>is_batched</th>\n",
       "      <th>arrival_times</th>\n",
       "      <th>output_value_totusd_historical</th>\n",
       "    </tr>\n",
       "  </thead>\n",
       "  <tbody>\n",
       "    <tr>\n",
       "      <th>0</th>\n",
       "      <td>112L4xQjAHXZwvU8PvizyM6tLeG5RfZ4Dk,3QxZrCtQTrx...</td>\n",
       "      <td>3998</td>\n",
       "      <td>3e7d4d6dcbb25c9578e2cdd2a931c9bf5e1a6e49ad9383...</td>\n",
       "      <td>1659566303</td>\n",
       "      <td>['35h39Pv9WsGLy3KHWhmJ5va7jxRrd6rfVm', '38b4Wg...</td>\n",
       "      <td>['112L4xQjAHXZwvU8PvizyM6tLeG5RfZ4Dk', '3QxZrC...</td>\n",
       "      <td>3367203540</td>\n",
       "      <td>3367188735</td>\n",
       "      <td>14805</td>\n",
       "      <td>2022-08-03 18:38:23</td>\n",
       "      <td>2</td>\n",
       "      <td>10</td>\n",
       "      <td>35h39Pv9WsGLy3KHWhmJ5va7jxRrd6rfVm,38b4Wgtdrdn...</td>\n",
       "      <td>740784.78</td>\n",
       "      <td>740781.52</td>\n",
       "      <td>True</td>\n",
       "      <td>[1659566283.0]</td>\n",
       "      <td>774722.29736</td>\n",
       "    </tr>\n",
       "    <tr>\n",
       "      <th>1</th>\n",
       "      <td>112L4xQjAHXZwvU8PvizyM6tLeG5RfZ4Dk,3QxZrCtQTrx...</td>\n",
       "      <td>3998</td>\n",
       "      <td>f18caefefe31d2ba11f44a1efa957f5603ec576d0cee48...</td>\n",
       "      <td>1659566283</td>\n",
       "      <td>['38d9qk6rzXGGdhEa5Kwz7EyMcfcHcb8RZz', '3NWH6Q...</td>\n",
       "      <td>['112L4xQjAHXZwvU8PvizyM6tLeG5RfZ4Dk', '3QxZrC...</td>\n",
       "      <td>154280138</td>\n",
       "      <td>154276253</td>\n",
       "      <td>3885</td>\n",
       "      <td>2022-08-03 18:38:03</td>\n",
       "      <td>2</td>\n",
       "      <td>2</td>\n",
       "      <td>38d9qk6rzXGGdhEa5Kwz7EyMcfcHcb8RZz,3NWH6Qirki9...</td>\n",
       "      <td>33941.63</td>\n",
       "      <td>33940.78</td>\n",
       "      <td>True</td>\n",
       "      <td>[]</td>\n",
       "      <td>774722.29736</td>\n",
       "    </tr>\n",
       "    <tr>\n",
       "      <th>2</th>\n",
       "      <td>1215bzNH2G2jVcgToAaxtaC3My6BamqvVc</td>\n",
       "      <td>835</td>\n",
       "      <td>16b7785b3baf60e62f73851774f5a67e2b558e7a8c90ea...</td>\n",
       "      <td>1659376517</td>\n",
       "      <td>['bc1qptal06y9hedtc3t7a2468dnjle4kl2kgp36nfa']</td>\n",
       "      <td>['1215bzNH2G2jVcgToAaxtaC3My6BamqvVc']</td>\n",
       "      <td>10000000</td>\n",
       "      <td>9996820</td>\n",
       "      <td>3180</td>\n",
       "      <td>2022-08-01 13:55:17</td>\n",
       "      <td>1</td>\n",
       "      <td>1</td>\n",
       "      <td>bc1qptal06y9hedtc3t7a2468dnjle4kl2kgp36nfa</td>\n",
       "      <td>2200.00</td>\n",
       "      <td>2199.30</td>\n",
       "      <td>True</td>\n",
       "      <td>[]</td>\n",
       "      <td>6596.21050</td>\n",
       "    </tr>\n",
       "    <tr>\n",
       "      <th>3</th>\n",
       "      <td>1215bzNH2G2jVcgToAaxtaC3My6BamqvVc</td>\n",
       "      <td>835</td>\n",
       "      <td>f25b64579f6838e491199129307ebfa1f4634b47760a51...</td>\n",
       "      <td>1659376541</td>\n",
       "      <td>['1JKtgVyaVEVxZ4tnts7oywaQRhnHsXSKji']</td>\n",
       "      <td>['1215bzNH2G2jVcgToAaxtaC3My6BamqvVc']</td>\n",
       "      <td>15000000</td>\n",
       "      <td>14996820</td>\n",
       "      <td>3180</td>\n",
       "      <td>2022-08-01 13:55:41</td>\n",
       "      <td>1</td>\n",
       "      <td>1</td>\n",
       "      <td>1JKtgVyaVEVxZ4tnts7oywaQRhnHsXSKji</td>\n",
       "      <td>3300.00</td>\n",
       "      <td>3299.30</td>\n",
       "      <td>True</td>\n",
       "      <td>[1659376517.0]</td>\n",
       "      <td>6596.21050</td>\n",
       "    </tr>\n",
       "    <tr>\n",
       "      <th>4</th>\n",
       "      <td>1222XENhsyMANN7vha1m7Hg7L3aQUC24mu,bc1qw9fhylp...</td>\n",
       "      <td>2649</td>\n",
       "      <td>6deba59bc92d5ede57c775a4a63823f6a8b2a96319902e...</td>\n",
       "      <td>1659485358</td>\n",
       "      <td>['bc1qy22cz0qgpevhhpcndgs6tuy9wel5d78de9pv7d',...</td>\n",
       "      <td>['1222XENhsyMANN7vha1m7Hg7L3aQUC24mu', 'bc1qw9...</td>\n",
       "      <td>194398</td>\n",
       "      <td>192278</td>\n",
       "      <td>2120</td>\n",
       "      <td>2022-08-02 20:09:18</td>\n",
       "      <td>2</td>\n",
       "      <td>2</td>\n",
       "      <td>bc1qy22cz0qgpevhhpcndgs6tuy9wel5d78de9pv7d,bc1...</td>\n",
       "      <td>42.77</td>\n",
       "      <td>42.30</td>\n",
       "      <td>True</td>\n",
       "      <td>[]</td>\n",
       "      <td>63.98436</td>\n",
       "    </tr>\n",
       "  </tbody>\n",
       "</table>\n",
       "</div>"
      ],
      "text/plain": [
       "                                     output_addr_str  epoch  \\\n",
       "0  112L4xQjAHXZwvU8PvizyM6tLeG5RfZ4Dk,3QxZrCtQTrx...   3998   \n",
       "1  112L4xQjAHXZwvU8PvizyM6tLeG5RfZ4Dk,3QxZrCtQTrx...   3998   \n",
       "2                 1215bzNH2G2jVcgToAaxtaC3My6BamqvVc    835   \n",
       "3                 1215bzNH2G2jVcgToAaxtaC3My6BamqvVc    835   \n",
       "4  1222XENhsyMANN7vha1m7Hg7L3aQUC24mu,bc1qw9fhylp...   2649   \n",
       "\n",
       "                                                hash        time  \\\n",
       "0  3e7d4d6dcbb25c9578e2cdd2a931c9bf5e1a6e49ad9383...  1659566303   \n",
       "1  f18caefefe31d2ba11f44a1efa957f5603ec576d0cee48...  1659566283   \n",
       "2  16b7785b3baf60e62f73851774f5a67e2b558e7a8c90ea...  1659376517   \n",
       "3  f25b64579f6838e491199129307ebfa1f4634b47760a51...  1659376541   \n",
       "4  6deba59bc92d5ede57c775a4a63823f6a8b2a96319902e...  1659485358   \n",
       "\n",
       "                                          input_addr  \\\n",
       "0  ['35h39Pv9WsGLy3KHWhmJ5va7jxRrd6rfVm', '38b4Wg...   \n",
       "1  ['38d9qk6rzXGGdhEa5Kwz7EyMcfcHcb8RZz', '3NWH6Q...   \n",
       "2     ['bc1qptal06y9hedtc3t7a2468dnjle4kl2kgp36nfa']   \n",
       "3             ['1JKtgVyaVEVxZ4tnts7oywaQRhnHsXSKji']   \n",
       "4  ['bc1qy22cz0qgpevhhpcndgs6tuy9wel5d78de9pv7d',...   \n",
       "\n",
       "                                         output_addr  input_value_tot  \\\n",
       "0  ['112L4xQjAHXZwvU8PvizyM6tLeG5RfZ4Dk', '3QxZrC...       3367203540   \n",
       "1  ['112L4xQjAHXZwvU8PvizyM6tLeG5RfZ4Dk', '3QxZrC...        154280138   \n",
       "2             ['1215bzNH2G2jVcgToAaxtaC3My6BamqvVc']         10000000   \n",
       "3             ['1215bzNH2G2jVcgToAaxtaC3My6BamqvVc']         15000000   \n",
       "4  ['1222XENhsyMANN7vha1m7Hg7L3aQUC24mu', 'bc1qw9...           194398   \n",
       "\n",
       "   output_value_tot    fee              dt_time  n_outputs  n_inputs  \\\n",
       "0        3367188735  14805  2022-08-03 18:38:23          2        10   \n",
       "1         154276253   3885  2022-08-03 18:38:03          2         2   \n",
       "2           9996820   3180  2022-08-01 13:55:17          1         1   \n",
       "3          14996820   3180  2022-08-01 13:55:41          1         1   \n",
       "4            192278   2120  2022-08-02 20:09:18          2         2   \n",
       "\n",
       "                                      input_addr_str  input_value_tot_usd  \\\n",
       "0  35h39Pv9WsGLy3KHWhmJ5va7jxRrd6rfVm,38b4Wgtdrdn...            740784.78   \n",
       "1  38d9qk6rzXGGdhEa5Kwz7EyMcfcHcb8RZz,3NWH6Qirki9...             33941.63   \n",
       "2         bc1qptal06y9hedtc3t7a2468dnjle4kl2kgp36nfa              2200.00   \n",
       "3                 1JKtgVyaVEVxZ4tnts7oywaQRhnHsXSKji              3300.00   \n",
       "4  bc1qy22cz0qgpevhhpcndgs6tuy9wel5d78de9pv7d,bc1...                42.77   \n",
       "\n",
       "   output_vaue_tot_usd  is_batched   arrival_times  \\\n",
       "0            740781.52        True  [1659566283.0]   \n",
       "1             33940.78        True              []   \n",
       "2              2199.30        True              []   \n",
       "3              3299.30        True  [1659376517.0]   \n",
       "4                42.30        True              []   \n",
       "\n",
       "   output_value_totusd_historical  \n",
       "0                    774722.29736  \n",
       "1                    774722.29736  \n",
       "2                      6596.21050  \n",
       "3                      6596.21050  \n",
       "4                        63.98436  "
      ]
     },
     "execution_count": 16,
     "metadata": {},
     "output_type": "execute_result"
    }
   ],
   "source": [
    "df_test.head()"
   ]
  },
  {
   "cell_type": "code",
   "execution_count": 17,
   "id": "b9d2ddc2",
   "metadata": {},
   "outputs": [
    {
     "data": {
      "text/plain": [
       "(1746624, 18)"
      ]
     },
     "execution_count": 17,
     "metadata": {},
     "output_type": "execute_result"
    }
   ],
   "source": [
    "df_test.shape"
   ]
  },
  {
   "cell_type": "code",
   "execution_count": 18,
   "id": "ddc8a766",
   "metadata": {},
   "outputs": [],
   "source": [
    "df_test['n_txs_past'] = df_test.arrival_times.apply(len)"
   ]
  },
  {
   "cell_type": "code",
   "execution_count": 19,
   "id": "ff91d239",
   "metadata": {},
   "outputs": [
    {
     "data": {
      "text/plain": [
       "is_batched\n",
       "False    12.372974\n",
       "True     91.832694\n",
       "dtype: float64"
      ]
     },
     "execution_count": 19,
     "metadata": {},
     "output_type": "execute_result"
    }
   ],
   "source": [
    "# % of transactions sent to outputs with past transaxtions\n",
    "df_test['has_tx_history'] = df_test['n_txs_past'] >= 2\n",
    "r = df_test.groupby('is_batched')['has_tx_history'].agg(['sum', 'count'])\n",
    "100. * r['sum'] / r['count']"
   ]
  },
  {
   "cell_type": "markdown",
   "id": "8ef6ae85",
   "metadata": {},
   "source": [
    "## Filter Out Potential Exchanges"
   ]
  },
  {
   "cell_type": "markdown",
   "id": "6395a725",
   "metadata": {},
   "source": [
    "#### Get rid of transactions over the p99 historical # of tx's and total USD value"
   ]
  },
  {
   "cell_type": "code",
   "execution_count": 20,
   "id": "8500371e",
   "metadata": {},
   "outputs": [
    {
     "data": {
      "text/plain": [
       "(3427415.34662117, 25.0)"
      ]
     },
     "execution_count": 20,
     "metadata": {},
     "output_type": "execute_result"
    }
   ],
   "source": [
    "past_tx_distr = df_test[df_test.n_txs_past > 0].groupby('output_addr_str').output_value_totusd_historical.max()\n",
    "m_historical = np.percentile(past_tx_distr[past_tx_distr > 0], 99)\n",
    "\n",
    "past_tx_distr_n = df_test.groupby('output_addr_str').n_txs_past.max()\n",
    "m_tx_historical = np.percentile(past_tx_distr_n[past_tx_distr_n > 0], 99)\n",
    "\n",
    "m_historical, m_tx_historical"
   ]
  },
  {
   "cell_type": "code",
   "execution_count": 21,
   "id": "14d583a6",
   "metadata": {},
   "outputs": [
    {
     "data": {
      "text/plain": [
       "69.40481427942933"
      ]
     },
     "execution_count": 21,
     "metadata": {},
     "output_type": "execute_result"
    }
   ],
   "source": [
    "df_filter = df_test[df_test.is_batched & ((df_test.output_value_totusd_historical <= m_historical) | \n",
    "            (df_test.n_txs_past <= m_tx_historical))]\n",
    "\n",
    "100. * len(df_filter) / len(df_test[df_test.is_batched])"
   ]
  },
  {
   "cell_type": "code",
   "execution_count": 22,
   "id": "15f8d0ec",
   "metadata": {},
   "outputs": [
    {
     "data": {
      "text/plain": [
       "(24, 2140)"
      ]
     },
     "execution_count": 22,
     "metadata": {},
     "output_type": "execute_result"
    }
   ],
   "source": [
    "addr_large = df_filter.output_addr_str.unique()\n",
    "n_addr_tot = len(df_test[df_test.is_batched].output_addr_str.unique())\n",
    "n_addr_tot - len(addr_large), n_addr_tot"
   ]
  },
  {
   "cell_type": "code",
   "execution_count": 23,
   "id": "9e17d6fd",
   "metadata": {},
   "outputs": [
    {
     "data": {
      "text/plain": [
       "(3155.1428571428573, 53200632.98428571)"
      ]
     },
     "execution_count": 23,
     "metadata": {},
     "output_type": "execute_result"
    }
   ],
   "source": [
    "len(df_filter) / 7., df_filter.output_vaue_tot_usd.sum() / 7."
   ]
  },
  {
   "cell_type": "markdown",
   "id": "3ef3e56b",
   "metadata": {},
   "source": [
    "#### Look at Batch Sizes"
   ]
  },
  {
   "cell_type": "code",
   "execution_count": 24,
   "id": "bd78c3db",
   "metadata": {},
   "outputs": [
    {
     "data": {
      "text/plain": [
       "6451"
      ]
     },
     "execution_count": 24,
     "metadata": {},
     "output_type": "execute_result"
    }
   ],
   "source": [
    "batch_sizes = df_filter.groupby(['epoch', 'output_addr_str'])['time'].count()\n",
    "\n",
    "# total # of instances of batching\n",
    "len(batch_sizes)"
   ]
  },
  {
   "cell_type": "code",
   "execution_count": 25,
   "id": "48c83770",
   "metadata": {},
   "outputs": [
    {
     "data": {
      "image/png": "[encoded data removed]",
      "text/plain": [
       "<Figure size 1080x720 with 1 Axes>"
      ]
     },
     "metadata": {
      "needs_background": "light"
     },
     "output_type": "display_data"
    }
   ],
   "source": [
    "fig, axes = plt.subplots(figsize=(15,10))\n",
    "\n",
    "cat = [min(b, 10) for b in batch_sizes]\n",
    "sns.histplot(cat, bins = np.arange(2,12))\n",
    "\n",
    "plt.xticks(np.arange(2,11)+0.5, labels=[str(n) for n in np.arange(2,10)] + ['10+'])\n",
    "\n",
    "plt.ylabel('# of Instances of Batching')\n",
    "plt.xlabel('# of Transactions per Batch')\n",
    "plt.show()"
   ]
  },
  {
   "cell_type": "code",
   "execution_count": 26,
   "id": "de0be0d4",
   "metadata": {},
   "outputs": [
    {
     "data": {
      "text/plain": [
       "(1059, 16.416059525654937)"
      ]
     },
     "execution_count": 26,
     "metadata": {},
     "output_type": "execute_result"
    }
   ],
   "source": [
    "len(batch_sizes[batch_sizes >= 5]), 100. * len(batch_sizes[batch_sizes >= 5]) / len(batch_sizes)"
   ]
  },
  {
   "cell_type": "code",
   "execution_count": 27,
   "id": "5fe74c11",
   "metadata": {},
   "outputs": [],
   "source": [
    "df_filter = df_filter.join(pd.DataFrame(batch_sizes), \n",
    "               on=['epoch', 'output_addr_str'], rsuffix='_tmp').rename(columns={'time_tmp': 'batch_size'})"
   ]
  },
  {
   "cell_type": "code",
   "execution_count": 28,
   "id": "3db3e258",
   "metadata": {},
   "outputs": [],
   "source": [
    "df_filter = df_filter[df_filter.batch_size <= 5]"
   ]
  },
  {
   "cell_type": "code",
   "execution_count": 29,
   "id": "6039ee74",
   "metadata": {},
   "outputs": [],
   "source": [
    "df_test_filter = df_test[((df_test.output_value_totusd_historical <= m_historical) | \n",
    "            (df_test.n_txs_past <= m_tx_historical))]\n",
    "df_test_filter = df_test_filter[~df_test_filter.is_batched]\n",
    "df_test_filter['batch_size'] = 1\n",
    "df_base = pd.concat([df_test_filter, df_filter]).reset_index()"
   ]
  },
  {
   "cell_type": "markdown",
   "id": "bf46b032",
   "metadata": {},
   "source": [
    "### Look at Value of g"
   ]
  },
  {
   "cell_type": "code",
   "execution_count": 222,
   "id": "fac032c5",
   "metadata": {},
   "outputs": [
    {
     "data": {
      "text/html": [
       "<div>\n",
       "<style scoped>\n",
       "    .dataframe tbody tr th:only-of-type {\n",
       "        vertical-align: middle;\n",
       "    }\n",
       "\n",
       "    .dataframe tbody tr th {\n",
       "        vertical-align: top;\n",
       "    }\n",
       "\n",
       "    .dataframe thead th {\n",
       "        text-align: right;\n",
       "    }\n",
       "</style>\n",
       "<table border=\"1\" class=\"dataframe\">\n",
       "  <thead>\n",
       "    <tr style=\"text-align: right;\">\n",
       "      <th></th>\n",
       "      <th>index</th>\n",
       "      <th>output_addr_str</th>\n",
       "      <th>epoch</th>\n",
       "      <th>hash</th>\n",
       "      <th>time</th>\n",
       "      <th>input_addr</th>\n",
       "      <th>output_addr</th>\n",
       "      <th>input_value_tot</th>\n",
       "      <th>output_value_tot</th>\n",
       "      <th>fee</th>\n",
       "      <th>...</th>\n",
       "      <th>input_addr_str</th>\n",
       "      <th>input_value_tot_usd</th>\n",
       "      <th>output_vaue_tot_usd</th>\n",
       "      <th>is_batched</th>\n",
       "      <th>arrival_times</th>\n",
       "      <th>output_value_totusd_historical</th>\n",
       "      <th>n_txs_past</th>\n",
       "      <th>has_tx_history</th>\n",
       "      <th>batch_size</th>\n",
       "      <th>epoch_T</th>\n",
       "    </tr>\n",
       "  </thead>\n",
       "  <tbody>\n",
       "    <tr>\n",
       "      <th>0</th>\n",
       "      <td>31822</td>\n",
       "      <td>1111111111111111111114oLvT2,111111111111111111...</td>\n",
       "      <td>2207</td>\n",
       "      <td>ceb08c82f543781ffcb710cb882f6f57c2135959c1d0f3...</td>\n",
       "      <td>1659458871</td>\n",
       "      <td>['14p19AeJg6NubeQTa8bF2TpgbprcoivyrS']</td>\n",
       "      <td>['1111111111111111111114oLvT2', '1111111111111...</td>\n",
       "      <td>381092073</td>\n",
       "      <td>381081513</td>\n",
       "      <td>10560</td>\n",
       "      <td>...</td>\n",
       "      <td>14p19AeJg6NubeQTa8bF2TpgbprcoivyrS</td>\n",
       "      <td>83840.26</td>\n",
       "      <td>83837.93</td>\n",
       "      <td>False</td>\n",
       "      <td>[]</td>\n",
       "      <td>1.147132e+07</td>\n",
       "      <td>0</td>\n",
       "      <td>False</td>\n",
       "      <td>1</td>\n",
       "      <td>110</td>\n",
       "    </tr>\n",
       "    <tr>\n",
       "      <th>1</th>\n",
       "      <td>31823</td>\n",
       "      <td>1111111111111111111114oLvT2,111111111111111111...</td>\n",
       "      <td>2212</td>\n",
       "      <td>80fb6a5203a0f07d6e9a3ea0993c882b5e2e99c400386d...</td>\n",
       "      <td>1659459153</td>\n",
       "      <td>['14p19AeJg6NubeQTa8bF2TpgbprcoivyrS']</td>\n",
       "      <td>['1111111111111111111114oLvT2', '1111111111111...</td>\n",
       "      <td>380625633</td>\n",
       "      <td>380617889</td>\n",
       "      <td>7744</td>\n",
       "      <td>...</td>\n",
       "      <td>14p19AeJg6NubeQTa8bF2TpgbprcoivyrS</td>\n",
       "      <td>83737.64</td>\n",
       "      <td>83735.94</td>\n",
       "      <td>False</td>\n",
       "      <td>[2022-08-02 12:47:51]</td>\n",
       "      <td>1.147132e+07</td>\n",
       "      <td>1</td>\n",
       "      <td>False</td>\n",
       "      <td>1</td>\n",
       "      <td>110</td>\n",
       "    </tr>\n",
       "    <tr>\n",
       "      <th>2</th>\n",
       "      <td>31824</td>\n",
       "      <td>1111111111111111111114oLvT2,111111111111111111...</td>\n",
       "      <td>2213</td>\n",
       "      <td>b0e6be3bfd36a5c3af2f8dc9e89934ac9f2a2070cd241c...</td>\n",
       "      <td>1659459230</td>\n",
       "      <td>['14p19AeJg6NubeQTa8bF2TpgbprcoivyrS']</td>\n",
       "      <td>['1111111111111111111114oLvT2', '1111111111111...</td>\n",
       "      <td>380162009</td>\n",
       "      <td>380154968</td>\n",
       "      <td>7041</td>\n",
       "      <td>...</td>\n",
       "      <td>14p19AeJg6NubeQTa8bF2TpgbprcoivyrS</td>\n",
       "      <td>83635.64</td>\n",
       "      <td>83634.09</td>\n",
       "      <td>False</td>\n",
       "      <td>[2022-08-02 12:47:51, 2022-08-02 12:52:33]</td>\n",
       "      <td>1.147132e+07</td>\n",
       "      <td>2</td>\n",
       "      <td>True</td>\n",
       "      <td>1</td>\n",
       "      <td>110</td>\n",
       "    </tr>\n",
       "    <tr>\n",
       "      <th>3</th>\n",
       "      <td>31825</td>\n",
       "      <td>1111111111111111111114oLvT2,111111111111111111...</td>\n",
       "      <td>2228</td>\n",
       "      <td>8c1f6ef1d494d443c2bc72bf49d2d69c687a2171ca8a86...</td>\n",
       "      <td>1659460138</td>\n",
       "      <td>['14p19AeJg6NubeQTa8bF2TpgbprcoivyrS']</td>\n",
       "      <td>['1111111111111111111114oLvT2', '1111111111111...</td>\n",
       "      <td>379699088</td>\n",
       "      <td>379692752</td>\n",
       "      <td>6336</td>\n",
       "      <td>...</td>\n",
       "      <td>14p19AeJg6NubeQTa8bF2TpgbprcoivyrS</td>\n",
       "      <td>83533.80</td>\n",
       "      <td>83532.41</td>\n",
       "      <td>False</td>\n",
       "      <td>[2022-08-02 12:47:51, 2022-08-02 12:52:33, 202...</td>\n",
       "      <td>1.147132e+07</td>\n",
       "      <td>3</td>\n",
       "      <td>True</td>\n",
       "      <td>1</td>\n",
       "      <td>111</td>\n",
       "    </tr>\n",
       "    <tr>\n",
       "      <th>4</th>\n",
       "      <td>31826</td>\n",
       "      <td>1111111111111111111114oLvT2,111111111111111111...</td>\n",
       "      <td>2229</td>\n",
       "      <td>d43583efd1e0df7f00c780a5948bc284e9d72ab82643bb...</td>\n",
       "      <td>1659460195</td>\n",
       "      <td>['14p19AeJg6NubeQTa8bF2TpgbprcoivyrS']</td>\n",
       "      <td>['1111111111111111111114oLvT2', '1111111111111...</td>\n",
       "      <td>379236872</td>\n",
       "      <td>379229831</td>\n",
       "      <td>7041</td>\n",
       "      <td>...</td>\n",
       "      <td>14p19AeJg6NubeQTa8bF2TpgbprcoivyrS</td>\n",
       "      <td>83432.11</td>\n",
       "      <td>83430.56</td>\n",
       "      <td>False</td>\n",
       "      <td>[2022-08-02 12:47:51, 2022-08-02 12:52:33, 202...</td>\n",
       "      <td>1.147132e+07</td>\n",
       "      <td>4</td>\n",
       "      <td>True</td>\n",
       "      <td>1</td>\n",
       "      <td>111</td>\n",
       "    </tr>\n",
       "  </tbody>\n",
       "</table>\n",
       "<p>5 rows × 23 columns</p>\n",
       "</div>"
      ],
      "text/plain": [
       "   index                                    output_addr_str  epoch  \\\n",
       "0  31822  1111111111111111111114oLvT2,111111111111111111...   2207   \n",
       "1  31823  1111111111111111111114oLvT2,111111111111111111...   2212   \n",
       "2  31824  1111111111111111111114oLvT2,111111111111111111...   2213   \n",
       "3  31825  1111111111111111111114oLvT2,111111111111111111...   2228   \n",
       "4  31826  1111111111111111111114oLvT2,111111111111111111...   2229   \n",
       "\n",
       "                                                hash        time  \\\n",
       "0  ceb08c82f543781ffcb710cb882f6f57c2135959c1d0f3...  1659458871   \n",
       "1  80fb6a5203a0f07d6e9a3ea0993c882b5e2e99c400386d...  1659459153   \n",
       "2  b0e6be3bfd36a5c3af2f8dc9e89934ac9f2a2070cd241c...  1659459230   \n",
       "3  8c1f6ef1d494d443c2bc72bf49d2d69c687a2171ca8a86...  1659460138   \n",
       "4  d43583efd1e0df7f00c780a5948bc284e9d72ab82643bb...  1659460195   \n",
       "\n",
       "                               input_addr  \\\n",
       "0  ['14p19AeJg6NubeQTa8bF2TpgbprcoivyrS']   \n",
       "1  ['14p19AeJg6NubeQTa8bF2TpgbprcoivyrS']   \n",
       "2  ['14p19AeJg6NubeQTa8bF2TpgbprcoivyrS']   \n",
       "3  ['14p19AeJg6NubeQTa8bF2TpgbprcoivyrS']   \n",
       "4  ['14p19AeJg6NubeQTa8bF2TpgbprcoivyrS']   \n",
       "\n",
       "                                         output_addr  input_value_tot  \\\n",
       "0  ['1111111111111111111114oLvT2', '1111111111111...        381092073   \n",
       "1  ['1111111111111111111114oLvT2', '1111111111111...        380625633   \n",
       "2  ['1111111111111111111114oLvT2', '1111111111111...        380162009   \n",
       "3  ['1111111111111111111114oLvT2', '1111111111111...        379699088   \n",
       "4  ['1111111111111111111114oLvT2', '1111111111111...        379236872   \n",
       "\n",
       "   output_value_tot    fee  ...                      input_addr_str  \\\n",
       "0         381081513  10560  ...  14p19AeJg6NubeQTa8bF2TpgbprcoivyrS   \n",
       "1         380617889   7744  ...  14p19AeJg6NubeQTa8bF2TpgbprcoivyrS   \n",
       "2         380154968   7041  ...  14p19AeJg6NubeQTa8bF2TpgbprcoivyrS   \n",
       "3         379692752   6336  ...  14p19AeJg6NubeQTa8bF2TpgbprcoivyrS   \n",
       "4         379229831   7041  ...  14p19AeJg6NubeQTa8bF2TpgbprcoivyrS   \n",
       "\n",
       "   input_value_tot_usd  output_vaue_tot_usd is_batched  \\\n",
       "0             83840.26             83837.93      False   \n",
       "1             83737.64             83735.94      False   \n",
       "2             83635.64             83634.09      False   \n",
       "3             83533.80             83532.41      False   \n",
       "4             83432.11             83430.56      False   \n",
       "\n",
       "                                       arrival_times  \\\n",
       "0                                                 []   \n",
       "1                              [2022-08-02 12:47:51]   \n",
       "2         [2022-08-02 12:47:51, 2022-08-02 12:52:33]   \n",
       "3  [2022-08-02 12:47:51, 2022-08-02 12:52:33, 202...   \n",
       "4  [2022-08-02 12:47:51, 2022-08-02 12:52:33, 202...   \n",
       "\n",
       "   output_value_totusd_historical  n_txs_past has_tx_history  batch_size  \\\n",
       "0                    1.147132e+07           0          False           1   \n",
       "1                    1.147132e+07           1          False           1   \n",
       "2                    1.147132e+07           2           True           1   \n",
       "3                    1.147132e+07           3           True           1   \n",
       "4                    1.147132e+07           4           True           1   \n",
       "\n",
       "   epoch_T  \n",
       "0      110  \n",
       "1      110  \n",
       "2      110  \n",
       "3      111  \n",
       "4      111  \n",
       "\n",
       "[5 rows x 23 columns]"
      ]
     },
     "execution_count": 222,
     "metadata": {},
     "output_type": "execute_result"
    }
   ],
   "source": [
    "df_base.head()"
   ]
  },
  {
   "cell_type": "code",
   "execution_count": 30,
   "id": "92b6135e",
   "metadata": {},
   "outputs": [],
   "source": [
    "cols = ['output_addr_str', 'time', 'hash']\n",
    "df_tmp = df_base[cols].set_index('output_addr_str')\n",
    "df_pairs = df_tmp.join(df_tmp, how='inner', lsuffix = '_1', rsuffix='_2').reset_index()\n",
    "df_pairs = df_pairs[df_pairs.hash_1 < df_pairs.hash_2].reset_index()"
   ]
  },
  {
   "cell_type": "code",
   "execution_count": 42,
   "id": "2f9c77ce",
   "metadata": {},
   "outputs": [],
   "source": [
    "df_batches = df_pairs[np.abs(df_pairs.time_1 - df_pairs.time_2) <= 60]"
   ]
  },
  {
   "cell_type": "code",
   "execution_count": 49,
   "id": "13cb9759",
   "metadata": {},
   "outputs": [],
   "source": [
    "batched_hashes = set(df_batches.hash_1).union(set(df_batches.hash_2))"
   ]
  },
  {
   "cell_type": "code",
   "execution_count": 51,
   "id": "6174ee40",
   "metadata": {},
   "outputs": [],
   "source": [
    "df_base['is_batched'] = False\n",
    "df_base.loc[df_base.hash.isin(batched_hashes), 'is_batched'] = True"
   ]
  },
  {
   "cell_type": "code",
   "execution_count": 61,
   "id": "d47e1f78",
   "metadata": {},
   "outputs": [
    {
     "data": {
      "text/plain": [
       "'8c1f6ef1d494d443c2bc72bf49d2d69c687a2171ca8a86978fe816598323b7d8,d43583efd1e0df7f00c780a5948bc284e9d72ab82643bbabdfcbdd3dee3d124e'"
      ]
     },
     "execution_count": 61,
     "metadata": {},
     "output_type": "execute_result"
    }
   ],
   "source": [
    "(df_batches.hash_1 + '.' + df_batches.hash_2)[82]"
   ]
  },
  {
   "cell_type": "code",
   "execution_count": 38,
   "id": "1286c39d",
   "metadata": {},
   "outputs": [
    {
     "data": {
      "text/plain": [
       "datetime.datetime(2022, 8, 2, 12, 47, 51)"
      ]
     },
     "execution_count": 38,
     "metadata": {},
     "output_type": "execute_result"
    }
   ],
   "source": [
    "dt.fromtimestamp(df_pairs.time_1[4])"
   ]
  },
  {
   "cell_type": "code",
   "execution_count": 39,
   "id": "26f47ac7",
   "metadata": {},
   "outputs": [
    {
     "data": {
      "text/plain": [
       "datetime.datetime(2022, 8, 2, 13, 9, 55)"
      ]
     },
     "execution_count": 39,
     "metadata": {},
     "output_type": "execute_result"
    }
   ],
   "source": [
    "dt.fromtimestamp(df_pairs.time_2[4])"
   ]
  },
  {
   "cell_type": "code",
   "execution_count": 208,
   "id": "ecde432f",
   "metadata": {},
   "outputs": [
    {
     "data": {
      "text/plain": [
       "13125079"
      ]
     },
     "execution_count": 208,
     "metadata": {},
     "output_type": "execute_result"
    }
   ],
   "source": [
    "np.sum(df_base.groupby('output_addr_str').time.count() ** 2)"
   ]
  },
  {
   "cell_type": "code",
   "execution_count": 204,
   "id": "a140096f",
   "metadata": {},
   "outputs": [
    {
     "name": "stderr",
     "output_type": "stream",
     "text": [
      "Process ForkPoolWorker-81:\n",
      "Process ForkPoolWorker-78:\n",
      "Process ForkPoolWorker-82:\n",
      "Process ForkPoolWorker-77:\n",
      "Process ForkPoolWorker-76:\n",
      "Process ForkPoolWorker-80:\n",
      "Process ForkPoolWorker-79:\n",
      "Traceback (most recent call last):\n",
      "Process ForkPoolWorker-75:\n",
      "Traceback (most recent call last):\n",
      "Traceback (most recent call last):\n",
      "Process ForkPoolWorker-83:\n",
      "Traceback (most recent call last):\n",
      "Traceback (most recent call last):\n",
      "Traceback (most recent call last):\n",
      "Traceback (most recent call last):\n",
      "  File \"/Users/akgoldbe/opt/anaconda3/envs/timing/lib/python3.10/site-packages/multiprocess/process.py\", line 315, in _bootstrap\n",
      "    self.run()\n",
      "  File \"/Users/akgoldbe/opt/anaconda3/envs/timing/lib/python3.10/site-packages/multiprocess/process.py\", line 315, in _bootstrap\n",
      "    self.run()\n",
      "  File \"/Users/akgoldbe/opt/anaconda3/envs/timing/lib/python3.10/site-packages/multiprocess/process.py\", line 315, in _bootstrap\n",
      "    self.run()\n",
      "  File \"/Users/akgoldbe/opt/anaconda3/envs/timing/lib/python3.10/site-packages/multiprocess/process.py\", line 315, in _bootstrap\n",
      "    self.run()\n",
      "Process ForkPoolWorker-84:\n",
      "  File \"/Users/akgoldbe/opt/anaconda3/envs/timing/lib/python3.10/site-packages/multiprocess/process.py\", line 315, in _bootstrap\n",
      "    self.run()\n",
      "  File \"/Users/akgoldbe/opt/anaconda3/envs/timing/lib/python3.10/site-packages/multiprocess/process.py\", line 315, in _bootstrap\n",
      "    self.run()\n",
      "  File \"/Users/akgoldbe/opt/anaconda3/envs/timing/lib/python3.10/site-packages/multiprocess/process.py\", line 108, in run\n",
      "    self._target(*self._args, **self._kwargs)\n",
      "  File \"/Users/akgoldbe/opt/anaconda3/envs/timing/lib/python3.10/site-packages/multiprocess/process.py\", line 108, in run\n",
      "    self._target(*self._args, **self._kwargs)\n",
      "  File \"/Users/akgoldbe/opt/anaconda3/envs/timing/lib/python3.10/site-packages/multiprocess/process.py\", line 108, in run\n",
      "    self._target(*self._args, **self._kwargs)\n",
      "  File \"/Users/akgoldbe/opt/anaconda3/envs/timing/lib/python3.10/site-packages/multiprocess/process.py\", line 108, in run\n",
      "    self._target(*self._args, **self._kwargs)\n",
      "  File \"/Users/akgoldbe/opt/anaconda3/envs/timing/lib/python3.10/site-packages/multiprocess/pool.py\", line 114, in worker\n",
      "    task = get()\n",
      "  File \"/Users/akgoldbe/opt/anaconda3/envs/timing/lib/python3.10/site-packages/multiprocess/process.py\", line 108, in run\n",
      "    self._target(*self._args, **self._kwargs)\n",
      "  File \"/Users/akgoldbe/opt/anaconda3/envs/timing/lib/python3.10/site-packages/multiprocess/process.py\", line 108, in run\n",
      "    self._target(*self._args, **self._kwargs)\n",
      "  File \"/Users/akgoldbe/opt/anaconda3/envs/timing/lib/python3.10/site-packages/multiprocess/pool.py\", line 114, in worker\n",
      "    task = get()\n",
      "  File \"/Users/akgoldbe/opt/anaconda3/envs/timing/lib/python3.10/site-packages/multiprocess/pool.py\", line 114, in worker\n",
      "    task = get()\n",
      "  File \"/Users/akgoldbe/opt/anaconda3/envs/timing/lib/python3.10/site-packages/multiprocess/pool.py\", line 114, in worker\n",
      "    task = get()\n",
      "  File \"/Users/akgoldbe/opt/anaconda3/envs/timing/lib/python3.10/site-packages/multiprocess/pool.py\", line 114, in worker\n",
      "    task = get()\n",
      "  File \"/Users/akgoldbe/opt/anaconda3/envs/timing/lib/python3.10/site-packages/multiprocess/queues.py\", line 368, in get\n",
      "    with self._rlock:\n",
      "  File \"/Users/akgoldbe/opt/anaconda3/envs/timing/lib/python3.10/site-packages/multiprocess/queues.py\", line 368, in get\n",
      "    with self._rlock:\n",
      "  File \"/Users/akgoldbe/opt/anaconda3/envs/timing/lib/python3.10/site-packages/multiprocess/queues.py\", line 368, in get\n",
      "    with self._rlock:\n",
      "  File \"/Users/akgoldbe/opt/anaconda3/envs/timing/lib/python3.10/site-packages/multiprocess/queues.py\", line 368, in get\n",
      "    with self._rlock:\n",
      "  File \"/Users/akgoldbe/opt/anaconda3/envs/timing/lib/python3.10/site-packages/multiprocess/synchronize.py\", line 101, in __enter__\n",
      "    return self._semlock.__enter__()\n",
      "  File \"/Users/akgoldbe/opt/anaconda3/envs/timing/lib/python3.10/site-packages/multiprocess/queues.py\", line 368, in get\n",
      "    with self._rlock:\n",
      "  File \"/Users/akgoldbe/opt/anaconda3/envs/timing/lib/python3.10/site-packages/multiprocess/synchronize.py\", line 101, in __enter__\n",
      "    return self._semlock.__enter__()\n",
      "  File \"/Users/akgoldbe/opt/anaconda3/envs/timing/lib/python3.10/site-packages/multiprocess/synchronize.py\", line 101, in __enter__\n",
      "    return self._semlock.__enter__()\n",
      "  File \"/Users/akgoldbe/opt/anaconda3/envs/timing/lib/python3.10/site-packages/multiprocess/synchronize.py\", line 101, in __enter__\n",
      "    return self._semlock.__enter__()\n",
      "KeyboardInterrupt\n",
      "  File \"/Users/akgoldbe/opt/anaconda3/envs/timing/lib/python3.10/site-packages/multiprocess/synchronize.py\", line 101, in __enter__\n",
      "    return self._semlock.__enter__()\n",
      "KeyboardInterrupt\n",
      "\n",
      "KeyboardInterrupt\n",
      "\n"
     ]
    }
   ],
   "source": [
    "%%time\n",
    "\n",
    "batches = get_batch_pairs(df_base,'time', 10, sample_rate=1., parallel=True)"
   ]
  },
  {
   "cell_type": "code",
   "execution_count": 202,
   "id": "22bd1523",
   "metadata": {},
   "outputs": [
    {
     "data": {
      "text/plain": [
       "3518"
      ]
     },
     "execution_count": 202,
     "metadata": {},
     "output_type": "execute_result"
    }
   ],
   "source": [
    "len(batches)"
   ]
  },
  {
   "cell_type": "code",
   "execution_count": null,
   "id": "efa622d0",
   "metadata": {},
   "outputs": [],
   "source": [
    "def get_epoch(ts, start, T):\n",
    "    return int(np.floor((ts - start) / (60. * T)))\n",
    "\n",
    "start = min(df[time_col])\n",
    "get_epoch(df['time']), min(df['time'], 10)"
   ]
  },
  {
   "cell_type": "code",
   "execution_count": 73,
   "id": "d000dcf6",
   "metadata": {},
   "outputs": [
    {
     "data": {
      "text/html": [
       "<div>\n",
       "<style scoped>\n",
       "    .dataframe tbody tr th:only-of-type {\n",
       "        vertical-align: middle;\n",
       "    }\n",
       "\n",
       "    .dataframe tbody tr th {\n",
       "        vertical-align: top;\n",
       "    }\n",
       "\n",
       "    .dataframe thead th {\n",
       "        text-align: right;\n",
       "    }\n",
       "</style>\n",
       "<table border=\"1\" class=\"dataframe\">\n",
       "  <thead>\n",
       "    <tr style=\"text-align: right;\">\n",
       "      <th></th>\n",
       "      <th>index</th>\n",
       "      <th>output_addr_str</th>\n",
       "      <th>epoch</th>\n",
       "      <th>hash</th>\n",
       "      <th>time</th>\n",
       "      <th>input_addr</th>\n",
       "      <th>output_addr</th>\n",
       "      <th>input_value_tot</th>\n",
       "      <th>output_value_tot</th>\n",
       "      <th>fee</th>\n",
       "      <th>...</th>\n",
       "      <th>output_vaue_tot_usd</th>\n",
       "      <th>is_batched</th>\n",
       "      <th>arrival_times</th>\n",
       "      <th>output_value_totusd_historical</th>\n",
       "      <th>n_txs_past</th>\n",
       "      <th>has_tx_history</th>\n",
       "      <th>batch_size</th>\n",
       "      <th>g_75</th>\n",
       "      <th>g</th>\n",
       "      <th>g_95</th>\n",
       "    </tr>\n",
       "  </thead>\n",
       "  <tbody>\n",
       "    <tr>\n",
       "      <th>0</th>\n",
       "      <td>31822</td>\n",
       "      <td>1111111111111111111114oLvT2,111111111111111111...</td>\n",
       "      <td>2207</td>\n",
       "      <td>ceb08c82f543781ffcb710cb882f6f57c2135959c1d0f3...</td>\n",
       "      <td>1659458871</td>\n",
       "      <td>['14p19AeJg6NubeQTa8bF2TpgbprcoivyrS']</td>\n",
       "      <td>['1111111111111111111114oLvT2', '1111111111111...</td>\n",
       "      <td>381092073</td>\n",
       "      <td>381081513</td>\n",
       "      <td>10560</td>\n",
       "      <td>...</td>\n",
       "      <td>83837.93</td>\n",
       "      <td>False</td>\n",
       "      <td>[]</td>\n",
       "      <td>1.147132e+07</td>\n",
       "      <td>0</td>\n",
       "      <td>False</td>\n",
       "      <td>1</td>\n",
       "      <td>100000 days 00:00:00</td>\n",
       "      <td>10</td>\n",
       "      <td>100000 days 00:00:00</td>\n",
       "    </tr>\n",
       "    <tr>\n",
       "      <th>1</th>\n",
       "      <td>31823</td>\n",
       "      <td>1111111111111111111114oLvT2,111111111111111111...</td>\n",
       "      <td>2212</td>\n",
       "      <td>80fb6a5203a0f07d6e9a3ea0993c882b5e2e99c400386d...</td>\n",
       "      <td>1659459153</td>\n",
       "      <td>['14p19AeJg6NubeQTa8bF2TpgbprcoivyrS']</td>\n",
       "      <td>['1111111111111111111114oLvT2', '1111111111111...</td>\n",
       "      <td>380625633</td>\n",
       "      <td>380617889</td>\n",
       "      <td>7744</td>\n",
       "      <td>...</td>\n",
       "      <td>83735.94</td>\n",
       "      <td>False</td>\n",
       "      <td>[2022-08-02 12:47:51]</td>\n",
       "      <td>1.147132e+07</td>\n",
       "      <td>1</td>\n",
       "      <td>False</td>\n",
       "      <td>1</td>\n",
       "      <td>100000 days 00:00:00</td>\n",
       "      <td>10</td>\n",
       "      <td>100000 days 00:00:00</td>\n",
       "    </tr>\n",
       "    <tr>\n",
       "      <th>2</th>\n",
       "      <td>31824</td>\n",
       "      <td>1111111111111111111114oLvT2,111111111111111111...</td>\n",
       "      <td>2213</td>\n",
       "      <td>b0e6be3bfd36a5c3af2f8dc9e89934ac9f2a2070cd241c...</td>\n",
       "      <td>1659459230</td>\n",
       "      <td>['14p19AeJg6NubeQTa8bF2TpgbprcoivyrS']</td>\n",
       "      <td>['1111111111111111111114oLvT2', '1111111111111...</td>\n",
       "      <td>380162009</td>\n",
       "      <td>380154968</td>\n",
       "      <td>7041</td>\n",
       "      <td>...</td>\n",
       "      <td>83634.09</td>\n",
       "      <td>False</td>\n",
       "      <td>[2022-08-02 12:47:51, 2022-08-02 12:52:33]</td>\n",
       "      <td>1.147132e+07</td>\n",
       "      <td>2</td>\n",
       "      <td>True</td>\n",
       "      <td>1</td>\n",
       "      <td>0 days 00:04:42</td>\n",
       "      <td>5</td>\n",
       "      <td>0 days 00:04:42</td>\n",
       "    </tr>\n",
       "    <tr>\n",
       "      <th>3</th>\n",
       "      <td>31825</td>\n",
       "      <td>1111111111111111111114oLvT2,111111111111111111...</td>\n",
       "      <td>2228</td>\n",
       "      <td>8c1f6ef1d494d443c2bc72bf49d2d69c687a2171ca8a86...</td>\n",
       "      <td>1659460138</td>\n",
       "      <td>['14p19AeJg6NubeQTa8bF2TpgbprcoivyrS']</td>\n",
       "      <td>['1111111111111111111114oLvT2', '1111111111111...</td>\n",
       "      <td>379699088</td>\n",
       "      <td>379692752</td>\n",
       "      <td>6336</td>\n",
       "      <td>...</td>\n",
       "      <td>83532.41</td>\n",
       "      <td>False</td>\n",
       "      <td>[2022-08-02 12:47:51, 2022-08-02 12:52:33, 202...</td>\n",
       "      <td>1.147132e+07</td>\n",
       "      <td>3</td>\n",
       "      <td>True</td>\n",
       "      <td>1</td>\n",
       "      <td>0 days 00:03:50.750000</td>\n",
       "      <td>5</td>\n",
       "      <td>0 days 00:04:31.750000</td>\n",
       "    </tr>\n",
       "    <tr>\n",
       "      <th>4</th>\n",
       "      <td>31826</td>\n",
       "      <td>1111111111111111111114oLvT2,111111111111111111...</td>\n",
       "      <td>2229</td>\n",
       "      <td>d43583efd1e0df7f00c780a5948bc284e9d72ab82643bb...</td>\n",
       "      <td>1659460195</td>\n",
       "      <td>['14p19AeJg6NubeQTa8bF2TpgbprcoivyrS']</td>\n",
       "      <td>['1111111111111111111114oLvT2', '1111111111111...</td>\n",
       "      <td>379236872</td>\n",
       "      <td>379229831</td>\n",
       "      <td>7041</td>\n",
       "      <td>...</td>\n",
       "      <td>83430.56</td>\n",
       "      <td>False</td>\n",
       "      <td>[2022-08-02 12:47:51, 2022-08-02 12:52:33, 202...</td>\n",
       "      <td>1.147132e+07</td>\n",
       "      <td>4</td>\n",
       "      <td>True</td>\n",
       "      <td>1</td>\n",
       "      <td>0 days 00:09:55</td>\n",
       "      <td>15</td>\n",
       "      <td>0 days 00:14:05.400000</td>\n",
       "    </tr>\n",
       "  </tbody>\n",
       "</table>\n",
       "<p>5 rows × 25 columns</p>\n",
       "</div>"
      ],
      "text/plain": [
       "   index                                    output_addr_str  epoch  \\\n",
       "0  31822  1111111111111111111114oLvT2,111111111111111111...   2207   \n",
       "1  31823  1111111111111111111114oLvT2,111111111111111111...   2212   \n",
       "2  31824  1111111111111111111114oLvT2,111111111111111111...   2213   \n",
       "3  31825  1111111111111111111114oLvT2,111111111111111111...   2228   \n",
       "4  31826  1111111111111111111114oLvT2,111111111111111111...   2229   \n",
       "\n",
       "                                                hash        time  \\\n",
       "0  ceb08c82f543781ffcb710cb882f6f57c2135959c1d0f3...  1659458871   \n",
       "1  80fb6a5203a0f07d6e9a3ea0993c882b5e2e99c400386d...  1659459153   \n",
       "2  b0e6be3bfd36a5c3af2f8dc9e89934ac9f2a2070cd241c...  1659459230   \n",
       "3  8c1f6ef1d494d443c2bc72bf49d2d69c687a2171ca8a86...  1659460138   \n",
       "4  d43583efd1e0df7f00c780a5948bc284e9d72ab82643bb...  1659460195   \n",
       "\n",
       "                               input_addr  \\\n",
       "0  ['14p19AeJg6NubeQTa8bF2TpgbprcoivyrS']   \n",
       "1  ['14p19AeJg6NubeQTa8bF2TpgbprcoivyrS']   \n",
       "2  ['14p19AeJg6NubeQTa8bF2TpgbprcoivyrS']   \n",
       "3  ['14p19AeJg6NubeQTa8bF2TpgbprcoivyrS']   \n",
       "4  ['14p19AeJg6NubeQTa8bF2TpgbprcoivyrS']   \n",
       "\n",
       "                                         output_addr  input_value_tot  \\\n",
       "0  ['1111111111111111111114oLvT2', '1111111111111...        381092073   \n",
       "1  ['1111111111111111111114oLvT2', '1111111111111...        380625633   \n",
       "2  ['1111111111111111111114oLvT2', '1111111111111...        380162009   \n",
       "3  ['1111111111111111111114oLvT2', '1111111111111...        379699088   \n",
       "4  ['1111111111111111111114oLvT2', '1111111111111...        379236872   \n",
       "\n",
       "   output_value_tot    fee  ... output_vaue_tot_usd  is_batched  \\\n",
       "0         381081513  10560  ...            83837.93       False   \n",
       "1         380617889   7744  ...            83735.94       False   \n",
       "2         380154968   7041  ...            83634.09       False   \n",
       "3         379692752   6336  ...            83532.41       False   \n",
       "4         379229831   7041  ...            83430.56       False   \n",
       "\n",
       "                                       arrival_times  \\\n",
       "0                                                 []   \n",
       "1                              [2022-08-02 12:47:51]   \n",
       "2         [2022-08-02 12:47:51, 2022-08-02 12:52:33]   \n",
       "3  [2022-08-02 12:47:51, 2022-08-02 12:52:33, 202...   \n",
       "4  [2022-08-02 12:47:51, 2022-08-02 12:52:33, 202...   \n",
       "\n",
       "  output_value_totusd_historical  n_txs_past  has_tx_history  batch_size  \\\n",
       "0                   1.147132e+07           0           False           1   \n",
       "1                   1.147132e+07           1           False           1   \n",
       "2                   1.147132e+07           2            True           1   \n",
       "3                   1.147132e+07           3            True           1   \n",
       "4                   1.147132e+07           4            True           1   \n",
       "\n",
       "                    g_75   g                   g_95  \n",
       "0   100000 days 00:00:00  10   100000 days 00:00:00  \n",
       "1   100000 days 00:00:00  10   100000 days 00:00:00  \n",
       "2        0 days 00:04:42   5        0 days 00:04:42  \n",
       "3 0 days 00:03:50.750000   5 0 days 00:04:31.750000  \n",
       "4        0 days 00:09:55  15 0 days 00:14:05.400000  \n",
       "\n",
       "[5 rows x 25 columns]"
      ]
     },
     "execution_count": 73,
     "metadata": {},
     "output_type": "execute_result"
    }
   ],
   "source": [
    "from multiprocess import Pool, cpu_count\n",
    "\n",
    "def applyParallel(df, func):\n",
    "    with Pool(cpu_count()) as p:\n",
    "        ret_list = p.map(func, df)\n",
    "    return np.vstack(ret_list)\n",
    "\n",
    "def applyParallelGroupBy(dfGrouped, func):\n",
    "    with Pool(cpu_count()) as p:\n",
    "        ret_list = p.map(func, [group for name, group in dfGrouped])\n",
    "    return np.vstack(ret_list)\n",
    "\n",
    "\n",
    "def get_batch_pairs(df, time_col, T):\n",
    "    def get_epoch(ts, start, T):\n",
    "        return int(np.floor((ts - start).total_seconds() / (60. * T)))\n",
    "\n",
    "    start = min(df[time_col])\n",
    "    # split ino epochs\n",
    "    df['epoch'] = applyParallel(df[time_col], lambda t: get_epoch(t, start, 2*T))\n",
    "    df_g = df.groupby(['epoch', 'output_addr_str'])[['input_addr_str', time_col]]\n",
    "\n",
    "    def pair_and_threshold(g):\n",
    "        if len(g) <= 1:\n",
    "            return []\n",
    "        z = list(zip(g['input_addr_str'], g['time_col']))\n",
    "        return [','.join(sorted([p[0,0], p[1,0]])) for p in combinations(z, 2)\n",
    "                    if np.abs(p[1][1] - p[0][1]) / 60. <= T]\n",
    "\n",
    "    b = applyParallel(df_g, pair_and_threshold)\n",
    "    return b\n",
    "\n",
    "df_base.head()"
   ]
  },
  {
   "cell_type": "code",
   "execution_count": 36,
   "id": "26ca561c",
   "metadata": {},
   "outputs": [],
   "source": [
    "D_MAX = timedelta(days=100000)\n",
    "\n",
    "def compute_g_percentile(times, p=75):\n",
    "    diffs = np.diff(times)\n",
    "    zeros = sum(diffs <= 60)\n",
    "    if zeros == len(diffs):\n",
    "        return D_MAX\n",
    "    else:\n",
    "        return np.percentile(diffs[diffs != timedelta(0)], p)\n",
    "\n",
    "df_base['g_75'] = df_base.arrival_times.apply(compute_g_percentile)"
   ]
  },
  {
   "cell_type": "code",
   "execution_count": 22,
   "id": "3a6d3f67",
   "metadata": {},
   "outputs": [],
   "source": [
    "def bucket_time(t):\n",
    "    if t == D_MAX:\n",
    "        return 5\n",
    "    if t <= timedelta(minutes = 60):\n",
    "        return 0\n",
    "    if t <= timedelta(minutes = 60*12):\n",
    "        return 1\n",
    "    if t <= timedelta(minutes = 60*24):\n",
    "        return 2\n",
    "    if t <= timedelta(minutes = 60*48):\n",
    "        return 3\n",
    "    return 4\n",
    "\n",
    "time_labels = ['<1 hr', '1-12 hrs', '12-24 hrs', '1-2 days', '>2 days', 'Infinite\\n(No other tx)']"
   ]
  },
  {
   "cell_type": "code",
   "execution_count": 23,
   "id": "b8a7b6cf",
   "metadata": {},
   "outputs": [
    {
     "data": {
      "image/png": "[encoded data removed]",
      "text/plain": [
       "<Figure size 1080x720 with 1 Axes>"
      ]
     },
     "metadata": {
      "needs_background": "light"
     },
     "output_type": "display_data"
    }
   ],
   "source": [
    "fig, axes = plt.subplots(figsize=(15,10))\n",
    "sns.histplot(df_base[df_base.is_batched].g_75.apply(bucket_time), bins = np.arange(0,7))\n",
    "plt.xticks(np.arange(0,6)+0.5, labels=time_labels)\n",
    "plt.ylabel('# of Transactions')\n",
    "plt.xlabel('p75 Inter-Arrival Time of Incoming Transactions to Receiving Address (Setting of g)')\n",
    "plt.title('Batched Transactions')\n",
    "plt.show()"
   ]
  },
  {
   "cell_type": "code",
   "execution_count": 24,
   "id": "74a8fa71",
   "metadata": {},
   "outputs": [
    {
     "data": {
      "image/png": "[encoded data removed]",
      "text/plain": [
       "<Figure size 1080x720 with 1 Axes>"
      ]
     },
     "metadata": {
      "needs_background": "light"
     },
     "output_type": "display_data"
    }
   ],
   "source": [
    "fig, axes = plt.subplots(figsize=(15,10))\n",
    "sns.histplot(df_base[~df_base.is_batched].g_75.apply(bucket_time), bins = np.arange(0,7))\n",
    "plt.xticks(np.arange(0,6)+0.5, labels=time_labels)\n",
    "plt.ylabel('# of Transactions')\n",
    "plt.xlabel('p75 Inter-Arrival Time of Incoming Transactions to Receiving Address (Setting of g)')\n",
    "plt.title('Unbatched Transactions')\n",
    "plt.show()"
   ]
  },
  {
   "cell_type": "markdown",
   "id": "95fdc01b",
   "metadata": {},
   "source": [
    "### Simulate Mechanisms"
   ]
  },
  {
   "cell_type": "code",
   "execution_count": 35,
   "id": "cf2d619f",
   "metadata": {},
   "outputs": [
    {
     "data": {
      "text/html": [
       "<div>\n",
       "<style scoped>\n",
       "    .dataframe tbody tr th:only-of-type {\n",
       "        vertical-align: middle;\n",
       "    }\n",
       "\n",
       "    .dataframe tbody tr th {\n",
       "        vertical-align: top;\n",
       "    }\n",
       "\n",
       "    .dataframe thead th {\n",
       "        text-align: right;\n",
       "    }\n",
       "</style>\n",
       "<table border=\"1\" class=\"dataframe\">\n",
       "  <thead>\n",
       "    <tr style=\"text-align: right;\">\n",
       "      <th></th>\n",
       "      <th>index</th>\n",
       "      <th>output_addr_str</th>\n",
       "      <th>epoch</th>\n",
       "      <th>hash</th>\n",
       "      <th>time</th>\n",
       "      <th>input_addr</th>\n",
       "      <th>output_addr</th>\n",
       "      <th>input_value_tot</th>\n",
       "      <th>output_value_tot</th>\n",
       "      <th>fee</th>\n",
       "      <th>...</th>\n",
       "      <th>n_inputs</th>\n",
       "      <th>input_addr_str</th>\n",
       "      <th>input_value_tot_usd</th>\n",
       "      <th>output_vaue_tot_usd</th>\n",
       "      <th>is_batched</th>\n",
       "      <th>arrival_times</th>\n",
       "      <th>output_value_totusd_historical</th>\n",
       "      <th>n_txs_past</th>\n",
       "      <th>has_tx_history</th>\n",
       "      <th>batch_size</th>\n",
       "    </tr>\n",
       "  </thead>\n",
       "  <tbody>\n",
       "    <tr>\n",
       "      <th>0</th>\n",
       "      <td>31822</td>\n",
       "      <td>1111111111111111111114oLvT2,111111111111111111...</td>\n",
       "      <td>2207</td>\n",
       "      <td>ceb08c82f543781ffcb710cb882f6f57c2135959c1d0f3...</td>\n",
       "      <td>1659458871</td>\n",
       "      <td>['14p19AeJg6NubeQTa8bF2TpgbprcoivyrS']</td>\n",
       "      <td>['1111111111111111111114oLvT2', '1111111111111...</td>\n",
       "      <td>381092073</td>\n",
       "      <td>381081513</td>\n",
       "      <td>10560</td>\n",
       "      <td>...</td>\n",
       "      <td>1</td>\n",
       "      <td>14p19AeJg6NubeQTa8bF2TpgbprcoivyrS</td>\n",
       "      <td>83840.26</td>\n",
       "      <td>83837.93</td>\n",
       "      <td>False</td>\n",
       "      <td>[]</td>\n",
       "      <td>1.147132e+07</td>\n",
       "      <td>0</td>\n",
       "      <td>False</td>\n",
       "      <td>1</td>\n",
       "    </tr>\n",
       "    <tr>\n",
       "      <th>1</th>\n",
       "      <td>31823</td>\n",
       "      <td>1111111111111111111114oLvT2,111111111111111111...</td>\n",
       "      <td>2212</td>\n",
       "      <td>80fb6a5203a0f07d6e9a3ea0993c882b5e2e99c400386d...</td>\n",
       "      <td>1659459153</td>\n",
       "      <td>['14p19AeJg6NubeQTa8bF2TpgbprcoivyrS']</td>\n",
       "      <td>['1111111111111111111114oLvT2', '1111111111111...</td>\n",
       "      <td>380625633</td>\n",
       "      <td>380617889</td>\n",
       "      <td>7744</td>\n",
       "      <td>...</td>\n",
       "      <td>1</td>\n",
       "      <td>14p19AeJg6NubeQTa8bF2TpgbprcoivyrS</td>\n",
       "      <td>83737.64</td>\n",
       "      <td>83735.94</td>\n",
       "      <td>False</td>\n",
       "      <td>[2022-08-02 12:47:51]</td>\n",
       "      <td>1.147132e+07</td>\n",
       "      <td>1</td>\n",
       "      <td>False</td>\n",
       "      <td>1</td>\n",
       "    </tr>\n",
       "    <tr>\n",
       "      <th>2</th>\n",
       "      <td>31824</td>\n",
       "      <td>1111111111111111111114oLvT2,111111111111111111...</td>\n",
       "      <td>2213</td>\n",
       "      <td>b0e6be3bfd36a5c3af2f8dc9e89934ac9f2a2070cd241c...</td>\n",
       "      <td>1659459230</td>\n",
       "      <td>['14p19AeJg6NubeQTa8bF2TpgbprcoivyrS']</td>\n",
       "      <td>['1111111111111111111114oLvT2', '1111111111111...</td>\n",
       "      <td>380162009</td>\n",
       "      <td>380154968</td>\n",
       "      <td>7041</td>\n",
       "      <td>...</td>\n",
       "      <td>1</td>\n",
       "      <td>14p19AeJg6NubeQTa8bF2TpgbprcoivyrS</td>\n",
       "      <td>83635.64</td>\n",
       "      <td>83634.09</td>\n",
       "      <td>False</td>\n",
       "      <td>[2022-08-02 12:47:51, 2022-08-02 12:52:33]</td>\n",
       "      <td>1.147132e+07</td>\n",
       "      <td>2</td>\n",
       "      <td>True</td>\n",
       "      <td>1</td>\n",
       "    </tr>\n",
       "    <tr>\n",
       "      <th>3</th>\n",
       "      <td>31825</td>\n",
       "      <td>1111111111111111111114oLvT2,111111111111111111...</td>\n",
       "      <td>2228</td>\n",
       "      <td>8c1f6ef1d494d443c2bc72bf49d2d69c687a2171ca8a86...</td>\n",
       "      <td>1659460138</td>\n",
       "      <td>['14p19AeJg6NubeQTa8bF2TpgbprcoivyrS']</td>\n",
       "      <td>['1111111111111111111114oLvT2', '1111111111111...</td>\n",
       "      <td>379699088</td>\n",
       "      <td>379692752</td>\n",
       "      <td>6336</td>\n",
       "      <td>...</td>\n",
       "      <td>1</td>\n",
       "      <td>14p19AeJg6NubeQTa8bF2TpgbprcoivyrS</td>\n",
       "      <td>83533.80</td>\n",
       "      <td>83532.41</td>\n",
       "      <td>False</td>\n",
       "      <td>[2022-08-02 12:47:51, 2022-08-02 12:52:33, 202...</td>\n",
       "      <td>1.147132e+07</td>\n",
       "      <td>3</td>\n",
       "      <td>True</td>\n",
       "      <td>1</td>\n",
       "    </tr>\n",
       "    <tr>\n",
       "      <th>4</th>\n",
       "      <td>31826</td>\n",
       "      <td>1111111111111111111114oLvT2,111111111111111111...</td>\n",
       "      <td>2229</td>\n",
       "      <td>d43583efd1e0df7f00c780a5948bc284e9d72ab82643bb...</td>\n",
       "      <td>1659460195</td>\n",
       "      <td>['14p19AeJg6NubeQTa8bF2TpgbprcoivyrS']</td>\n",
       "      <td>['1111111111111111111114oLvT2', '1111111111111...</td>\n",
       "      <td>379236872</td>\n",
       "      <td>379229831</td>\n",
       "      <td>7041</td>\n",
       "      <td>...</td>\n",
       "      <td>1</td>\n",
       "      <td>14p19AeJg6NubeQTa8bF2TpgbprcoivyrS</td>\n",
       "      <td>83432.11</td>\n",
       "      <td>83430.56</td>\n",
       "      <td>False</td>\n",
       "      <td>[2022-08-02 12:47:51, 2022-08-02 12:52:33, 202...</td>\n",
       "      <td>1.147132e+07</td>\n",
       "      <td>4</td>\n",
       "      <td>True</td>\n",
       "      <td>1</td>\n",
       "    </tr>\n",
       "  </tbody>\n",
       "</table>\n",
       "<p>5 rows × 22 columns</p>\n",
       "</div>"
      ],
      "text/plain": [
       "   index                                    output_addr_str  epoch  \\\n",
       "0  31822  1111111111111111111114oLvT2,111111111111111111...   2207   \n",
       "1  31823  1111111111111111111114oLvT2,111111111111111111...   2212   \n",
       "2  31824  1111111111111111111114oLvT2,111111111111111111...   2213   \n",
       "3  31825  1111111111111111111114oLvT2,111111111111111111...   2228   \n",
       "4  31826  1111111111111111111114oLvT2,111111111111111111...   2229   \n",
       "\n",
       "                                                hash        time  \\\n",
       "0  ceb08c82f543781ffcb710cb882f6f57c2135959c1d0f3...  1659458871   \n",
       "1  80fb6a5203a0f07d6e9a3ea0993c882b5e2e99c400386d...  1659459153   \n",
       "2  b0e6be3bfd36a5c3af2f8dc9e89934ac9f2a2070cd241c...  1659459230   \n",
       "3  8c1f6ef1d494d443c2bc72bf49d2d69c687a2171ca8a86...  1659460138   \n",
       "4  d43583efd1e0df7f00c780a5948bc284e9d72ab82643bb...  1659460195   \n",
       "\n",
       "                               input_addr  \\\n",
       "0  ['14p19AeJg6NubeQTa8bF2TpgbprcoivyrS']   \n",
       "1  ['14p19AeJg6NubeQTa8bF2TpgbprcoivyrS']   \n",
       "2  ['14p19AeJg6NubeQTa8bF2TpgbprcoivyrS']   \n",
       "3  ['14p19AeJg6NubeQTa8bF2TpgbprcoivyrS']   \n",
       "4  ['14p19AeJg6NubeQTa8bF2TpgbprcoivyrS']   \n",
       "\n",
       "                                         output_addr  input_value_tot  \\\n",
       "0  ['1111111111111111111114oLvT2', '1111111111111...        381092073   \n",
       "1  ['1111111111111111111114oLvT2', '1111111111111...        380625633   \n",
       "2  ['1111111111111111111114oLvT2', '1111111111111...        380162009   \n",
       "3  ['1111111111111111111114oLvT2', '1111111111111...        379699088   \n",
       "4  ['1111111111111111111114oLvT2', '1111111111111...        379236872   \n",
       "\n",
       "   output_value_tot    fee  ... n_inputs                      input_addr_str  \\\n",
       "0         381081513  10560  ...        1  14p19AeJg6NubeQTa8bF2TpgbprcoivyrS   \n",
       "1         380617889   7744  ...        1  14p19AeJg6NubeQTa8bF2TpgbprcoivyrS   \n",
       "2         380154968   7041  ...        1  14p19AeJg6NubeQTa8bF2TpgbprcoivyrS   \n",
       "3         379692752   6336  ...        1  14p19AeJg6NubeQTa8bF2TpgbprcoivyrS   \n",
       "4         379229831   7041  ...        1  14p19AeJg6NubeQTa8bF2TpgbprcoivyrS   \n",
       "\n",
       "   input_value_tot_usd output_vaue_tot_usd  is_batched  \\\n",
       "0             83840.26            83837.93       False   \n",
       "1             83737.64            83735.94       False   \n",
       "2             83635.64            83634.09       False   \n",
       "3             83533.80            83532.41       False   \n",
       "4             83432.11            83430.56       False   \n",
       "\n",
       "                                       arrival_times  \\\n",
       "0                                                 []   \n",
       "1                              [2022-08-02 12:47:51]   \n",
       "2         [2022-08-02 12:47:51, 2022-08-02 12:52:33]   \n",
       "3  [2022-08-02 12:47:51, 2022-08-02 12:52:33, 202...   \n",
       "4  [2022-08-02 12:47:51, 2022-08-02 12:52:33, 202...   \n",
       "\n",
       "   output_value_totusd_historical n_txs_past  has_tx_history  batch_size  \n",
       "0                    1.147132e+07          0           False           1  \n",
       "1                    1.147132e+07          1           False           1  \n",
       "2                    1.147132e+07          2            True           1  \n",
       "3                    1.147132e+07          3            True           1  \n",
       "4                    1.147132e+07          4            True           1  \n",
       "\n",
       "[5 rows x 22 columns]"
      ]
     },
     "execution_count": 35,
     "metadata": {},
     "output_type": "execute_result"
    }
   ],
   "source": [
    "df_base.head()"
   ]
  },
  {
   "cell_type": "code",
   "execution_count": 45,
   "id": "3d55622e",
   "metadata": {},
   "outputs": [],
   "source": [
    "def eps_to_K(eps):\n",
    "    return max(1, np.ceil(1./(np.exp(eps/2.) -1)))\n",
    "\n",
    "def K_to_eps(K):\n",
    "    return 2*np.log((K+1.) / K)\n",
    "\n",
    "def sample_staircase(eps, g, gamma=None, size=1):\n",
    "    # if gamma = None, use OPT\n",
    "    if gamma is None:\n",
    "        gamma = 1/(1+np.exp(eps/2.))\n",
    "    b = np.exp(-1.*eps)\n",
    "    G = geom.rvs(1-b, loc=-1, size=size)\n",
    "    U = uniform.rvs(size=size)\n",
    "    p0 = gamma / (gamma + ((1-gamma)*b))\n",
    "    B = bernoulli.rvs(1.-p0, size=size)\n",
    "    return (1-B)*((G + gamma*U)*g) + B*((G + gamma + ((1-gamma)*U))*g)\n",
    "\n",
    "def apply_rand_staircase(is_batched, g, eps):\n",
    "    d = sample_staircase(eps / 2., g)[0]\n",
    "    if is_batched:\n",
    "        return g + d\n",
    "    else:\n",
    "        return d\n",
    "    \n",
    "def apply_rand_epoch(is_batched, g, K):\n",
    "    if is_batched:\n",
    "        # sample from g to g(K+1)\n",
    "        loc = g\n",
    "        scale = K*g\n",
    "    else:\n",
    "        # sample from 0 to g(K+1)\n",
    "        loc = 0\n",
    "        scale = (K+1)*g\n",
    "    return uniform.rvs(loc=loc, scale=scale) \n",
    "\n",
    "def td_to_timestep(t):\n",
    "    return int(np.ceil(t.total_seconds() / 60.))\n",
    "\n",
    "def test_delays(eps, iters=5, batched_only=True):\n",
    "    if batched_only:\n",
    "        df = df_base[df_base.is_batched]\n",
    "    else:\n",
    "        df = df_base\n",
    "    \n",
    "    stair_runs = []\n",
    "    epoch_runs = []\n",
    "    for i in range(iters):\n",
    "        stair_runs += [df.apply(lambda r: apply_rand_staircase(r['is_batched'], r['g'], eps), axis=1)]\n",
    "        epoch_runs += [df.apply(lambda r: apply_rand_epoch(r['is_batched'], r['g'], K_to_eps(eps)), axis=1)]\n",
    "    \n",
    "    return stair_runs, epoch_runs\n",
    "\n",
    "def plot_delays(stair_runs, epoch_runs, cutoff=95, ax=None):\n",
    "    if ax == None:\n",
    "        fig, ax = plt.subplots(figsize=(10,10))\n",
    "    \n",
    "    s = np.hstack(stair_runs)\n",
    "    e = np.hstack(epoch_runs)\n",
    "    \n",
    "    x_max = 300\n",
    "    \n",
    "    ax.hist([e, s], bins=np.arange(0, x_max, 10), alpha=0.9, label=['random epoch', 'staircase'], density=True)\n",
    "    \n",
    "    ax.legend(fontsize=16)\n",
    "        \n",
    "    ax.set_xlabel('Number of Minutes Delayed')\n",
    "    ax.set_ylabel('Density')\n",
    "    \n",
    "def get_percentiles(stair_runs, epoch_runs, eps_value):\n",
    "    p25 = np.percentile(stair_runs, 25), np.percentile(epoch_runs, 25)\n",
    "    p50 = np.percentile(stair_runs, 50), np.percentile(epoch_runs, 50)\n",
    "    p75 = np.percentile(stair_runs, 75), np.percentile(epoch_runs, 75)\n",
    "    p95 = np.percentile(stair_runs, 95), np.percentile(epoch_runs, 95)\n",
    "    avg = np.mean(stair_runs), np.mean(epoch_runs)\n",
    "\n",
    "    d = pd.DataFrame([p25, p50, p75, p95, avg]).T\n",
    "    d.index = ['Staircase', 'Random Epoch']\n",
    "    d.columns= ['p25', 'p50', 'p75', 'p95', 'Mean']\n",
    "    eps = r'$\\epsilon$'\n",
    "    d[eps] = eps_value\n",
    "    d.set_index(eps, append=True, inplace=True)\n",
    "    return d.round(decimals=1)\n",
    "\n",
    "def get_epoch(ts, start, D):\n",
    "    return int(np.floor((ts - start).total_seconds() / (60. * D)))\n",
    "\n",
    "def get_batch_pairs(grouped):\n",
    "    return [','.join(sorted(p)) for c in grouped.values if len(c) > 1 for p in combinations(c, 2)]\n",
    "\n",
    "BATCHES = set(get_batch_pairs(df_base.groupby(['epoch', 'output_addr_str'])['input_addr_str'].apply(list)))\n",
    "\n",
    "def simulate_attack(df, T, batches=BATCHES, informed=False):\n",
    "    df['epoch_T_priv'] = [get_epoch(ts, start_dt, D) for ts in df['release_time']]\n",
    "    priv_batches = df_base.groupby(['epoch_T_priv', 'output_addr_str'])['input_addr_str'].apply(list)\n",
    "    pairs_priv = set(get_batch_pairs(priv_batches))\n",
    "    n_TP = len(pairs_orig.intersection(pairs_priv))\n",
    "    n_FP = len(pairs_priv) - n_TP\n",
    "    n_FN = len(pairs_orig) - n_TP\n",
    "    recall = n_TP / (n_FN + n_TP)\n",
    "    precision = n_TP / (n_TP + n_FP)\n",
    "    print(f'TP: {n_TP}, FP: {n_FP}, FN: {n_FN}')\n",
    "    print(f'Recall: {n_TP / (n_FN + n_TP)}, Precision: {n_TP / (n_TP + n_FP)}')\n",
    "    return n_TP, n_FP, n_FN, recall, precision\n",
    "\n",
    "def run_experiment(g_perc, eps, DEFAULT_G = 10, iters=5):\n",
    "    df_base[f'g_{g_perc}'] = df_base.arrival_times.apply(lambda t: compute_g_percentile(t, g_perc))\n",
    "    df_base['g'] = [DEFAULT_G if g == D_MAX else td_to_timestep(g) for g in df_base[f'g_{g_perc}']]\n",
    "    \n",
    "    stair_runs, epoch_runs = test_delays(eps, iters, batched_only=False)\n",
    "    df['release_time'] = (epoch_runs[0] * 60) + df.timestamp\n",
    "    simulate_attack(df, )"
   ]
  },
  {
   "cell_type": "code",
   "execution_count": 57,
   "id": "79faf371",
   "metadata": {},
   "outputs": [],
   "source": [
    "df_base[f'g_{95}'] = df_base.arrival_times.apply(lambda t: compute_g_percentile(t, 95))\n",
    "df_base['g'] = [DEFAULT_G if g == D_MAX else td_to_timestep(g) for g in df_base[f'g_{95}']]"
   ]
  },
  {
   "cell_type": "code",
   "execution_count": 50,
   "id": "6661cc58",
   "metadata": {},
   "outputs": [],
   "source": [
    "K =  K_to_eps(eps)\n",
    "stair_runs, epoch_runs = df_base.apply(lambda r: apply_rand_epoch(r['is_batched'], r['g'], K), axis=1)"
   ]
  },
  {
   "cell_type": "code",
   "execution_count": 66,
   "id": "5266403d",
   "metadata": {},
   "outputs": [
    {
     "data": {
      "text/plain": [
       "datetime.datetime(2022, 8, 2, 13, 47, 51)"
      ]
     },
     "execution_count": 66,
     "metadata": {},
     "output_type": "execute_result"
    }
   ],
   "source": [
    "dt.fromtimestamp(1659458871 + 3600)"
   ]
  },
  {
   "cell_type": "code",
   "execution_count": null,
   "id": "0d75136f",
   "metadata": {},
   "outputs": [],
   "source": [
    "df.tim"
   ]
  },
  {
   "cell_type": "code",
   "execution_count": 60,
   "id": "bd897ab7",
   "metadata": {},
   "outputs": [
    {
     "data": {
      "text/html": [
       "<div>\n",
       "<style scoped>\n",
       "    .dataframe tbody tr th:only-of-type {\n",
       "        vertical-align: middle;\n",
       "    }\n",
       "\n",
       "    .dataframe tbody tr th {\n",
       "        vertical-align: top;\n",
       "    }\n",
       "\n",
       "    .dataframe thead th {\n",
       "        text-align: right;\n",
       "    }\n",
       "</style>\n",
       "<table border=\"1\" class=\"dataframe\">\n",
       "  <thead>\n",
       "    <tr style=\"text-align: right;\">\n",
       "      <th></th>\n",
       "      <th>index</th>\n",
       "      <th>output_addr_str</th>\n",
       "      <th>epoch</th>\n",
       "      <th>hash</th>\n",
       "      <th>time</th>\n",
       "      <th>input_addr</th>\n",
       "      <th>output_addr</th>\n",
       "      <th>input_value_tot</th>\n",
       "      <th>output_value_tot</th>\n",
       "      <th>fee</th>\n",
       "      <th>...</th>\n",
       "      <th>output_vaue_tot_usd</th>\n",
       "      <th>is_batched</th>\n",
       "      <th>arrival_times</th>\n",
       "      <th>output_value_totusd_historical</th>\n",
       "      <th>n_txs_past</th>\n",
       "      <th>has_tx_history</th>\n",
       "      <th>batch_size</th>\n",
       "      <th>g_75</th>\n",
       "      <th>g</th>\n",
       "      <th>g_95</th>\n",
       "    </tr>\n",
       "  </thead>\n",
       "  <tbody>\n",
       "    <tr>\n",
       "      <th>0</th>\n",
       "      <td>31822</td>\n",
       "      <td>1111111111111111111114oLvT2,111111111111111111...</td>\n",
       "      <td>2207</td>\n",
       "      <td>ceb08c82f543781ffcb710cb882f6f57c2135959c1d0f3...</td>\n",
       "      <td>1659458871</td>\n",
       "      <td>['14p19AeJg6NubeQTa8bF2TpgbprcoivyrS']</td>\n",
       "      <td>['1111111111111111111114oLvT2', '1111111111111...</td>\n",
       "      <td>381092073</td>\n",
       "      <td>381081513</td>\n",
       "      <td>10560</td>\n",
       "      <td>...</td>\n",
       "      <td>83837.93</td>\n",
       "      <td>False</td>\n",
       "      <td>[]</td>\n",
       "      <td>1.147132e+07</td>\n",
       "      <td>0</td>\n",
       "      <td>False</td>\n",
       "      <td>1</td>\n",
       "      <td>100000 days 00:00:00</td>\n",
       "      <td>10</td>\n",
       "      <td>100000 days 00:00:00</td>\n",
       "    </tr>\n",
       "    <tr>\n",
       "      <th>1</th>\n",
       "      <td>31823</td>\n",
       "      <td>1111111111111111111114oLvT2,111111111111111111...</td>\n",
       "      <td>2212</td>\n",
       "      <td>80fb6a5203a0f07d6e9a3ea0993c882b5e2e99c400386d...</td>\n",
       "      <td>1659459153</td>\n",
       "      <td>['14p19AeJg6NubeQTa8bF2TpgbprcoivyrS']</td>\n",
       "      <td>['1111111111111111111114oLvT2', '1111111111111...</td>\n",
       "      <td>380625633</td>\n",
       "      <td>380617889</td>\n",
       "      <td>7744</td>\n",
       "      <td>...</td>\n",
       "      <td>83735.94</td>\n",
       "      <td>False</td>\n",
       "      <td>[2022-08-02 12:47:51]</td>\n",
       "      <td>1.147132e+07</td>\n",
       "      <td>1</td>\n",
       "      <td>False</td>\n",
       "      <td>1</td>\n",
       "      <td>100000 days 00:00:00</td>\n",
       "      <td>10</td>\n",
       "      <td>100000 days 00:00:00</td>\n",
       "    </tr>\n",
       "    <tr>\n",
       "      <th>2</th>\n",
       "      <td>31824</td>\n",
       "      <td>1111111111111111111114oLvT2,111111111111111111...</td>\n",
       "      <td>2213</td>\n",
       "      <td>b0e6be3bfd36a5c3af2f8dc9e89934ac9f2a2070cd241c...</td>\n",
       "      <td>1659459230</td>\n",
       "      <td>['14p19AeJg6NubeQTa8bF2TpgbprcoivyrS']</td>\n",
       "      <td>['1111111111111111111114oLvT2', '1111111111111...</td>\n",
       "      <td>380162009</td>\n",
       "      <td>380154968</td>\n",
       "      <td>7041</td>\n",
       "      <td>...</td>\n",
       "      <td>83634.09</td>\n",
       "      <td>False</td>\n",
       "      <td>[2022-08-02 12:47:51, 2022-08-02 12:52:33]</td>\n",
       "      <td>1.147132e+07</td>\n",
       "      <td>2</td>\n",
       "      <td>True</td>\n",
       "      <td>1</td>\n",
       "      <td>0 days 00:04:42</td>\n",
       "      <td>5</td>\n",
       "      <td>0 days 00:04:42</td>\n",
       "    </tr>\n",
       "    <tr>\n",
       "      <th>3</th>\n",
       "      <td>31825</td>\n",
       "      <td>1111111111111111111114oLvT2,111111111111111111...</td>\n",
       "      <td>2228</td>\n",
       "      <td>8c1f6ef1d494d443c2bc72bf49d2d69c687a2171ca8a86...</td>\n",
       "      <td>1659460138</td>\n",
       "      <td>['14p19AeJg6NubeQTa8bF2TpgbprcoivyrS']</td>\n",
       "      <td>['1111111111111111111114oLvT2', '1111111111111...</td>\n",
       "      <td>379699088</td>\n",
       "      <td>379692752</td>\n",
       "      <td>6336</td>\n",
       "      <td>...</td>\n",
       "      <td>83532.41</td>\n",
       "      <td>False</td>\n",
       "      <td>[2022-08-02 12:47:51, 2022-08-02 12:52:33, 202...</td>\n",
       "      <td>1.147132e+07</td>\n",
       "      <td>3</td>\n",
       "      <td>True</td>\n",
       "      <td>1</td>\n",
       "      <td>0 days 00:03:50.750000</td>\n",
       "      <td>5</td>\n",
       "      <td>0 days 00:04:31.750000</td>\n",
       "    </tr>\n",
       "    <tr>\n",
       "      <th>4</th>\n",
       "      <td>31826</td>\n",
       "      <td>1111111111111111111114oLvT2,111111111111111111...</td>\n",
       "      <td>2229</td>\n",
       "      <td>d43583efd1e0df7f00c780a5948bc284e9d72ab82643bb...</td>\n",
       "      <td>1659460195</td>\n",
       "      <td>['14p19AeJg6NubeQTa8bF2TpgbprcoivyrS']</td>\n",
       "      <td>['1111111111111111111114oLvT2', '1111111111111...</td>\n",
       "      <td>379236872</td>\n",
       "      <td>379229831</td>\n",
       "      <td>7041</td>\n",
       "      <td>...</td>\n",
       "      <td>83430.56</td>\n",
       "      <td>False</td>\n",
       "      <td>[2022-08-02 12:47:51, 2022-08-02 12:52:33, 202...</td>\n",
       "      <td>1.147132e+07</td>\n",
       "      <td>4</td>\n",
       "      <td>True</td>\n",
       "      <td>1</td>\n",
       "      <td>0 days 00:09:55</td>\n",
       "      <td>15</td>\n",
       "      <td>0 days 00:14:05.400000</td>\n",
       "    </tr>\n",
       "  </tbody>\n",
       "</table>\n",
       "<p>5 rows × 25 columns</p>\n",
       "</div>"
      ],
      "text/plain": [
       "   index                                    output_addr_str  epoch  \\\n",
       "0  31822  1111111111111111111114oLvT2,111111111111111111...   2207   \n",
       "1  31823  1111111111111111111114oLvT2,111111111111111111...   2212   \n",
       "2  31824  1111111111111111111114oLvT2,111111111111111111...   2213   \n",
       "3  31825  1111111111111111111114oLvT2,111111111111111111...   2228   \n",
       "4  31826  1111111111111111111114oLvT2,111111111111111111...   2229   \n",
       "\n",
       "                                                hash        time  \\\n",
       "0  ceb08c82f543781ffcb710cb882f6f57c2135959c1d0f3...  1659458871   \n",
       "1  80fb6a5203a0f07d6e9a3ea0993c882b5e2e99c400386d...  1659459153   \n",
       "2  b0e6be3bfd36a5c3af2f8dc9e89934ac9f2a2070cd241c...  1659459230   \n",
       "3  8c1f6ef1d494d443c2bc72bf49d2d69c687a2171ca8a86...  1659460138   \n",
       "4  d43583efd1e0df7f00c780a5948bc284e9d72ab82643bb...  1659460195   \n",
       "\n",
       "                               input_addr  \\\n",
       "0  ['14p19AeJg6NubeQTa8bF2TpgbprcoivyrS']   \n",
       "1  ['14p19AeJg6NubeQTa8bF2TpgbprcoivyrS']   \n",
       "2  ['14p19AeJg6NubeQTa8bF2TpgbprcoivyrS']   \n",
       "3  ['14p19AeJg6NubeQTa8bF2TpgbprcoivyrS']   \n",
       "4  ['14p19AeJg6NubeQTa8bF2TpgbprcoivyrS']   \n",
       "\n",
       "                                         output_addr  input_value_tot  \\\n",
       "0  ['1111111111111111111114oLvT2', '1111111111111...        381092073   \n",
       "1  ['1111111111111111111114oLvT2', '1111111111111...        380625633   \n",
       "2  ['1111111111111111111114oLvT2', '1111111111111...        380162009   \n",
       "3  ['1111111111111111111114oLvT2', '1111111111111...        379699088   \n",
       "4  ['1111111111111111111114oLvT2', '1111111111111...        379236872   \n",
       "\n",
       "   output_value_tot    fee  ... output_vaue_tot_usd  is_batched  \\\n",
       "0         381081513  10560  ...            83837.93       False   \n",
       "1         380617889   7744  ...            83735.94       False   \n",
       "2         380154968   7041  ...            83634.09       False   \n",
       "3         379692752   6336  ...            83532.41       False   \n",
       "4         379229831   7041  ...            83430.56       False   \n",
       "\n",
       "                                       arrival_times  \\\n",
       "0                                                 []   \n",
       "1                              [2022-08-02 12:47:51]   \n",
       "2         [2022-08-02 12:47:51, 2022-08-02 12:52:33]   \n",
       "3  [2022-08-02 12:47:51, 2022-08-02 12:52:33, 202...   \n",
       "4  [2022-08-02 12:47:51, 2022-08-02 12:52:33, 202...   \n",
       "\n",
       "  output_value_totusd_historical  n_txs_past  has_tx_history  batch_size  \\\n",
       "0                   1.147132e+07           0           False           1   \n",
       "1                   1.147132e+07           1           False           1   \n",
       "2                   1.147132e+07           2            True           1   \n",
       "3                   1.147132e+07           3            True           1   \n",
       "4                   1.147132e+07           4            True           1   \n",
       "\n",
       "                    g_75   g                   g_95  \n",
       "0   100000 days 00:00:00  10   100000 days 00:00:00  \n",
       "1   100000 days 00:00:00  10   100000 days 00:00:00  \n",
       "2        0 days 00:04:42   5        0 days 00:04:42  \n",
       "3 0 days 00:03:50.750000   5 0 days 00:04:31.750000  \n",
       "4        0 days 00:09:55  15 0 days 00:14:05.400000  \n",
       "\n",
       "[5 rows x 25 columns]"
      ]
     },
     "execution_count": 60,
     "metadata": {},
     "output_type": "execute_result"
    }
   ],
   "source": [
    "df_base.head()"
   ]
  },
  {
   "cell_type": "code",
   "execution_count": 56,
   "id": "0f9891ae",
   "metadata": {},
   "outputs": [
    {
     "data": {
      "text/plain": [
       "0           2241.093998\n",
       "1           2250.507335\n",
       "2           2216.562209\n",
       "3           2238.888656\n",
       "4           2252.205958\n",
       "               ...     \n",
       "1720970    17205.576034\n",
       "1720971    16019.747530\n",
       "1720972     6338.101157\n",
       "1720973     1962.774986\n",
       "1720974     1950.810538\n",
       "Length: 1720975, dtype: float64"
      ]
     },
     "execution_count": 56,
     "metadata": {},
     "output_type": "execute_result"
    }
   ],
   "source": [
    "df_base['epoch'] + epoch_runs"
   ]
  },
  {
   "cell_type": "markdown",
   "id": "df78fecd",
   "metadata": {},
   "source": [
    "#### Utility (Staircase vs. Uniform)"
   ]
  },
  {
   "cell_type": "code",
   "execution_count": 58,
   "id": "6c38d369",
   "metadata": {},
   "outputs": [
    {
     "data": {
      "image/png": "[encoded data removed]",
      "text/plain": [
       "<Figure size 2160x2160 with 4 Axes>"
      ]
     },
     "metadata": {
      "needs_background": "light"
     },
     "output_type": "display_data"
    }
   ],
   "source": [
    "EPS = [0.1, 0.5, 1., 2.]\n",
    "\n",
    "fig, axes = plt.subplots(2, 2, figsize=(30, 30))\n",
    "\n",
    "ds = []\n",
    "for i, ax in enumerate(axes.ravel()):\n",
    "    eps = EPS[i]\n",
    "    stair_runs, epoch_runs = test_delays(eps, iters=1)\n",
    "    ds += [get_percentiles(stair_runs, epoch_runs, eps)]\n",
    "    plot_delays(stair_runs, epoch_runs, cutoff=50, ax=ax)\n",
    "\n",
    "plt.show()"
   ]
  },
  {
   "cell_type": "code",
   "execution_count": 59,
   "id": "8f8fa2c9",
   "metadata": {},
   "outputs": [
    {
     "name": "stdout",
     "output_type": "stream",
     "text": [
      "\\begin{tabular}{llrrrrr}\n",
      " &  & p25 & p50 & p75 & p95 & Mean \\\\\n",
      " & $\\epsilon$ &  &  &  &  &  \\\\\n",
      "Staircase & 0.100000 & 134.3 & 668.9 & 4,494.0 & 67,245.2 & 12,008.7 \\\\\n",
      "Random Epoch & 0.100000 & 36.5 & 158.5 & 778.2 & 10,994.6 & 1,924.7 \\\\\n",
      "Staircase & 0.500000 & 41.3 & 185.8 & 1,173.6 & 15,545.9 & 2,781.8 \\\\\n",
      "Random Epoch & 0.500000 & 22.9 & 102.3 & 460.6 & 6,514.2 & 1,190.1 \\\\\n",
      "Staircase & 1.000000 & 26.3 & 127.5 & 701.1 & 9,464.8 & 1,693.4 \\\\\n",
      "Random Epoch & 1.000000 & 18.2 & 83.7 & 362.4 & 5,269.3 & 962.1 \\\\\n",
      "Staircase & 2.000000 & 19.0 & 90.5 & 449.8 & 6,289.4 & 1,122.9 \\\\\n",
      "Random Epoch & 2.000000 & 14.9 & 69.3 & 295.0 & 4,345.8 & 791.7 \\\\\n",
      "\\end{tabular}\n",
      "\n"
     ]
    }
   ],
   "source": [
    "print(pd.concat(ds).style.format(thousands=',', precision=1).to_latex())"
   ]
  },
  {
   "cell_type": "markdown",
   "id": "b250c846",
   "metadata": {},
   "source": [
    "## Test Attack Empirically"
   ]
  },
  {
   "cell_type": "markdown",
   "id": "9d18dad7",
   "metadata": {},
   "source": [
    "### Basic Attack - TP vs. FP"
   ]
  },
  {
   "cell_type": "code",
   "execution_count": 125,
   "id": "a28ed94d",
   "metadata": {},
   "outputs": [
    {
     "name": "stdout",
     "output_type": "stream",
     "text": [
      "TP: 4553, FP: 21727, FN: 6562\n",
      "Recall: 0.40962663067926225, Precision: 0.1732496194824962\n"
     ]
    }
   ],
   "source": [
    "n_TP = len(pairs_orig.intersection(pairs_priv))\n",
    "n_FP = len(pairs_priv) - n_TP\n",
    "n_FN = len(pairs_orig) - n_TP\n",
    "print(f'TP: {n_TP}, FP: {n_FP}, FN: {n_FN}')\n",
    "print(f'Recall: {n_TP / (n_FN + n_TP)}, Precision: {n_TP / (n_TP + n_FP)}')"
   ]
  },
  {
   "cell_type": "code",
   "execution_count": null,
   "id": "b016775a",
   "metadata": {},
   "outputs": [],
   "source": []
  }
 ],
 "metadata": {
  "kernelspec": {
   "display_name": "Python 3 (ipykernel)",
   "language": "python",
   "name": "python3"
  },
  "language_info": {
   "codemirror_mode": {
    "name": "ipython",
    "version": 3
   },
   "file_extension": ".py",
   "mimetype": "text/x-python",
   "name": "python",
   "nbconvert_exporter": "python",
   "pygments_lexer": "ipython3",
   "version": "3.10.4"
  }
 },
 "nbformat": 4,
 "nbformat_minor": 5
}
